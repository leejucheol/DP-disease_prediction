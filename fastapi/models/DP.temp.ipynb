{
  "nbformat": 4,
  "nbformat_minor": 0,
  "metadata": {
    "colab": {
      "provenance": [],
      "gpuType": "V28",
      "collapsed_sections": [
        "rTc3aSHop09y",
        "JsqZUVtvEWzs"
      ]
    },
    "kernelspec": {
      "name": "python3",
      "display_name": "Python 3"
    },
    "language_info": {
      "name": "python"
    },
    "accelerator": "TPU"
  },
  "cells": [
    {
      "cell_type": "code",
      "source": [
        "from google.colab import drive\n",
        "drive.mount('/content/drive')"
      ],
      "metadata": {
        "id": "prWYArSjWCR6",
        "outputId": "df9a9a8b-220a-4e45-a5fd-465603298d00",
        "colab": {
          "base_uri": "https://localhost:8080/"
        }
      },
      "execution_count": null,
      "outputs": [
        {
          "output_type": "stream",
          "name": "stdout",
          "text": [
            "Mounted at /content/drive\n"
          ]
        }
      ]
    },
    {
      "cell_type": "code",
      "execution_count": null,
      "metadata": {
        "id": "lJXE0MVpQoOU"
      },
      "outputs": [],
      "source": [
        "# 데이터 처리 및 분석을 위한 라이브러리 import\n",
        "import pandas as pd  # 데이터프레임 생성 및 데이터 조작\n",
        "import numpy as np  # 수학적 계산 및 배열 처리"
      ]
    },
    {
      "cell_type": "code",
      "source": [
        "data_path = \"/content/drive/MyDrive/Colab Notebooks/DP/bio_datas/\""
      ],
      "metadata": {
        "id": "upJUifwRSN7e"
      },
      "execution_count": null,
      "outputs": []
    },
    {
      "cell_type": "code",
      "source": [
        "#파일 불러오기\n",
        "dg_data = pd.read_csv(data_path + \"DG-AssocMiner_miner-disease-gene.tsv\", sep=\"\\t\")\n",
        "protein_data = pd.read_csv(data_path + \"train_data.csv\")\n",
        "gd_data = pd.read_csv(data_path + \"curated_gene_disease_associations.txt\", sep='\\t')"
      ],
      "metadata": {
        "id": "6WZuFJjnIFDE",
        "colab": {
          "base_uri": "https://localhost:8080/"
        },
        "outputId": "8051afa3-a663-433a-c0a8-583b253a16c9"
      },
      "execution_count": null,
      "outputs": [
        {
          "output_type": "stream",
          "name": "stderr",
          "text": [
            "<ipython-input-6-aa0183bad44d>:3: DtypeWarning: Columns (28) have mixed types. Specify dtype option on import or set low_memory=False.\n",
            "  protein_data = pd.read_csv(data_path + \"train_data.csv\")\n"
          ]
        }
      ]
    },
    {
      "cell_type": "code",
      "source": [
        "print(protein_data.shape)\n",
        "protein_data.head()"
      ],
      "metadata": {
        "id": "Zauf413u6yu4",
        "colab": {
          "base_uri": "https://localhost:8080/",
          "height": 163
        },
        "outputId": "588a40cf-7091-44aa-ba7b-380d5760eaa1"
      },
      "execution_count": null,
      "outputs": [
        {
          "output_type": "error",
          "ename": "NameError",
          "evalue": "name 'protein_data' is not defined",
          "traceback": [
            "\u001b[0;31m---------------------------------------------------------------------------\u001b[0m",
            "\u001b[0;31mNameError\u001b[0m                                 Traceback (most recent call last)",
            "\u001b[0;32m<ipython-input-5-96bed6ab2159>\u001b[0m in \u001b[0;36m<cell line: 0>\u001b[0;34m()\u001b[0m\n\u001b[0;32m----> 1\u001b[0;31m \u001b[0mprint\u001b[0m\u001b[0;34m(\u001b[0m\u001b[0mprotein_data\u001b[0m\u001b[0;34m.\u001b[0m\u001b[0mshape\u001b[0m\u001b[0;34m)\u001b[0m\u001b[0;34m\u001b[0m\u001b[0;34m\u001b[0m\u001b[0m\n\u001b[0m\u001b[1;32m      2\u001b[0m \u001b[0mprotein_data\u001b[0m\u001b[0;34m.\u001b[0m\u001b[0mhead\u001b[0m\u001b[0;34m(\u001b[0m\u001b[0;34m)\u001b[0m\u001b[0;34m\u001b[0m\u001b[0;34m\u001b[0m\u001b[0m\n",
            "\u001b[0;31mNameError\u001b[0m: name 'protein_data' is not defined"
          ]
        }
      ]
    },
    {
      "cell_type": "code",
      "source": [
        "print(gd_data.shape)\n",
        "gd_data.head()"
      ],
      "metadata": {
        "id": "WkSIZ6SR6ycv"
      },
      "execution_count": null,
      "outputs": []
    },
    {
      "cell_type": "code",
      "source": [
        "columns = [\n",
        "    \"UniProt_ID\", \"Entry_Name\", \"Gene ID\", \"RefSeq_Protein_ID\", \"GI_IDs\",\n",
        "    \"PDB_IDs\", \"GO_Terms\", \"UniRef100\", \"UniRef90\", \"UniRef50\",\n",
        "    \"UPI\", \"Additional_ID1\", \"Taxonomy\", \"Gene_Symbol\", \"Unused_1\",\n",
        "    \"PubMed_IDs\", \"mRNA_IDs\", \"Protein_Seq_IDs\", \"Ensembl_Gene_ID\",\n",
        "    \"Ensembl_Transcript_ID\", \"Ensembl_Protein_ID\", \"PubMed_More\"\n",
        "]\n",
        "protein_data.columns = columns[:len(protein_data.columns)]"
      ],
      "metadata": {
        "id": "A8SVOIbR7P3a"
      },
      "execution_count": null,
      "outputs": []
    },
    {
      "cell_type": "code",
      "source": [
        "protein_data.head()"
      ],
      "metadata": {
        "id": "aWMoBSuN7mxu"
      },
      "execution_count": null,
      "outputs": []
    },
    {
      "cell_type": "code",
      "source": [
        "uniprot_df = gene_protein_id_mapping[['UniProt_ID', 'Gene ID', 'GO_Terms', 'PDB_IDs', 'PubMed_IDs', 'Ensembl_Protein_ID']]\n",
        "uniprot_df.head()"
      ],
      "metadata": {
        "collapsed": true,
        "id": "GSNyJM4Z7vbL"
      },
      "execution_count": null,
      "outputs": []
    },
    {
      "cell_type": "code",
      "source": [
        "dg_data['Gene ID'] = dg_data['Gene ID'].astype(str)\n",
        "uniprot_df['Gene ID'] = uniprot_df['Gene ID'].astype(str)"
      ],
      "metadata": {
        "id": "Al5cQ8UJ89NJ"
      },
      "execution_count": null,
      "outputs": []
    },
    {
      "cell_type": "code",
      "source": [
        "# 병합 (Gene ID 기준으로)\n",
        "merged_df = dg_data.merge(uniprot_df, on='Gene ID', how='left')\n",
        "\n",
        "# 결과 확인\n",
        "print(merged_df.shape)\n",
        "merged_df.head()"
      ],
      "metadata": {
        "collapsed": true,
        "id": "wN7AErwN8PSH"
      },
      "execution_count": null,
      "outputs": []
    },
    {
      "cell_type": "markdown",
      "source": [
        "# 관련 유전자, 단백질, 질병 데이터 파일 병합\n",
        "질병 아이디와 이름, 유전자 아이디, 단백질 아이디를 기준으로 조인하여 한 데이터 파일로 만들어 준다. \\\n",
        "단백질 기능, 구조를 가지고 단백질과 질병과의 관계를 분석하고 질병을 예측하기 위해 전처리 과정으로 단계를 이어간다."
      ],
      "metadata": {
        "id": "ekaDjfWYP7AZ"
      }
    },
    {
      "cell_type": "code",
      "source": [
        "# 1. explode\n",
        "merged_df_exploded = merged_df.copy()\n",
        "merged_df_exploded['Ensembl_Protein_ID'] = merged_df_exploded['Ensembl_Protein_ID'].fillna('')\n",
        "merged_df_exploded = merged_df_exploded.assign(\n",
        "    Ensembl_Protein_ID=merged_df_exploded['Ensembl_Protein_ID'].str.split(';')\n",
        ").explode('Ensembl_Protein_ID')\n",
        "merged_df_exploded['Ensembl_Protein_ID'] = merged_df_exploded['Ensembl_Protein_ID'].str.strip()\n",
        "\n",
        "# 2. 버전 번호 제거 (.3 등 제거) → 정규식 활용\n",
        "merged_df_exploded['Protein_ID_Clean'] = merged_df_exploded['Ensembl_Protein_ID'].str.replace(r'\\.\\d+$', '', regex=True)\n",
        "\n",
        "# 3. protein_data에 맞추기 위해 앞에 \"9606.\" 붙이기\n",
        "merged_df_exploded['Protein_ID_Formatted'] = '9606.' + merged_df_exploded['Protein_ID_Clean']\n",
        "\n",
        "# 4. # Disease ID에서 # 삭제\n",
        "merged_df_exploded = merged_df_exploded.rename(columns={'# Disease ID': 'Disease ID'})\n",
        "\n",
        "merged_df_exploded.head()"
      ],
      "metadata": {
        "id": "qHsB_yLa84ZT"
      },
      "execution_count": null,
      "outputs": []
    },
    {
      "cell_type": "code",
      "source": [
        "# 1. 데이터 필요 컬럼만 추출\n",
        "protein_data = protein_data[['protein1', 'protein2', 'combined_score']]\n",
        "merged_df_exploded = merged_df_exploded[[\"Disease ID\",\"Disease Name\", \"Gene ID\",   \"UniProt_ID\",   \"GO_Terms\",   \"PDB_IDs\",   \"PubMed_IDs\", \"Protein_ID_Formatted\"]]\n",
        "\n",
        "# 2. 병합용 리스트 생성\n",
        "ppi_chunks = []\n",
        "\n",
        "# 3. chunk 단위 병합 시작\n",
        "chunk_size = 5000\n",
        "for i in range(0, len(merged_df_exploded), chunk_size):\n",
        "    chunk = merged_df_exploded.iloc[i:i+chunk_size].copy()\n",
        "\n",
        "    # protein1 병합\n",
        "    join1 = chunk.merge(protein_data, left_on='Protein_ID_Formatted', right_on='protein1', how='inner')\n",
        "\n",
        "    # protein2 병합\n",
        "    join2 = chunk.merge(protein_data, left_on='Protein_ID_Formatted', right_on='protein2', how='inner')\n",
        "\n",
        "    # 두 병합 결과 저장\n",
        "    ppi_chunks.append(pd.concat([join1, join2]))\n",
        "\n",
        "# 4. 최종 병합 결과 결합\n",
        "ppi_merged = pd.concat(ppi_chunks, ignore_index=True)\n"
      ],
      "metadata": {
        "id": "0F1WrDV8_v9Q"
      },
      "execution_count": null,
      "outputs": []
    },
    {
      "cell_type": "code",
      "source": [
        "ppi_merged.shape"
      ],
      "metadata": {
        "id": "TgeYRheq90-w",
        "collapsed": true,
        "colab": {
          "base_uri": "https://localhost:8080/",
          "height": 149
        },
        "outputId": "62652fe6-25ea-4c2e-ad27-51666a3cb04a"
      },
      "execution_count": null,
      "outputs": [
        {
          "output_type": "error",
          "ename": "NameError",
          "evalue": "name 'ppi_merged' is not defined",
          "traceback": [
            "\u001b[0;31m---------------------------------------------------------------------------\u001b[0m",
            "\u001b[0;31mNameError\u001b[0m                                 Traceback (most recent call last)",
            "\u001b[0;32m<ipython-input-44-69df3d899fd5>\u001b[0m in \u001b[0;36m<cell line: 0>\u001b[0;34m()\u001b[0m\n\u001b[0;32m----> 1\u001b[0;31m \u001b[0mppi_merged\u001b[0m\u001b[0;34m.\u001b[0m\u001b[0mshape\u001b[0m\u001b[0;34m\u001b[0m\u001b[0;34m\u001b[0m\u001b[0m\n\u001b[0m",
            "\u001b[0;31mNameError\u001b[0m: name 'ppi_merged' is not defined"
          ]
        }
      ]
    },
    {
      "cell_type": "markdown",
      "source": [
        "# 단백질 구조 데이터 파일 읽기"
      ],
      "metadata": {
        "id": "l9iOGVuTPtXb"
      }
    },
    {
      "cell_type": "code",
      "source": [
        "#파일 불러오기\n",
        "ps_data = pd.read_csv(data_path + \"homo protein structure-results-csv.csv\" , encoding='cp949')"
      ],
      "metadata": {
        "id": "fefaCkrdPtj3"
      },
      "execution_count": null,
      "outputs": []
    },
    {
      "cell_type": "code",
      "source": [
        "ps_data.shape"
      ],
      "metadata": {
        "id": "j7xkyp27a6YM",
        "collapsed": true
      },
      "execution_count": null,
      "outputs": []
    },
    {
      "cell_type": "markdown",
      "source": [
        "# ppi_merged파일과 ps_data파일 병합하기\n",
        "uniprot_ID와 uniprotAccesstion 컬럼명을 기분으로 병합\n"
      ],
      "metadata": {
        "id": "glZ7OA7dYreM"
      }
    },
    {
      "cell_type": "code",
      "source": [
        "ppi_merged['UniProt_ID'] = ppi_merged['UniProt_ID'].str.strip()\n",
        "ps_data['uniprotAccession'] = ps_data['uniprotAccession'].str.strip()"
      ],
      "metadata": {
        "id": "I07DVHvScNXl"
      },
      "execution_count": null,
      "outputs": []
    },
    {
      "cell_type": "code",
      "source": [
        "# 컬럼 공백 제거 (안전장치)\n",
        "ppi_merged.columns = [col.strip() for col in ppi_merged.columns]\n",
        "ps_data.columns = [col.strip() for col in ps_data.columns]\n",
        "\n",
        "# 병합 수행\n",
        "merged_df = pd.merge(\n",
        "    ppi_merged,\n",
        "    ps_data,\n",
        "    left_on='UniProt_ID',\n",
        "    right_on='uniprotAccession',\n",
        "    how='left'   # 기능 테이블 기준으로 유지\n",
        ")\n",
        "\n",
        "# 결과 확인\n",
        "merged_df.head()"
      ],
      "metadata": {
        "collapsed": true,
        "id": "LEJOc-I0Yq7N",
        "colab": {
          "base_uri": "https://localhost:8080/",
          "height": 224
        },
        "outputId": "1e6b5ac0-5c12-41f7-ae83-0efd795a399b"
      },
      "execution_count": null,
      "outputs": [
        {
          "output_type": "error",
          "ename": "NameError",
          "evalue": "name 'ppi_merged' is not defined",
          "traceback": [
            "\u001b[0;31m---------------------------------------------------------------------------\u001b[0m",
            "\u001b[0;31mNameError\u001b[0m                                 Traceback (most recent call last)",
            "\u001b[0;32m<ipython-input-45-7afaddd12367>\u001b[0m in \u001b[0;36m<cell line: 0>\u001b[0;34m()\u001b[0m\n\u001b[1;32m      1\u001b[0m \u001b[0;31m# 컬럼 공백 제거 (안전장치)\u001b[0m\u001b[0;34m\u001b[0m\u001b[0;34m\u001b[0m\u001b[0m\n\u001b[0;32m----> 2\u001b[0;31m \u001b[0mppi_merged\u001b[0m\u001b[0;34m.\u001b[0m\u001b[0mcolumns\u001b[0m \u001b[0;34m=\u001b[0m \u001b[0;34m[\u001b[0m\u001b[0mcol\u001b[0m\u001b[0;34m.\u001b[0m\u001b[0mstrip\u001b[0m\u001b[0;34m(\u001b[0m\u001b[0;34m)\u001b[0m \u001b[0;32mfor\u001b[0m \u001b[0mcol\u001b[0m \u001b[0;32min\u001b[0m \u001b[0mppi_merged\u001b[0m\u001b[0;34m.\u001b[0m\u001b[0mcolumns\u001b[0m\u001b[0;34m]\u001b[0m\u001b[0;34m\u001b[0m\u001b[0;34m\u001b[0m\u001b[0m\n\u001b[0m\u001b[1;32m      3\u001b[0m \u001b[0mps_data\u001b[0m\u001b[0;34m.\u001b[0m\u001b[0mcolumns\u001b[0m \u001b[0;34m=\u001b[0m \u001b[0;34m[\u001b[0m\u001b[0mcol\u001b[0m\u001b[0;34m.\u001b[0m\u001b[0mstrip\u001b[0m\u001b[0;34m(\u001b[0m\u001b[0;34m)\u001b[0m \u001b[0;32mfor\u001b[0m \u001b[0mcol\u001b[0m \u001b[0;32min\u001b[0m \u001b[0mps_data\u001b[0m\u001b[0;34m.\u001b[0m\u001b[0mcolumns\u001b[0m\u001b[0;34m]\u001b[0m\u001b[0;34m\u001b[0m\u001b[0;34m\u001b[0m\u001b[0m\n\u001b[1;32m      4\u001b[0m \u001b[0;34m\u001b[0m\u001b[0m\n\u001b[1;32m      5\u001b[0m \u001b[0;31m# 병합 수행\u001b[0m\u001b[0;34m\u001b[0m\u001b[0;34m\u001b[0m\u001b[0m\n",
            "\u001b[0;31mNameError\u001b[0m: name 'ppi_merged' is not defined"
          ]
        }
      ]
    },
    {
      "cell_type": "code",
      "source": [
        "# common_ids = set(ppi_merged['UniProt_ID'].str.strip().str.upper()) & set(ps_data['uniprotAccession'].str.strip().str.upper())\n",
        "# print(\"공통 UniProt ID 수:\", len(common_ids))\n",
        "merged_df.isnull().sum()"
      ],
      "metadata": {
        "collapsed": true,
        "id": "vDtvA3_dvknf"
      },
      "execution_count": null,
      "outputs": []
    },
    {
      "cell_type": "markdown",
      "source": [
        "# 미지의 단백질 구조 데이터 파일 읽기:\n",
        "단백질 파일이 fasta형태로 되어있어서 dataframe으로 바꿔준 다음 저장하였다."
      ],
      "metadata": {
        "id": "9ERo_ktaP0fp"
      }
    },
    {
      "cell_type": "code",
      "source": [
        "!pip install biopython"
      ],
      "metadata": {
        "id": "ZOp4MufkVNth",
        "collapsed": true
      },
      "execution_count": null,
      "outputs": []
    },
    {
      "cell_type": "code",
      "source": [
        "import pandas as pd\n",
        "from Bio import SeqIO\n",
        "\n",
        "fasta_path = data_path + \"uniprotkb_uncharacterized_protein_AND_r_2025_03_21.fasta (1)\"\n",
        "\n",
        "data = []\n",
        "for record in SeqIO.parse(fasta_path, \"fasta\"):\n",
        "    data.append({\n",
        "        \"description\": record.description,\n",
        "        \"sequence\": str(record.seq)\n",
        "    })\n",
        "\n",
        "df = pd.DataFrame(data)"
      ],
      "metadata": {
        "id": "SCrhb-BdSuU-"
      },
      "execution_count": null,
      "outputs": []
    },
    {
      "cell_type": "code",
      "source": [
        "import re\n",
        "\n",
        "# description 파싱\n",
        "def parse_description(desc):\n",
        "    pattern = (\n",
        "        r'^sp\\|(?P<uniprotAccession>\\S+)\\|(?P<entry_name>\\S+)\\s+'\n",
        "        r'(?P<protein_name>.*?)\\s+OS=(?P<organism>.*?)\\s+'\n",
        "        r'OX=(?P<tax_id>\\d+)\\s+GN=(?P<gene>\\S+)\\s+'\n",
        "        r'PE=(?P<protein_existence>\\d+)\\s+SV=(?P<sequence_version>\\d+)'\n",
        "    )\n",
        "    match = re.match(pattern, desc)\n",
        "    if match:\n",
        "        return pd.Series(match.groupdict())\n",
        "    else:\n",
        "        return pd.Series([None]*8, index=[\n",
        "            'uniprotAccession', 'entry_name', 'protein_name', 'organism',\n",
        "            'tax_id', 'gene', 'protein_existence', 'sequence_version'\n",
        "        ])\n",
        "\n",
        "# 파싱 적용\n",
        "parsed = df['description'].apply(parse_description)\n",
        "\n",
        "# 병합\n",
        "final_df = pd.concat([parsed, df['sequence']], axis=1)\n",
        "\n",
        "# 중복 컬럼 제거 및 정리\n",
        "print(final_df.head())"
      ],
      "metadata": {
        "collapsed": true,
        "id": "Nr2W7qopsx_q",
        "colab": {
          "base_uri": "https://localhost:8080/"
        },
        "outputId": "00ca00bf-55f1-426e-dd97-a7052dcd405c"
      },
      "execution_count": null,
      "outputs": [
        {
          "output_type": "stream",
          "name": "stdout",
          "text": [
            "  uniprotAccession   entry_name                            protein_name  \\\n",
            "0           O14744   ANM5_HUMAN  Protein arginine N-methyltransferase 5   \n",
            "1           O14978  ZN263_HUMAN                 Zinc finger protein 263   \n",
            "2           O15194  CTDSL_HUMAN      CTD small phosphatase-like protein   \n",
            "3           O43633  CHM2A_HUMAN  Charged multivesicular body protein 2a   \n",
            "4           O75884  RBBP9_HUMAN                  Serine hydrolase RBBP9   \n",
            "\n",
            "       organism tax_id    gene protein_existence sequence_version  \\\n",
            "0  Homo sapiens   9606   PRMT5                 1                4   \n",
            "1  Homo sapiens   9606  ZNF263                 1                2   \n",
            "2  Homo sapiens   9606  CTDSPL                 1                2   \n",
            "3  Homo sapiens   9606  CHMP2A                 1                1   \n",
            "4  Homo sapiens   9606   RBBP9                 1                2   \n",
            "\n",
            "                                            sequence  \n",
            "0  MAAMAVGGAGGSRVSSGRDLNCVPEIADTLGAVAKQGFDFLCMPVF...  \n",
            "1  MASGPGSQEREGLLIVKLEEDCAWSQELPPPDPGPSPEASHLRFRR...  \n",
            "2  MDGPAIITQVTNPKEDEGRLPGAGEKASQCNVSLKKQRSRSILSSF...  \n",
            "3  MDLLFGRRKTPEELLRQNQRALNRAMRELDRERQKLETQEKKIIAD...  \n",
            "4  MASPSKAVIVPGNGGGDVTTHGWYGWVKKELEKIPGFQCLAKNMPD...  \n"
          ]
        }
      ]
    },
    {
      "cell_type": "code",
      "source": [
        "final_df.head()"
      ],
      "metadata": {
        "id": "jKG8EAfbVQvp",
        "collapsed": true,
        "colab": {
          "base_uri": "https://localhost:8080/",
          "height": 382
        },
        "outputId": "aa57eefc-f7cd-423f-8767-e6026f5d755d"
      },
      "execution_count": null,
      "outputs": [
        {
          "output_type": "execute_result",
          "data": {
            "text/plain": [
              "  uniprotAccession   entry_name                            protein_name  \\\n",
              "0           O14744   ANM5_HUMAN  Protein arginine N-methyltransferase 5   \n",
              "1           O14978  ZN263_HUMAN                 Zinc finger protein 263   \n",
              "2           O15194  CTDSL_HUMAN      CTD small phosphatase-like protein   \n",
              "3           O43633  CHM2A_HUMAN  Charged multivesicular body protein 2a   \n",
              "4           O75884  RBBP9_HUMAN                  Serine hydrolase RBBP9   \n",
              "\n",
              "       organism tax_id    gene protein_existence sequence_version  \\\n",
              "0  Homo sapiens   9606   PRMT5                 1                4   \n",
              "1  Homo sapiens   9606  ZNF263                 1                2   \n",
              "2  Homo sapiens   9606  CTDSPL                 1                2   \n",
              "3  Homo sapiens   9606  CHMP2A                 1                1   \n",
              "4  Homo sapiens   9606   RBBP9                 1                2   \n",
              "\n",
              "                                            sequence  \n",
              "0  MAAMAVGGAGGSRVSSGRDLNCVPEIADTLGAVAKQGFDFLCMPVF...  \n",
              "1  MASGPGSQEREGLLIVKLEEDCAWSQELPPPDPGPSPEASHLRFRR...  \n",
              "2  MDGPAIITQVTNPKEDEGRLPGAGEKASQCNVSLKKQRSRSILSSF...  \n",
              "3  MDLLFGRRKTPEELLRQNQRALNRAMRELDRERQKLETQEKKIIAD...  \n",
              "4  MASPSKAVIVPGNGGGDVTTHGWYGWVKKELEKIPGFQCLAKNMPD...  "
            ],
            "text/html": [
              "\n",
              "  <div id=\"df-2f07bfc1-3506-4361-bf21-25dc3967708c\" class=\"colab-df-container\">\n",
              "    <div>\n",
              "<style scoped>\n",
              "    .dataframe tbody tr th:only-of-type {\n",
              "        vertical-align: middle;\n",
              "    }\n",
              "\n",
              "    .dataframe tbody tr th {\n",
              "        vertical-align: top;\n",
              "    }\n",
              "\n",
              "    .dataframe thead th {\n",
              "        text-align: right;\n",
              "    }\n",
              "</style>\n",
              "<table border=\"1\" class=\"dataframe\">\n",
              "  <thead>\n",
              "    <tr style=\"text-align: right;\">\n",
              "      <th></th>\n",
              "      <th>uniprotAccession</th>\n",
              "      <th>entry_name</th>\n",
              "      <th>protein_name</th>\n",
              "      <th>organism</th>\n",
              "      <th>tax_id</th>\n",
              "      <th>gene</th>\n",
              "      <th>protein_existence</th>\n",
              "      <th>sequence_version</th>\n",
              "      <th>sequence</th>\n",
              "    </tr>\n",
              "  </thead>\n",
              "  <tbody>\n",
              "    <tr>\n",
              "      <th>0</th>\n",
              "      <td>O14744</td>\n",
              "      <td>ANM5_HUMAN</td>\n",
              "      <td>Protein arginine N-methyltransferase 5</td>\n",
              "      <td>Homo sapiens</td>\n",
              "      <td>9606</td>\n",
              "      <td>PRMT5</td>\n",
              "      <td>1</td>\n",
              "      <td>4</td>\n",
              "      <td>MAAMAVGGAGGSRVSSGRDLNCVPEIADTLGAVAKQGFDFLCMPVF...</td>\n",
              "    </tr>\n",
              "    <tr>\n",
              "      <th>1</th>\n",
              "      <td>O14978</td>\n",
              "      <td>ZN263_HUMAN</td>\n",
              "      <td>Zinc finger protein 263</td>\n",
              "      <td>Homo sapiens</td>\n",
              "      <td>9606</td>\n",
              "      <td>ZNF263</td>\n",
              "      <td>1</td>\n",
              "      <td>2</td>\n",
              "      <td>MASGPGSQEREGLLIVKLEEDCAWSQELPPPDPGPSPEASHLRFRR...</td>\n",
              "    </tr>\n",
              "    <tr>\n",
              "      <th>2</th>\n",
              "      <td>O15194</td>\n",
              "      <td>CTDSL_HUMAN</td>\n",
              "      <td>CTD small phosphatase-like protein</td>\n",
              "      <td>Homo sapiens</td>\n",
              "      <td>9606</td>\n",
              "      <td>CTDSPL</td>\n",
              "      <td>1</td>\n",
              "      <td>2</td>\n",
              "      <td>MDGPAIITQVTNPKEDEGRLPGAGEKASQCNVSLKKQRSRSILSSF...</td>\n",
              "    </tr>\n",
              "    <tr>\n",
              "      <th>3</th>\n",
              "      <td>O43633</td>\n",
              "      <td>CHM2A_HUMAN</td>\n",
              "      <td>Charged multivesicular body protein 2a</td>\n",
              "      <td>Homo sapiens</td>\n",
              "      <td>9606</td>\n",
              "      <td>CHMP2A</td>\n",
              "      <td>1</td>\n",
              "      <td>1</td>\n",
              "      <td>MDLLFGRRKTPEELLRQNQRALNRAMRELDRERQKLETQEKKIIAD...</td>\n",
              "    </tr>\n",
              "    <tr>\n",
              "      <th>4</th>\n",
              "      <td>O75884</td>\n",
              "      <td>RBBP9_HUMAN</td>\n",
              "      <td>Serine hydrolase RBBP9</td>\n",
              "      <td>Homo sapiens</td>\n",
              "      <td>9606</td>\n",
              "      <td>RBBP9</td>\n",
              "      <td>1</td>\n",
              "      <td>2</td>\n",
              "      <td>MASPSKAVIVPGNGGGDVTTHGWYGWVKKELEKIPGFQCLAKNMPD...</td>\n",
              "    </tr>\n",
              "  </tbody>\n",
              "</table>\n",
              "</div>\n",
              "    <div class=\"colab-df-buttons\">\n",
              "\n",
              "  <div class=\"colab-df-container\">\n",
              "    <button class=\"colab-df-convert\" onclick=\"convertToInteractive('df-2f07bfc1-3506-4361-bf21-25dc3967708c')\"\n",
              "            title=\"Convert this dataframe to an interactive table.\"\n",
              "            style=\"display:none;\">\n",
              "\n",
              "  <svg xmlns=\"http://www.w3.org/2000/svg\" height=\"24px\" viewBox=\"0 -960 960 960\">\n",
              "    <path d=\"M120-120v-720h720v720H120Zm60-500h600v-160H180v160Zm220 220h160v-160H400v160Zm0 220h160v-160H400v160ZM180-400h160v-160H180v160Zm440 0h160v-160H620v160ZM180-180h160v-160H180v160Zm440 0h160v-160H620v160Z\"/>\n",
              "  </svg>\n",
              "    </button>\n",
              "\n",
              "  <style>\n",
              "    .colab-df-container {\n",
              "      display:flex;\n",
              "      gap: 12px;\n",
              "    }\n",
              "\n",
              "    .colab-df-convert {\n",
              "      background-color: #E8F0FE;\n",
              "      border: none;\n",
              "      border-radius: 50%;\n",
              "      cursor: pointer;\n",
              "      display: none;\n",
              "      fill: #1967D2;\n",
              "      height: 32px;\n",
              "      padding: 0 0 0 0;\n",
              "      width: 32px;\n",
              "    }\n",
              "\n",
              "    .colab-df-convert:hover {\n",
              "      background-color: #E2EBFA;\n",
              "      box-shadow: 0px 1px 2px rgba(60, 64, 67, 0.3), 0px 1px 3px 1px rgba(60, 64, 67, 0.15);\n",
              "      fill: #174EA6;\n",
              "    }\n",
              "\n",
              "    .colab-df-buttons div {\n",
              "      margin-bottom: 4px;\n",
              "    }\n",
              "\n",
              "    [theme=dark] .colab-df-convert {\n",
              "      background-color: #3B4455;\n",
              "      fill: #D2E3FC;\n",
              "    }\n",
              "\n",
              "    [theme=dark] .colab-df-convert:hover {\n",
              "      background-color: #434B5C;\n",
              "      box-shadow: 0px 1px 3px 1px rgba(0, 0, 0, 0.15);\n",
              "      filter: drop-shadow(0px 1px 2px rgba(0, 0, 0, 0.3));\n",
              "      fill: #FFFFFF;\n",
              "    }\n",
              "  </style>\n",
              "\n",
              "    <script>\n",
              "      const buttonEl =\n",
              "        document.querySelector('#df-2f07bfc1-3506-4361-bf21-25dc3967708c button.colab-df-convert');\n",
              "      buttonEl.style.display =\n",
              "        google.colab.kernel.accessAllowed ? 'block' : 'none';\n",
              "\n",
              "      async function convertToInteractive(key) {\n",
              "        const element = document.querySelector('#df-2f07bfc1-3506-4361-bf21-25dc3967708c');\n",
              "        const dataTable =\n",
              "          await google.colab.kernel.invokeFunction('convertToInteractive',\n",
              "                                                    [key], {});\n",
              "        if (!dataTable) return;\n",
              "\n",
              "        const docLinkHtml = 'Like what you see? Visit the ' +\n",
              "          '<a target=\"_blank\" href=https://colab.research.google.com/notebooks/data_table.ipynb>data table notebook</a>'\n",
              "          + ' to learn more about interactive tables.';\n",
              "        element.innerHTML = '';\n",
              "        dataTable['output_type'] = 'display_data';\n",
              "        await google.colab.output.renderOutput(dataTable, element);\n",
              "        const docLink = document.createElement('div');\n",
              "        docLink.innerHTML = docLinkHtml;\n",
              "        element.appendChild(docLink);\n",
              "      }\n",
              "    </script>\n",
              "  </div>\n",
              "\n",
              "\n",
              "<div id=\"df-75059187-7507-49bc-bc44-4c6c55588e46\">\n",
              "  <button class=\"colab-df-quickchart\" onclick=\"quickchart('df-75059187-7507-49bc-bc44-4c6c55588e46')\"\n",
              "            title=\"Suggest charts\"\n",
              "            style=\"display:none;\">\n",
              "\n",
              "<svg xmlns=\"http://www.w3.org/2000/svg\" height=\"24px\"viewBox=\"0 0 24 24\"\n",
              "     width=\"24px\">\n",
              "    <g>\n",
              "        <path d=\"M19 3H5c-1.1 0-2 .9-2 2v14c0 1.1.9 2 2 2h14c1.1 0 2-.9 2-2V5c0-1.1-.9-2-2-2zM9 17H7v-7h2v7zm4 0h-2V7h2v10zm4 0h-2v-4h2v4z\"/>\n",
              "    </g>\n",
              "</svg>\n",
              "  </button>\n",
              "\n",
              "<style>\n",
              "  .colab-df-quickchart {\n",
              "      --bg-color: #E8F0FE;\n",
              "      --fill-color: #1967D2;\n",
              "      --hover-bg-color: #E2EBFA;\n",
              "      --hover-fill-color: #174EA6;\n",
              "      --disabled-fill-color: #AAA;\n",
              "      --disabled-bg-color: #DDD;\n",
              "  }\n",
              "\n",
              "  [theme=dark] .colab-df-quickchart {\n",
              "      --bg-color: #3B4455;\n",
              "      --fill-color: #D2E3FC;\n",
              "      --hover-bg-color: #434B5C;\n",
              "      --hover-fill-color: #FFFFFF;\n",
              "      --disabled-bg-color: #3B4455;\n",
              "      --disabled-fill-color: #666;\n",
              "  }\n",
              "\n",
              "  .colab-df-quickchart {\n",
              "    background-color: var(--bg-color);\n",
              "    border: none;\n",
              "    border-radius: 50%;\n",
              "    cursor: pointer;\n",
              "    display: none;\n",
              "    fill: var(--fill-color);\n",
              "    height: 32px;\n",
              "    padding: 0;\n",
              "    width: 32px;\n",
              "  }\n",
              "\n",
              "  .colab-df-quickchart:hover {\n",
              "    background-color: var(--hover-bg-color);\n",
              "    box-shadow: 0 1px 2px rgba(60, 64, 67, 0.3), 0 1px 3px 1px rgba(60, 64, 67, 0.15);\n",
              "    fill: var(--button-hover-fill-color);\n",
              "  }\n",
              "\n",
              "  .colab-df-quickchart-complete:disabled,\n",
              "  .colab-df-quickchart-complete:disabled:hover {\n",
              "    background-color: var(--disabled-bg-color);\n",
              "    fill: var(--disabled-fill-color);\n",
              "    box-shadow: none;\n",
              "  }\n",
              "\n",
              "  .colab-df-spinner {\n",
              "    border: 2px solid var(--fill-color);\n",
              "    border-color: transparent;\n",
              "    border-bottom-color: var(--fill-color);\n",
              "    animation:\n",
              "      spin 1s steps(1) infinite;\n",
              "  }\n",
              "\n",
              "  @keyframes spin {\n",
              "    0% {\n",
              "      border-color: transparent;\n",
              "      border-bottom-color: var(--fill-color);\n",
              "      border-left-color: var(--fill-color);\n",
              "    }\n",
              "    20% {\n",
              "      border-color: transparent;\n",
              "      border-left-color: var(--fill-color);\n",
              "      border-top-color: var(--fill-color);\n",
              "    }\n",
              "    30% {\n",
              "      border-color: transparent;\n",
              "      border-left-color: var(--fill-color);\n",
              "      border-top-color: var(--fill-color);\n",
              "      border-right-color: var(--fill-color);\n",
              "    }\n",
              "    40% {\n",
              "      border-color: transparent;\n",
              "      border-right-color: var(--fill-color);\n",
              "      border-top-color: var(--fill-color);\n",
              "    }\n",
              "    60% {\n",
              "      border-color: transparent;\n",
              "      border-right-color: var(--fill-color);\n",
              "    }\n",
              "    80% {\n",
              "      border-color: transparent;\n",
              "      border-right-color: var(--fill-color);\n",
              "      border-bottom-color: var(--fill-color);\n",
              "    }\n",
              "    90% {\n",
              "      border-color: transparent;\n",
              "      border-bottom-color: var(--fill-color);\n",
              "    }\n",
              "  }\n",
              "</style>\n",
              "\n",
              "  <script>\n",
              "    async function quickchart(key) {\n",
              "      const quickchartButtonEl =\n",
              "        document.querySelector('#' + key + ' button');\n",
              "      quickchartButtonEl.disabled = true;  // To prevent multiple clicks.\n",
              "      quickchartButtonEl.classList.add('colab-df-spinner');\n",
              "      try {\n",
              "        const charts = await google.colab.kernel.invokeFunction(\n",
              "            'suggestCharts', [key], {});\n",
              "      } catch (error) {\n",
              "        console.error('Error during call to suggestCharts:', error);\n",
              "      }\n",
              "      quickchartButtonEl.classList.remove('colab-df-spinner');\n",
              "      quickchartButtonEl.classList.add('colab-df-quickchart-complete');\n",
              "    }\n",
              "    (() => {\n",
              "      let quickchartButtonEl =\n",
              "        document.querySelector('#df-75059187-7507-49bc-bc44-4c6c55588e46 button');\n",
              "      quickchartButtonEl.style.display =\n",
              "        google.colab.kernel.accessAllowed ? 'block' : 'none';\n",
              "    })();\n",
              "  </script>\n",
              "</div>\n",
              "\n",
              "    </div>\n",
              "  </div>\n"
            ],
            "application/vnd.google.colaboratory.intrinsic+json": {
              "type": "dataframe",
              "variable_name": "final_df",
              "summary": "{\n  \"name\": \"final_df\",\n  \"rows\": 576,\n  \"fields\": [\n    {\n      \"column\": \"uniprotAccession\",\n      \"properties\": {\n        \"dtype\": \"string\",\n        \"num_unique_values\": 490,\n        \"samples\": [\n          \"Q8WXQ3\",\n          \"Q8N8K9\",\n          \"Q8N1I8\"\n        ],\n        \"semantic_type\": \"\",\n        \"description\": \"\"\n      }\n    },\n    {\n      \"column\": \"entry_name\",\n      \"properties\": {\n        \"dtype\": \"string\",\n        \"num_unique_values\": 490,\n        \"samples\": [\n          \"CN183_HUMAN\",\n          \"K1958_HUMAN\",\n          \"CAAS1_HUMAN\"\n        ],\n        \"semantic_type\": \"\",\n        \"description\": \"\"\n      }\n    },\n    {\n      \"column\": \"protein_name\",\n      \"properties\": {\n        \"dtype\": \"string\",\n        \"num_unique_values\": 490,\n        \"samples\": [\n          \"Putative uncharacterized protein encoded by LINC01599\",\n          \"Uncharacterized protein KIAA1958\",\n          \"Putative uncharacterized protein encoded by CACTIN-AS1\"\n        ],\n        \"semantic_type\": \"\",\n        \"description\": \"\"\n      }\n    },\n    {\n      \"column\": \"organism\",\n      \"properties\": {\n        \"dtype\": \"category\",\n        \"num_unique_values\": 1,\n        \"samples\": [\n          \"Homo sapiens\"\n        ],\n        \"semantic_type\": \"\",\n        \"description\": \"\"\n      }\n    },\n    {\n      \"column\": \"tax_id\",\n      \"properties\": {\n        \"dtype\": \"category\",\n        \"num_unique_values\": 1,\n        \"samples\": [\n          \"9606\"\n        ],\n        \"semantic_type\": \"\",\n        \"description\": \"\"\n      }\n    },\n    {\n      \"column\": \"gene\",\n      \"properties\": {\n        \"dtype\": \"string\",\n        \"num_unique_values\": 490,\n        \"samples\": [\n          \"LINC01599\"\n        ],\n        \"semantic_type\": \"\",\n        \"description\": \"\"\n      }\n    },\n    {\n      \"column\": \"protein_existence\",\n      \"properties\": {\n        \"dtype\": \"category\",\n        \"num_unique_values\": 5,\n        \"samples\": [\n          \"5\"\n        ],\n        \"semantic_type\": \"\",\n        \"description\": \"\"\n      }\n    },\n    {\n      \"column\": \"sequence_version\",\n      \"properties\": {\n        \"dtype\": \"category\",\n        \"num_unique_values\": 5,\n        \"samples\": [\n          \"2\"\n        ],\n        \"semantic_type\": \"\",\n        \"description\": \"\"\n      }\n    },\n    {\n      \"column\": \"sequence\",\n      \"properties\": {\n        \"dtype\": \"string\",\n        \"num_unique_values\": 575,\n        \"samples\": [\n          \"MGVWGKKHLRLTHAPSPTFSHLPPSPQAGEPGIDGISLAVVCAAFIRIHPARRHPARNGSRLACTPTPRPNAGLEVVSSARVAASLPSEGGWTSGAPRSSGLSLPGSAWQPPPLPVLRKPAWPGSPAVKNESKFPNRGSRNFPRRRLPPAPVSGEPPERCKLAREIRWRLWKAHEGWGGGAKRPLGDPAWSGVKR\"\n        ],\n        \"semantic_type\": \"\",\n        \"description\": \"\"\n      }\n    }\n  ]\n}"
            }
          },
          "metadata": {},
          "execution_count": 47
        }
      ]
    },
    {
      "cell_type": "markdown",
      "source": [
        "# 미지 단백질 구조 파일 매핑 및 병합하기\n",
        "uniprotId랑 uniprotAccession이랑 병합"
      ],
      "metadata": {
        "id": "cVZAFLKgpqmS"
      }
    },
    {
      "cell_type": "code",
      "source": [
        "merged_df['UniProt_ID'] = merged_df['UniProt_ID'].str.strip()\n",
        "final_df['uniprotAccession'] = final_df['uniprotAccession'].str.strip()\n",
        "final_df = final_df.rename(columns={'uniprotAccession': 'uniprotAccession_unchar'})"
      ],
      "metadata": {
        "id": "cTjD-9GuvOCT",
        "colab": {
          "base_uri": "https://localhost:8080/",
          "height": 205
        },
        "outputId": "765b269c-5603-401d-f70b-720910f951eb"
      },
      "execution_count": null,
      "outputs": [
        {
          "output_type": "error",
          "ename": "NameError",
          "evalue": "name 'merged_df' is not defined",
          "traceback": [
            "\u001b[0;31m---------------------------------------------------------------------------\u001b[0m",
            "\u001b[0;31mNameError\u001b[0m                                 Traceback (most recent call last)",
            "\u001b[0;32m<ipython-input-48-85c4d5ad35af>\u001b[0m in \u001b[0;36m<cell line: 0>\u001b[0;34m()\u001b[0m\n\u001b[0;32m----> 1\u001b[0;31m \u001b[0mmerged_df\u001b[0m\u001b[0;34m[\u001b[0m\u001b[0;34m'UniProt_ID'\u001b[0m\u001b[0;34m]\u001b[0m \u001b[0;34m=\u001b[0m \u001b[0mmerged_df\u001b[0m\u001b[0;34m[\u001b[0m\u001b[0;34m'UniProt_ID'\u001b[0m\u001b[0;34m]\u001b[0m\u001b[0;34m.\u001b[0m\u001b[0mstr\u001b[0m\u001b[0;34m.\u001b[0m\u001b[0mstrip\u001b[0m\u001b[0;34m(\u001b[0m\u001b[0;34m)\u001b[0m\u001b[0;34m\u001b[0m\u001b[0;34m\u001b[0m\u001b[0m\n\u001b[0m\u001b[1;32m      2\u001b[0m \u001b[0mfinal_df\u001b[0m\u001b[0;34m[\u001b[0m\u001b[0;34m'uniprotAccession'\u001b[0m\u001b[0;34m]\u001b[0m \u001b[0;34m=\u001b[0m \u001b[0mfinal_df\u001b[0m\u001b[0;34m[\u001b[0m\u001b[0;34m'uniprotAccession'\u001b[0m\u001b[0;34m]\u001b[0m\u001b[0;34m.\u001b[0m\u001b[0mstr\u001b[0m\u001b[0;34m.\u001b[0m\u001b[0mstrip\u001b[0m\u001b[0;34m(\u001b[0m\u001b[0;34m)\u001b[0m\u001b[0;34m\u001b[0m\u001b[0;34m\u001b[0m\u001b[0m\n\u001b[1;32m      3\u001b[0m \u001b[0mfinal_df\u001b[0m \u001b[0;34m=\u001b[0m \u001b[0mfinal_df\u001b[0m\u001b[0;34m.\u001b[0m\u001b[0mrename\u001b[0m\u001b[0;34m(\u001b[0m\u001b[0mcolumns\u001b[0m\u001b[0;34m=\u001b[0m\u001b[0;34m{\u001b[0m\u001b[0;34m'uniprotAccession'\u001b[0m\u001b[0;34m:\u001b[0m \u001b[0;34m'uniprotAccession_unchar'\u001b[0m\u001b[0;34m}\u001b[0m\u001b[0;34m)\u001b[0m\u001b[0;34m\u001b[0m\u001b[0;34m\u001b[0m\u001b[0m\n",
            "\u001b[0;31mNameError\u001b[0m: name 'merged_df' is not defined"
          ]
        }
      ]
    },
    {
      "cell_type": "code",
      "source": [
        "# 컬럼 공백 제거 (안전장치)\n",
        "merged_df.columns = [col.strip() for col in merged_df.columns]\n",
        "final_df.columns = [col.strip() for col in final_df.columns]\n",
        "\n",
        "# 병합 수행\n",
        "merged_df = pd.merge(\n",
        "    merged_df,\n",
        "    final_df,\n",
        "    left_on='UniProt_ID',\n",
        "    right_on='uniprotAccession_unchar',\n",
        "    how='left'   # 기능 테이블 기준으로 유지\n",
        ")\n",
        "\n",
        "# 결과 확인\n",
        "merged_df.head()"
      ],
      "metadata": {
        "id": "WHYF2A1C52H2"
      },
      "execution_count": null,
      "outputs": []
    },
    {
      "cell_type": "code",
      "source": [
        "print(\"병합된 단백질 수:\", merged_df['uniprotAccession_unchar'].notnull().sum())\n",
        "print(\"병합 실패 (NaN) 수:\", merged_df['uniprotAccession_unchar'].isnull().sum())"
      ],
      "metadata": {
        "id": "mEjfRhbw6fpL"
      },
      "execution_count": null,
      "outputs": []
    },
    {
      "cell_type": "code",
      "source": [
        "# 병합이 성공한 행만 필터링 (즉, uniprotAccession_unchar가 NaN이 아닌 행)\n",
        "merged_success = merged_df[merged_df['uniprotAccession_unchar'].notnull()]"
      ],
      "metadata": {
        "id": "cD-RZ1HmtcRb"
      },
      "execution_count": null,
      "outputs": []
    },
    {
      "cell_type": "code",
      "source": [
        "merged_success.to_csv(\"/content/drive/MyDrive/Colab Notebooks/DP/bio_datas/merged_success.csv\", index=False, encoding='utf-8-sig')"
      ],
      "metadata": {
        "id": "Oz4prxfvjvRb"
      },
      "execution_count": null,
      "outputs": []
    },
    {
      "cell_type": "code",
      "source": [
        "print(\"전체 행 수:\", len(merged_success))\n",
        "print(\"NaN 수:\", merged_success['uniprotAccession_unchar'].isnull().sum())"
      ],
      "metadata": {
        "id": "unOCS6PRmqxr"
      },
      "execution_count": null,
      "outputs": []
    },
    {
      "cell_type": "markdown",
      "source": [
        "# 데이터 전처리\n",
        "데이터 파일이 너무 커서 샘플 1% 저장하여 그 부분만 테스트로 진행할 예정"
      ],
      "metadata": {
        "id": "61UBG7tCyHsH"
      }
    },
    {
      "cell_type": "code",
      "source": [
        "import pandas as pd\n",
        "\n",
        "# 1. 1% 샘플링 (무작위 추출, seed 고정하면 재현 가능)\n",
        "sample_ppi = merged_success.sample(frac=0.01, random_state=42)\n",
        "\n",
        "# 2. 저장 경로 지정\n",
        "data_path = \"/content/drive/MyDrive/Colab Notebooks/DP/bio_datas/\"\n",
        "output_file = data_path + 'merged_success_sample1.csv'  # 파일명 수정\n",
        "\n",
        "# 3. CSV 저장\n",
        "sample_ppi.to_csv(output_file, index=False)\n",
        "\n",
        "print(f'✅ 샘플 1% 저장 완료: {output_file}')"
      ],
      "metadata": {
        "id": "TIupG_3qyHcZ"
      },
      "execution_count": null,
      "outputs": []
    },
    {
      "cell_type": "code",
      "source": [
        "data_path = \"/content/drive/MyDrive/Colab Notebooks/DP/bio_datas/\"\n",
        "train_data = pd.read_csv(data_path + \"merged_success_sample1.csv\", sep=',')\n",
        "\n",
        "# 확인\n",
        "print(train_data.shape)\n",
        "train_data.head()"
      ],
      "metadata": {
        "id": "J7FFHuOEyWT1"
      },
      "execution_count": null,
      "outputs": []
    },
    {
      "cell_type": "code",
      "source": [
        "# 1️⃣ 유전자 이름 컬럼 통일 ('gene_y' → 'geneSymbol')\n",
        "if 'gene_y' in protein_data.columns:\n",
        "    protein_data.rename(columns={'gene_y': 'geneSymbol'}, inplace=True)\n",
        "\n",
        "# 2️⃣ gd_data 필터링 (신뢰도 기준)\n",
        "gd_filtered = gd_data[\n",
        "    (gd_data[\"score\"] >= 0.3) &\n",
        "    (gd_data[\"NumberOfPubmeds\"] >= 3)\n",
        "].copy()\n",
        "\n",
        "# 질병당 유전자 수 ≥ 3개 필터링\n",
        "valid_diseases = gd_filtered['diseaseId'].value_counts()\n",
        "valid_diseases = valid_diseases[valid_diseases >= 3].index\n",
        "gd_filtered = gd_filtered[gd_filtered['diseaseId'].isin(valid_diseases)]\n",
        "\n",
        "# 3️⃣ 병합: geneSymbol 기준\n",
        "merged = pd.merge(protein_data, gd_filtered, on='geneSymbol', how='inner')\n",
        "\n",
        "# 4️⃣ 결과 확인\n",
        "print(f\"병합된 데이터 수: {merged.shape[0]}\")\n",
        "display(merged[['geneSymbol', 'diseaseName', 'score', 'UniProt_ID', 'sequence']].head())\n",
        "\n",
        "# 2. 저장 경로 지정\n",
        "data_path = \"/content/drive/MyDrive/Colab Notebooks/DP/bio_datas/\"\n",
        "output_file = data_path + 'merged.csv'  # 파일명 수정\n",
        "\n",
        "# 3. CSV 저장\n",
        "merged.to_csv(output_file, index=False)\n"
      ],
      "metadata": {
        "id": "ClRHns7XBfTm",
        "colab": {
          "base_uri": "https://localhost:8080/",
          "height": 224
        },
        "outputId": "1bf478b2-e4bc-42dd-955a-01a3ae6b0dcc"
      },
      "execution_count": null,
      "outputs": [
        {
          "output_type": "stream",
          "name": "stdout",
          "text": [
            "병합된 데이터 수: 20702\n"
          ]
        },
        {
          "output_type": "display_data",
          "data": {
            "text/plain": [
              "  geneSymbol       diseaseName     score UniProt_ID  \\\n",
              "0      SCN5A  Long QT Syndrome  0.499446     Q14524   \n",
              "1      SCN5A  Long QT Syndrome  0.499446     Q14524   \n",
              "2      SCN5A  Long QT Syndrome  0.499446     Q14524   \n",
              "3      SCN5A  Long QT Syndrome  0.499446     Q14524   \n",
              "4      SCN5A  Long QT Syndrome  0.499446     Q14524   \n",
              "\n",
              "                                            sequence  \n",
              "0  MANFLLPRGTSSFRRFTRESLAAIEKRMAEKQARGSTTLQESREGL...  \n",
              "1  MANFLLPRGTSSFRRFTRESLAAIEKRMAEKQARGSTTLQESREGL...  \n",
              "2  MANFLLPRGTSSFRRFTRESLAAIEKRMAEKQARGSTTLQESREGL...  \n",
              "3  MANFLLPRGTSSFRRFTRESLAAIEKRMAEKQARGSTTLQESREGL...  \n",
              "4  MANFLLPRGTSSFRRFTRESLAAIEKRMAEKQARGSTTLQESREGL...  "
            ],
            "text/html": [
              "\n",
              "  <div id=\"df-b3e7342b-fe80-49ed-ac04-84f40385e513\" class=\"colab-df-container\">\n",
              "    <div>\n",
              "<style scoped>\n",
              "    .dataframe tbody tr th:only-of-type {\n",
              "        vertical-align: middle;\n",
              "    }\n",
              "\n",
              "    .dataframe tbody tr th {\n",
              "        vertical-align: top;\n",
              "    }\n",
              "\n",
              "    .dataframe thead th {\n",
              "        text-align: right;\n",
              "    }\n",
              "</style>\n",
              "<table border=\"1\" class=\"dataframe\">\n",
              "  <thead>\n",
              "    <tr style=\"text-align: right;\">\n",
              "      <th></th>\n",
              "      <th>geneSymbol</th>\n",
              "      <th>diseaseName</th>\n",
              "      <th>score</th>\n",
              "      <th>UniProt_ID</th>\n",
              "      <th>sequence</th>\n",
              "    </tr>\n",
              "  </thead>\n",
              "  <tbody>\n",
              "    <tr>\n",
              "      <th>0</th>\n",
              "      <td>SCN5A</td>\n",
              "      <td>Long QT Syndrome</td>\n",
              "      <td>0.499446</td>\n",
              "      <td>Q14524</td>\n",
              "      <td>MANFLLPRGTSSFRRFTRESLAAIEKRMAEKQARGSTTLQESREGL...</td>\n",
              "    </tr>\n",
              "    <tr>\n",
              "      <th>1</th>\n",
              "      <td>SCN5A</td>\n",
              "      <td>Long QT Syndrome</td>\n",
              "      <td>0.499446</td>\n",
              "      <td>Q14524</td>\n",
              "      <td>MANFLLPRGTSSFRRFTRESLAAIEKRMAEKQARGSTTLQESREGL...</td>\n",
              "    </tr>\n",
              "    <tr>\n",
              "      <th>2</th>\n",
              "      <td>SCN5A</td>\n",
              "      <td>Long QT Syndrome</td>\n",
              "      <td>0.499446</td>\n",
              "      <td>Q14524</td>\n",
              "      <td>MANFLLPRGTSSFRRFTRESLAAIEKRMAEKQARGSTTLQESREGL...</td>\n",
              "    </tr>\n",
              "    <tr>\n",
              "      <th>3</th>\n",
              "      <td>SCN5A</td>\n",
              "      <td>Long QT Syndrome</td>\n",
              "      <td>0.499446</td>\n",
              "      <td>Q14524</td>\n",
              "      <td>MANFLLPRGTSSFRRFTRESLAAIEKRMAEKQARGSTTLQESREGL...</td>\n",
              "    </tr>\n",
              "    <tr>\n",
              "      <th>4</th>\n",
              "      <td>SCN5A</td>\n",
              "      <td>Long QT Syndrome</td>\n",
              "      <td>0.499446</td>\n",
              "      <td>Q14524</td>\n",
              "      <td>MANFLLPRGTSSFRRFTRESLAAIEKRMAEKQARGSTTLQESREGL...</td>\n",
              "    </tr>\n",
              "  </tbody>\n",
              "</table>\n",
              "</div>\n",
              "    <div class=\"colab-df-buttons\">\n",
              "\n",
              "  <div class=\"colab-df-container\">\n",
              "    <button class=\"colab-df-convert\" onclick=\"convertToInteractive('df-b3e7342b-fe80-49ed-ac04-84f40385e513')\"\n",
              "            title=\"Convert this dataframe to an interactive table.\"\n",
              "            style=\"display:none;\">\n",
              "\n",
              "  <svg xmlns=\"http://www.w3.org/2000/svg\" height=\"24px\" viewBox=\"0 -960 960 960\">\n",
              "    <path d=\"M120-120v-720h720v720H120Zm60-500h600v-160H180v160Zm220 220h160v-160H400v160Zm0 220h160v-160H400v160ZM180-400h160v-160H180v160Zm440 0h160v-160H620v160ZM180-180h160v-160H180v160Zm440 0h160v-160H620v160Z\"/>\n",
              "  </svg>\n",
              "    </button>\n",
              "\n",
              "  <style>\n",
              "    .colab-df-container {\n",
              "      display:flex;\n",
              "      gap: 12px;\n",
              "    }\n",
              "\n",
              "    .colab-df-convert {\n",
              "      background-color: #E8F0FE;\n",
              "      border: none;\n",
              "      border-radius: 50%;\n",
              "      cursor: pointer;\n",
              "      display: none;\n",
              "      fill: #1967D2;\n",
              "      height: 32px;\n",
              "      padding: 0 0 0 0;\n",
              "      width: 32px;\n",
              "    }\n",
              "\n",
              "    .colab-df-convert:hover {\n",
              "      background-color: #E2EBFA;\n",
              "      box-shadow: 0px 1px 2px rgba(60, 64, 67, 0.3), 0px 1px 3px 1px rgba(60, 64, 67, 0.15);\n",
              "      fill: #174EA6;\n",
              "    }\n",
              "\n",
              "    .colab-df-buttons div {\n",
              "      margin-bottom: 4px;\n",
              "    }\n",
              "\n",
              "    [theme=dark] .colab-df-convert {\n",
              "      background-color: #3B4455;\n",
              "      fill: #D2E3FC;\n",
              "    }\n",
              "\n",
              "    [theme=dark] .colab-df-convert:hover {\n",
              "      background-color: #434B5C;\n",
              "      box-shadow: 0px 1px 3px 1px rgba(0, 0, 0, 0.15);\n",
              "      filter: drop-shadow(0px 1px 2px rgba(0, 0, 0, 0.3));\n",
              "      fill: #FFFFFF;\n",
              "    }\n",
              "  </style>\n",
              "\n",
              "    <script>\n",
              "      const buttonEl =\n",
              "        document.querySelector('#df-b3e7342b-fe80-49ed-ac04-84f40385e513 button.colab-df-convert');\n",
              "      buttonEl.style.display =\n",
              "        google.colab.kernel.accessAllowed ? 'block' : 'none';\n",
              "\n",
              "      async function convertToInteractive(key) {\n",
              "        const element = document.querySelector('#df-b3e7342b-fe80-49ed-ac04-84f40385e513');\n",
              "        const dataTable =\n",
              "          await google.colab.kernel.invokeFunction('convertToInteractive',\n",
              "                                                    [key], {});\n",
              "        if (!dataTable) return;\n",
              "\n",
              "        const docLinkHtml = 'Like what you see? Visit the ' +\n",
              "          '<a target=\"_blank\" href=https://colab.research.google.com/notebooks/data_table.ipynb>data table notebook</a>'\n",
              "          + ' to learn more about interactive tables.';\n",
              "        element.innerHTML = '';\n",
              "        dataTable['output_type'] = 'display_data';\n",
              "        await google.colab.output.renderOutput(dataTable, element);\n",
              "        const docLink = document.createElement('div');\n",
              "        docLink.innerHTML = docLinkHtml;\n",
              "        element.appendChild(docLink);\n",
              "      }\n",
              "    </script>\n",
              "  </div>\n",
              "\n",
              "\n",
              "<div id=\"df-ee1785ef-fb71-403c-8608-8f02c625fd70\">\n",
              "  <button class=\"colab-df-quickchart\" onclick=\"quickchart('df-ee1785ef-fb71-403c-8608-8f02c625fd70')\"\n",
              "            title=\"Suggest charts\"\n",
              "            style=\"display:none;\">\n",
              "\n",
              "<svg xmlns=\"http://www.w3.org/2000/svg\" height=\"24px\"viewBox=\"0 0 24 24\"\n",
              "     width=\"24px\">\n",
              "    <g>\n",
              "        <path d=\"M19 3H5c-1.1 0-2 .9-2 2v14c0 1.1.9 2 2 2h14c1.1 0 2-.9 2-2V5c0-1.1-.9-2-2-2zM9 17H7v-7h2v7zm4 0h-2V7h2v10zm4 0h-2v-4h2v4z\"/>\n",
              "    </g>\n",
              "</svg>\n",
              "  </button>\n",
              "\n",
              "<style>\n",
              "  .colab-df-quickchart {\n",
              "      --bg-color: #E8F0FE;\n",
              "      --fill-color: #1967D2;\n",
              "      --hover-bg-color: #E2EBFA;\n",
              "      --hover-fill-color: #174EA6;\n",
              "      --disabled-fill-color: #AAA;\n",
              "      --disabled-bg-color: #DDD;\n",
              "  }\n",
              "\n",
              "  [theme=dark] .colab-df-quickchart {\n",
              "      --bg-color: #3B4455;\n",
              "      --fill-color: #D2E3FC;\n",
              "      --hover-bg-color: #434B5C;\n",
              "      --hover-fill-color: #FFFFFF;\n",
              "      --disabled-bg-color: #3B4455;\n",
              "      --disabled-fill-color: #666;\n",
              "  }\n",
              "\n",
              "  .colab-df-quickchart {\n",
              "    background-color: var(--bg-color);\n",
              "    border: none;\n",
              "    border-radius: 50%;\n",
              "    cursor: pointer;\n",
              "    display: none;\n",
              "    fill: var(--fill-color);\n",
              "    height: 32px;\n",
              "    padding: 0;\n",
              "    width: 32px;\n",
              "  }\n",
              "\n",
              "  .colab-df-quickchart:hover {\n",
              "    background-color: var(--hover-bg-color);\n",
              "    box-shadow: 0 1px 2px rgba(60, 64, 67, 0.3), 0 1px 3px 1px rgba(60, 64, 67, 0.15);\n",
              "    fill: var(--button-hover-fill-color);\n",
              "  }\n",
              "\n",
              "  .colab-df-quickchart-complete:disabled,\n",
              "  .colab-df-quickchart-complete:disabled:hover {\n",
              "    background-color: var(--disabled-bg-color);\n",
              "    fill: var(--disabled-fill-color);\n",
              "    box-shadow: none;\n",
              "  }\n",
              "\n",
              "  .colab-df-spinner {\n",
              "    border: 2px solid var(--fill-color);\n",
              "    border-color: transparent;\n",
              "    border-bottom-color: var(--fill-color);\n",
              "    animation:\n",
              "      spin 1s steps(1) infinite;\n",
              "  }\n",
              "\n",
              "  @keyframes spin {\n",
              "    0% {\n",
              "      border-color: transparent;\n",
              "      border-bottom-color: var(--fill-color);\n",
              "      border-left-color: var(--fill-color);\n",
              "    }\n",
              "    20% {\n",
              "      border-color: transparent;\n",
              "      border-left-color: var(--fill-color);\n",
              "      border-top-color: var(--fill-color);\n",
              "    }\n",
              "    30% {\n",
              "      border-color: transparent;\n",
              "      border-left-color: var(--fill-color);\n",
              "      border-top-color: var(--fill-color);\n",
              "      border-right-color: var(--fill-color);\n",
              "    }\n",
              "    40% {\n",
              "      border-color: transparent;\n",
              "      border-right-color: var(--fill-color);\n",
              "      border-top-color: var(--fill-color);\n",
              "    }\n",
              "    60% {\n",
              "      border-color: transparent;\n",
              "      border-right-color: var(--fill-color);\n",
              "    }\n",
              "    80% {\n",
              "      border-color: transparent;\n",
              "      border-right-color: var(--fill-color);\n",
              "      border-bottom-color: var(--fill-color);\n",
              "    }\n",
              "    90% {\n",
              "      border-color: transparent;\n",
              "      border-bottom-color: var(--fill-color);\n",
              "    }\n",
              "  }\n",
              "</style>\n",
              "\n",
              "  <script>\n",
              "    async function quickchart(key) {\n",
              "      const quickchartButtonEl =\n",
              "        document.querySelector('#' + key + ' button');\n",
              "      quickchartButtonEl.disabled = true;  // To prevent multiple clicks.\n",
              "      quickchartButtonEl.classList.add('colab-df-spinner');\n",
              "      try {\n",
              "        const charts = await google.colab.kernel.invokeFunction(\n",
              "            'suggestCharts', [key], {});\n",
              "      } catch (error) {\n",
              "        console.error('Error during call to suggestCharts:', error);\n",
              "      }\n",
              "      quickchartButtonEl.classList.remove('colab-df-spinner');\n",
              "      quickchartButtonEl.classList.add('colab-df-quickchart-complete');\n",
              "    }\n",
              "    (() => {\n",
              "      let quickchartButtonEl =\n",
              "        document.querySelector('#df-ee1785ef-fb71-403c-8608-8f02c625fd70 button');\n",
              "      quickchartButtonEl.style.display =\n",
              "        google.colab.kernel.accessAllowed ? 'block' : 'none';\n",
              "    })();\n",
              "  </script>\n",
              "</div>\n",
              "\n",
              "    </div>\n",
              "  </div>\n"
            ],
            "application/vnd.google.colaboratory.intrinsic+json": {
              "type": "dataframe",
              "summary": "{\n  \"name\": \"merged\",\n  \"rows\": 5,\n  \"fields\": [\n    {\n      \"column\": \"geneSymbol\",\n      \"properties\": {\n        \"dtype\": \"category\",\n        \"num_unique_values\": 1,\n        \"samples\": [\n          \"SCN5A\"\n        ],\n        \"semantic_type\": \"\",\n        \"description\": \"\"\n      }\n    },\n    {\n      \"column\": \"diseaseName\",\n      \"properties\": {\n        \"dtype\": \"category\",\n        \"num_unique_values\": 1,\n        \"samples\": [\n          \"Long QT Syndrome\"\n        ],\n        \"semantic_type\": \"\",\n        \"description\": \"\"\n      }\n    },\n    {\n      \"column\": \"score\",\n      \"properties\": {\n        \"dtype\": \"number\",\n        \"std\": 0.0,\n        \"min\": 0.499445703297403,\n        \"max\": 0.499445703297403,\n        \"num_unique_values\": 1,\n        \"samples\": [\n          0.499445703297403\n        ],\n        \"semantic_type\": \"\",\n        \"description\": \"\"\n      }\n    },\n    {\n      \"column\": \"UniProt_ID\",\n      \"properties\": {\n        \"dtype\": \"category\",\n        \"num_unique_values\": 1,\n        \"samples\": [\n          \"Q14524\"\n        ],\n        \"semantic_type\": \"\",\n        \"description\": \"\"\n      }\n    },\n    {\n      \"column\": \"sequence\",\n      \"properties\": {\n        \"dtype\": \"category\",\n        \"num_unique_values\": 1,\n        \"samples\": [\n          \"MANFLLPRGTSSFRRFTRESLAAIEKRMAEKQARGSTTLQESREGLPEEEAPRPQLDLQASKKLPDLYGNPPQELIGEPLEDLDPFYSTQKTFIVLNKGKTIFRFSATNALYVLSPFHPIRRAAVKILVHSLFNMLIMCTILTNCVFMAQHDPPPWTKYVEYTFTAIYTFESLVKILARGFCLHAFTFLRDPWNWLDFSVIIMAYTTEFVDLGNVSALRTFRVLRALKTISVISGLKTIVGALIQSVKKLADVMVLTVFCLSVFALIGLQLFMGNLRHKCVRNFTALNGTNGSVEADGLVWESLDLYLSDPENYLLKNGTSDVLLCGNSSDAGTCPEGYRCLKAGENPDHGYTSFDSFAWAFLALFRLMTQDCWERLYQQTLRSAGKIYMIFFMLVIFLGSFYLVNLILAVVAMAYEEQNQATIAETEEKEKRFQEAMEMLKKEHEALTIRGVDTVSRSSLEMSPLAPVNSHERRSKRRKRMSSGTEECGEDRLPKSDSEDGPRAMNHLSLTRGLSRTSMKPRSSRGSIFTFRRRDLGSEADFADDENSTAGESESHHTSLLVPWPLRRTSAQGQPSPGTSAPGHALHGKKNSTVDCNGVVSLLGAGDPEATSPGSHLLRPVMLEHPPDTTTPSEEPGGPQMLTSQAPCVDGFEEPGARQRALSAVSVLTSALEELEESRHKCPPCWNRLAQRYLIWECCPLWMSIKQGVKLVVMDPFTDLTITMCIVLNTLFMALEHYNMTSEFEEMLQVGNLVFTGIFTAEMTFKIIALDPYYYFQQGWNIFDSIIVILSLMELGLSRMSNLSVLRSFRLLRVFKLAKSWPTLNTLIKIIGNSVGALGNLTLVLAIIVFIFAVVGMQLFGKNYSELRDSDSGLLPRWHMMDFFHAFLIIFRILCGEWIETMWDCMEVSGQSLCLLVFLLVMVIGNLVVLNLFLALLLSSFSADNLTAPDEDREMNNLQLALARIQRGLRFVKRTTWDFCCGLLRQRPQKPAALAAQGQLPSCIATPYSPPPPETEKVPPTRKETRFEEGEQPGQGTPGDPEPVCVPIAVAESDTDDQEEDEENSLGTEEESSKQQESQPVSGGPEAPPDSRTWSQVSATASSEAEASASQADWRQQWKAEPQAPGCGETPEDSCSEGSTADMTNTAELLEQIPDLGQDVKDPEDCFTEGCVRRCPCCAVDTTQAPGKVWWRLRKTCYHIVEHSWFETFIIFMILLSSGALAFEDIYLEERKTIKVLLEYADKMFTYVFVLEMLLKWVAYGFKKYFTNAWCWLDFLIVDVSLVSLVANTLGFAEMGPIKSLRTLRALRPLRALSRFEGMRVVVNALVGAIPSIMNVLLVCLIFWLIFSIMGVNLFAGKFGRCINQTEGDLPLNYTIVNNKSQCESLNLTGELYWTKVKVNFDNVGAGYLALLQVATFKGWMDIMYAAVDSRGYEEQPQWEYNLYMYIYFVIFIIFGSFFTLNLFIGVIIDNFNQQKKKLGGQDIFMTEEQKKYYNAMKKLGSKKPQKPIPRPLNKYQGFIFDIVTKQAFDVTIMFLICLNMVTMMVETDDQSPEKINILAKINLLFVAIFTGECIVKLAALRHYYFTNSWNIFDFVVVILSIVGTVLSDIIQKYFFSPTLFRVIRLARIGRILRLIRGAKGIRTLLFALMMSLPALFNIGLLLFLVMFIYSIFGMANFAYVKWEAGIDDMFNFQTFANSMLCLFQITTSAGWDGLLSPILNTGPPYCDPTLPNSNGSRGDCGSPAVGILFFTTYIIISFLIVVNMYIAIILENFSVATEESTEPLSEDDFDMFYEIWEKFDPEATQFIEYSVLSDFADALSEPLRIAKPNQISLINMDLPMVSGDRIHCMDILFAFTKRVLGESGEMDALKIQMEEKFMAANPSKISYEPITTTLRRKHEEVSAMVIQRAFRRHLLQRSLKHASFLFRQQAGSGLSEEDAPEREGLIAYVMSENFSRPLGPPSSSSISSTSFPPSYDSVTRATSDNLQVRGSDYSHSEDLADFPPSPDRDRESIV\"\n        ],\n        \"semantic_type\": \"\",\n        \"description\": \"\"\n      }\n    }\n  ]\n}"
            }
          },
          "metadata": {}
        }
      ]
    },
    {
      "cell_type": "code",
      "source": [
        "merged.head()\n"
      ],
      "metadata": {
        "id": "M1UlhzlfC8Kg",
        "colab": {
          "base_uri": "https://localhost:8080/",
          "height": 706
        },
        "outputId": "d97e9851-7508-446c-989b-91e3c5b4e74f"
      },
      "execution_count": null,
      "outputs": [
        {
          "output_type": "execute_result",
          "data": {
            "text/plain": [
              "   index Disease ID                 Disease Name  Gene ID UniProt_ID  \\\n",
              "0   9732   C1142166  Brugada Syndrome (disorder)     6331     Q14524   \n",
              "1   9733   C1142166  Brugada Syndrome (disorder)     6331     Q14524   \n",
              "2   9734   C1142166  Brugada Syndrome (disorder)     6331     Q14524   \n",
              "3   9735   C1142166  Brugada Syndrome (disorder)     6331     Q14524   \n",
              "4   9736   C1142166  Brugada Syndrome (disorder)     6331     Q14524   \n",
              "\n",
              "                                            GO_Terms  \\\n",
              "0  GO:0005901; GO:0009986; GO:0005783; GO:0014704...   \n",
              "1  GO:0005901; GO:0009986; GO:0005783; GO:0014704...   \n",
              "2  GO:0005901; GO:0009986; GO:0005783; GO:0014704...   \n",
              "3  GO:0005901; GO:0009986; GO:0005783; GO:0014704...   \n",
              "4  GO:0005901; GO:0009986; GO:0005783; GO:0014704...   \n",
              "\n",
              "                                             PDB_IDs  \\\n",
              "0  2KBI:A; 2L53:B; 4DCK:A; 4DJC:B; 4JQ0:D; 4OVN:F...   \n",
              "1  2KBI:A; 2L53:B; 4DCK:A; 4DJC:B; 4JQ0:D; 4OVN:F...   \n",
              "2  2KBI:A; 2L53:B; 4DCK:A; 4DJC:B; 4JQ0:D; 4OVN:F...   \n",
              "3  2KBI:A; 2L53:B; 4DCK:A; 4DJC:B; 4JQ0:D; 4OVN:F...   \n",
              "4  2KBI:A; 2L53:B; 4DCK:A; 4DJC:B; 4JQ0:D; 4OVN:F...   \n",
              "\n",
              "                                          PubMed_IDs         protein1  \\\n",
              "0  1309946; 12358675; 14500339; 12454206; 1611520...  ENSP00000328968   \n",
              "1  1309946; 12358675; 14500339; 12454206; 1611520...  ENSP00000328968   \n",
              "2  1309946; 12358675; 14500339; 12454206; 1611520...  ENSP00000328968   \n",
              "3  1309946; 12358675; 14500339; 12454206; 1611520...  ENSP00000328968   \n",
              "4  1309946; 12358675; 14500339; 12454206; 1611520...  ENSP00000328968   \n",
              "\n",
              "          protein2  ...  sequence_version  \\\n",
              "0  ENSP00000261007  ...                 2   \n",
              "1  ENSP00000302486  ...                 2   \n",
              "2  ENSP00000311005  ...                 2   \n",
              "3  ENSP00000265362  ...                 2   \n",
              "4  ENSP00000431822  ...                 2   \n",
              "\n",
              "                                            sequence geneId  \\\n",
              "0  MANFLLPRGTSSFRRFTRESLAAIEKRMAEKQARGSTTLQESREGL...   6331   \n",
              "1  MANFLLPRGTSSFRRFTRESLAAIEKRMAEKQARGSTTLQESREGL...   6331   \n",
              "2  MANFLLPRGTSSFRRFTRESLAAIEKRMAEKQARGSTTLQESREGL...   6331   \n",
              "3  MANFLLPRGTSSFRRFTRESLAAIEKRMAEKQARGSTTLQESREGL...   6331   \n",
              "4  MANFLLPRGTSSFRRFTRESLAAIEKRMAEKQARGSTTLQESREGL...   6331   \n",
              "\n",
              "                                            geneName      diseaseId  \\\n",
              "0  sodium channel, voltage gated, type V alpha su...  umls:C0023976   \n",
              "1  sodium channel, voltage gated, type V alpha su...  umls:C0023976   \n",
              "2  sodium channel, voltage gated, type V alpha su...  umls:C0023976   \n",
              "3  sodium channel, voltage gated, type V alpha su...  umls:C0023976   \n",
              "4  sodium channel, voltage gated, type V alpha su...  umls:C0023976   \n",
              "\n",
              "        diseaseName     score NumberOfPubmeds              associationType  \\\n",
              "0  Long QT Syndrome  0.499446             135  Biomarker, GeneticVariation   \n",
              "1  Long QT Syndrome  0.499446             135  Biomarker, GeneticVariation   \n",
              "2  Long QT Syndrome  0.499446             135  Biomarker, GeneticVariation   \n",
              "3  Long QT Syndrome  0.499446             135  Biomarker, GeneticVariation   \n",
              "4  Long QT Syndrome  0.499446             135  Biomarker, GeneticVariation   \n",
              "\n",
              "                                   source  \n",
              "0  BeFree, CLINVAR, CTD_human, GAD, LHGDN  \n",
              "1  BeFree, CLINVAR, CTD_human, GAD, LHGDN  \n",
              "2  BeFree, CLINVAR, CTD_human, GAD, LHGDN  \n",
              "3  BeFree, CLINVAR, CTD_human, GAD, LHGDN  \n",
              "4  BeFree, CLINVAR, CTD_human, GAD, LHGDN  \n",
              "\n",
              "[5 rows x 45 columns]"
            ],
            "text/html": [
              "\n",
              "  <div id=\"df-aafc4612-b3bd-4eaf-a4f8-50267186268f\" class=\"colab-df-container\">\n",
              "    <div>\n",
              "<style scoped>\n",
              "    .dataframe tbody tr th:only-of-type {\n",
              "        vertical-align: middle;\n",
              "    }\n",
              "\n",
              "    .dataframe tbody tr th {\n",
              "        vertical-align: top;\n",
              "    }\n",
              "\n",
              "    .dataframe thead th {\n",
              "        text-align: right;\n",
              "    }\n",
              "</style>\n",
              "<table border=\"1\" class=\"dataframe\">\n",
              "  <thead>\n",
              "    <tr style=\"text-align: right;\">\n",
              "      <th></th>\n",
              "      <th>index</th>\n",
              "      <th>Disease ID</th>\n",
              "      <th>Disease Name</th>\n",
              "      <th>Gene ID</th>\n",
              "      <th>UniProt_ID</th>\n",
              "      <th>GO_Terms</th>\n",
              "      <th>PDB_IDs</th>\n",
              "      <th>PubMed_IDs</th>\n",
              "      <th>protein1</th>\n",
              "      <th>protein2</th>\n",
              "      <th>...</th>\n",
              "      <th>sequence_version</th>\n",
              "      <th>sequence</th>\n",
              "      <th>geneId</th>\n",
              "      <th>geneName</th>\n",
              "      <th>diseaseId</th>\n",
              "      <th>diseaseName</th>\n",
              "      <th>score</th>\n",
              "      <th>NumberOfPubmeds</th>\n",
              "      <th>associationType</th>\n",
              "      <th>source</th>\n",
              "    </tr>\n",
              "  </thead>\n",
              "  <tbody>\n",
              "    <tr>\n",
              "      <th>0</th>\n",
              "      <td>9732</td>\n",
              "      <td>C1142166</td>\n",
              "      <td>Brugada Syndrome (disorder)</td>\n",
              "      <td>6331</td>\n",
              "      <td>Q14524</td>\n",
              "      <td>GO:0005901; GO:0009986; GO:0005783; GO:0014704...</td>\n",
              "      <td>2KBI:A; 2L53:B; 4DCK:A; 4DJC:B; 4JQ0:D; 4OVN:F...</td>\n",
              "      <td>1309946; 12358675; 14500339; 12454206; 1611520...</td>\n",
              "      <td>ENSP00000328968</td>\n",
              "      <td>ENSP00000261007</td>\n",
              "      <td>...</td>\n",
              "      <td>2</td>\n",
              "      <td>MANFLLPRGTSSFRRFTRESLAAIEKRMAEKQARGSTTLQESREGL...</td>\n",
              "      <td>6331</td>\n",
              "      <td>sodium channel, voltage gated, type V alpha su...</td>\n",
              "      <td>umls:C0023976</td>\n",
              "      <td>Long QT Syndrome</td>\n",
              "      <td>0.499446</td>\n",
              "      <td>135</td>\n",
              "      <td>Biomarker, GeneticVariation</td>\n",
              "      <td>BeFree, CLINVAR, CTD_human, GAD, LHGDN</td>\n",
              "    </tr>\n",
              "    <tr>\n",
              "      <th>1</th>\n",
              "      <td>9733</td>\n",
              "      <td>C1142166</td>\n",
              "      <td>Brugada Syndrome (disorder)</td>\n",
              "      <td>6331</td>\n",
              "      <td>Q14524</td>\n",
              "      <td>GO:0005901; GO:0009986; GO:0005783; GO:0014704...</td>\n",
              "      <td>2KBI:A; 2L53:B; 4DCK:A; 4DJC:B; 4JQ0:D; 4OVN:F...</td>\n",
              "      <td>1309946; 12358675; 14500339; 12454206; 1611520...</td>\n",
              "      <td>ENSP00000328968</td>\n",
              "      <td>ENSP00000302486</td>\n",
              "      <td>...</td>\n",
              "      <td>2</td>\n",
              "      <td>MANFLLPRGTSSFRRFTRESLAAIEKRMAEKQARGSTTLQESREGL...</td>\n",
              "      <td>6331</td>\n",
              "      <td>sodium channel, voltage gated, type V alpha su...</td>\n",
              "      <td>umls:C0023976</td>\n",
              "      <td>Long QT Syndrome</td>\n",
              "      <td>0.499446</td>\n",
              "      <td>135</td>\n",
              "      <td>Biomarker, GeneticVariation</td>\n",
              "      <td>BeFree, CLINVAR, CTD_human, GAD, LHGDN</td>\n",
              "    </tr>\n",
              "    <tr>\n",
              "      <th>2</th>\n",
              "      <td>9734</td>\n",
              "      <td>C1142166</td>\n",
              "      <td>Brugada Syndrome (disorder)</td>\n",
              "      <td>6331</td>\n",
              "      <td>Q14524</td>\n",
              "      <td>GO:0005901; GO:0009986; GO:0005783; GO:0014704...</td>\n",
              "      <td>2KBI:A; 2L53:B; 4DCK:A; 4DJC:B; 4JQ0:D; 4OVN:F...</td>\n",
              "      <td>1309946; 12358675; 14500339; 12454206; 1611520...</td>\n",
              "      <td>ENSP00000328968</td>\n",
              "      <td>ENSP00000311005</td>\n",
              "      <td>...</td>\n",
              "      <td>2</td>\n",
              "      <td>MANFLLPRGTSSFRRFTRESLAAIEKRMAEKQARGSTTLQESREGL...</td>\n",
              "      <td>6331</td>\n",
              "      <td>sodium channel, voltage gated, type V alpha su...</td>\n",
              "      <td>umls:C0023976</td>\n",
              "      <td>Long QT Syndrome</td>\n",
              "      <td>0.499446</td>\n",
              "      <td>135</td>\n",
              "      <td>Biomarker, GeneticVariation</td>\n",
              "      <td>BeFree, CLINVAR, CTD_human, GAD, LHGDN</td>\n",
              "    </tr>\n",
              "    <tr>\n",
              "      <th>3</th>\n",
              "      <td>9735</td>\n",
              "      <td>C1142166</td>\n",
              "      <td>Brugada Syndrome (disorder)</td>\n",
              "      <td>6331</td>\n",
              "      <td>Q14524</td>\n",
              "      <td>GO:0005901; GO:0009986; GO:0005783; GO:0014704...</td>\n",
              "      <td>2KBI:A; 2L53:B; 4DCK:A; 4DJC:B; 4JQ0:D; 4OVN:F...</td>\n",
              "      <td>1309946; 12358675; 14500339; 12454206; 1611520...</td>\n",
              "      <td>ENSP00000328968</td>\n",
              "      <td>ENSP00000265362</td>\n",
              "      <td>...</td>\n",
              "      <td>2</td>\n",
              "      <td>MANFLLPRGTSSFRRFTRESLAAIEKRMAEKQARGSTTLQESREGL...</td>\n",
              "      <td>6331</td>\n",
              "      <td>sodium channel, voltage gated, type V alpha su...</td>\n",
              "      <td>umls:C0023976</td>\n",
              "      <td>Long QT Syndrome</td>\n",
              "      <td>0.499446</td>\n",
              "      <td>135</td>\n",
              "      <td>Biomarker, GeneticVariation</td>\n",
              "      <td>BeFree, CLINVAR, CTD_human, GAD, LHGDN</td>\n",
              "    </tr>\n",
              "    <tr>\n",
              "      <th>4</th>\n",
              "      <td>9736</td>\n",
              "      <td>C1142166</td>\n",
              "      <td>Brugada Syndrome (disorder)</td>\n",
              "      <td>6331</td>\n",
              "      <td>Q14524</td>\n",
              "      <td>GO:0005901; GO:0009986; GO:0005783; GO:0014704...</td>\n",
              "      <td>2KBI:A; 2L53:B; 4DCK:A; 4DJC:B; 4JQ0:D; 4OVN:F...</td>\n",
              "      <td>1309946; 12358675; 14500339; 12454206; 1611520...</td>\n",
              "      <td>ENSP00000328968</td>\n",
              "      <td>ENSP00000431822</td>\n",
              "      <td>...</td>\n",
              "      <td>2</td>\n",
              "      <td>MANFLLPRGTSSFRRFTRESLAAIEKRMAEKQARGSTTLQESREGL...</td>\n",
              "      <td>6331</td>\n",
              "      <td>sodium channel, voltage gated, type V alpha su...</td>\n",
              "      <td>umls:C0023976</td>\n",
              "      <td>Long QT Syndrome</td>\n",
              "      <td>0.499446</td>\n",
              "      <td>135</td>\n",
              "      <td>Biomarker, GeneticVariation</td>\n",
              "      <td>BeFree, CLINVAR, CTD_human, GAD, LHGDN</td>\n",
              "    </tr>\n",
              "  </tbody>\n",
              "</table>\n",
              "<p>5 rows × 45 columns</p>\n",
              "</div>\n",
              "    <div class=\"colab-df-buttons\">\n",
              "\n",
              "  <div class=\"colab-df-container\">\n",
              "    <button class=\"colab-df-convert\" onclick=\"convertToInteractive('df-aafc4612-b3bd-4eaf-a4f8-50267186268f')\"\n",
              "            title=\"Convert this dataframe to an interactive table.\"\n",
              "            style=\"display:none;\">\n",
              "\n",
              "  <svg xmlns=\"http://www.w3.org/2000/svg\" height=\"24px\" viewBox=\"0 -960 960 960\">\n",
              "    <path d=\"M120-120v-720h720v720H120Zm60-500h600v-160H180v160Zm220 220h160v-160H400v160Zm0 220h160v-160H400v160ZM180-400h160v-160H180v160Zm440 0h160v-160H620v160ZM180-180h160v-160H180v160Zm440 0h160v-160H620v160Z\"/>\n",
              "  </svg>\n",
              "    </button>\n",
              "\n",
              "  <style>\n",
              "    .colab-df-container {\n",
              "      display:flex;\n",
              "      gap: 12px;\n",
              "    }\n",
              "\n",
              "    .colab-df-convert {\n",
              "      background-color: #E8F0FE;\n",
              "      border: none;\n",
              "      border-radius: 50%;\n",
              "      cursor: pointer;\n",
              "      display: none;\n",
              "      fill: #1967D2;\n",
              "      height: 32px;\n",
              "      padding: 0 0 0 0;\n",
              "      width: 32px;\n",
              "    }\n",
              "\n",
              "    .colab-df-convert:hover {\n",
              "      background-color: #E2EBFA;\n",
              "      box-shadow: 0px 1px 2px rgba(60, 64, 67, 0.3), 0px 1px 3px 1px rgba(60, 64, 67, 0.15);\n",
              "      fill: #174EA6;\n",
              "    }\n",
              "\n",
              "    .colab-df-buttons div {\n",
              "      margin-bottom: 4px;\n",
              "    }\n",
              "\n",
              "    [theme=dark] .colab-df-convert {\n",
              "      background-color: #3B4455;\n",
              "      fill: #D2E3FC;\n",
              "    }\n",
              "\n",
              "    [theme=dark] .colab-df-convert:hover {\n",
              "      background-color: #434B5C;\n",
              "      box-shadow: 0px 1px 3px 1px rgba(0, 0, 0, 0.15);\n",
              "      filter: drop-shadow(0px 1px 2px rgba(0, 0, 0, 0.3));\n",
              "      fill: #FFFFFF;\n",
              "    }\n",
              "  </style>\n",
              "\n",
              "    <script>\n",
              "      const buttonEl =\n",
              "        document.querySelector('#df-aafc4612-b3bd-4eaf-a4f8-50267186268f button.colab-df-convert');\n",
              "      buttonEl.style.display =\n",
              "        google.colab.kernel.accessAllowed ? 'block' : 'none';\n",
              "\n",
              "      async function convertToInteractive(key) {\n",
              "        const element = document.querySelector('#df-aafc4612-b3bd-4eaf-a4f8-50267186268f');\n",
              "        const dataTable =\n",
              "          await google.colab.kernel.invokeFunction('convertToInteractive',\n",
              "                                                    [key], {});\n",
              "        if (!dataTable) return;\n",
              "\n",
              "        const docLinkHtml = 'Like what you see? Visit the ' +\n",
              "          '<a target=\"_blank\" href=https://colab.research.google.com/notebooks/data_table.ipynb>data table notebook</a>'\n",
              "          + ' to learn more about interactive tables.';\n",
              "        element.innerHTML = '';\n",
              "        dataTable['output_type'] = 'display_data';\n",
              "        await google.colab.output.renderOutput(dataTable, element);\n",
              "        const docLink = document.createElement('div');\n",
              "        docLink.innerHTML = docLinkHtml;\n",
              "        element.appendChild(docLink);\n",
              "      }\n",
              "    </script>\n",
              "  </div>\n",
              "\n",
              "\n",
              "<div id=\"df-7edf9035-dc14-4d37-818c-446e349b8659\">\n",
              "  <button class=\"colab-df-quickchart\" onclick=\"quickchart('df-7edf9035-dc14-4d37-818c-446e349b8659')\"\n",
              "            title=\"Suggest charts\"\n",
              "            style=\"display:none;\">\n",
              "\n",
              "<svg xmlns=\"http://www.w3.org/2000/svg\" height=\"24px\"viewBox=\"0 0 24 24\"\n",
              "     width=\"24px\">\n",
              "    <g>\n",
              "        <path d=\"M19 3H5c-1.1 0-2 .9-2 2v14c0 1.1.9 2 2 2h14c1.1 0 2-.9 2-2V5c0-1.1-.9-2-2-2zM9 17H7v-7h2v7zm4 0h-2V7h2v10zm4 0h-2v-4h2v4z\"/>\n",
              "    </g>\n",
              "</svg>\n",
              "  </button>\n",
              "\n",
              "<style>\n",
              "  .colab-df-quickchart {\n",
              "      --bg-color: #E8F0FE;\n",
              "      --fill-color: #1967D2;\n",
              "      --hover-bg-color: #E2EBFA;\n",
              "      --hover-fill-color: #174EA6;\n",
              "      --disabled-fill-color: #AAA;\n",
              "      --disabled-bg-color: #DDD;\n",
              "  }\n",
              "\n",
              "  [theme=dark] .colab-df-quickchart {\n",
              "      --bg-color: #3B4455;\n",
              "      --fill-color: #D2E3FC;\n",
              "      --hover-bg-color: #434B5C;\n",
              "      --hover-fill-color: #FFFFFF;\n",
              "      --disabled-bg-color: #3B4455;\n",
              "      --disabled-fill-color: #666;\n",
              "  }\n",
              "\n",
              "  .colab-df-quickchart {\n",
              "    background-color: var(--bg-color);\n",
              "    border: none;\n",
              "    border-radius: 50%;\n",
              "    cursor: pointer;\n",
              "    display: none;\n",
              "    fill: var(--fill-color);\n",
              "    height: 32px;\n",
              "    padding: 0;\n",
              "    width: 32px;\n",
              "  }\n",
              "\n",
              "  .colab-df-quickchart:hover {\n",
              "    background-color: var(--hover-bg-color);\n",
              "    box-shadow: 0 1px 2px rgba(60, 64, 67, 0.3), 0 1px 3px 1px rgba(60, 64, 67, 0.15);\n",
              "    fill: var(--button-hover-fill-color);\n",
              "  }\n",
              "\n",
              "  .colab-df-quickchart-complete:disabled,\n",
              "  .colab-df-quickchart-complete:disabled:hover {\n",
              "    background-color: var(--disabled-bg-color);\n",
              "    fill: var(--disabled-fill-color);\n",
              "    box-shadow: none;\n",
              "  }\n",
              "\n",
              "  .colab-df-spinner {\n",
              "    border: 2px solid var(--fill-color);\n",
              "    border-color: transparent;\n",
              "    border-bottom-color: var(--fill-color);\n",
              "    animation:\n",
              "      spin 1s steps(1) infinite;\n",
              "  }\n",
              "\n",
              "  @keyframes spin {\n",
              "    0% {\n",
              "      border-color: transparent;\n",
              "      border-bottom-color: var(--fill-color);\n",
              "      border-left-color: var(--fill-color);\n",
              "    }\n",
              "    20% {\n",
              "      border-color: transparent;\n",
              "      border-left-color: var(--fill-color);\n",
              "      border-top-color: var(--fill-color);\n",
              "    }\n",
              "    30% {\n",
              "      border-color: transparent;\n",
              "      border-left-color: var(--fill-color);\n",
              "      border-top-color: var(--fill-color);\n",
              "      border-right-color: var(--fill-color);\n",
              "    }\n",
              "    40% {\n",
              "      border-color: transparent;\n",
              "      border-right-color: var(--fill-color);\n",
              "      border-top-color: var(--fill-color);\n",
              "    }\n",
              "    60% {\n",
              "      border-color: transparent;\n",
              "      border-right-color: var(--fill-color);\n",
              "    }\n",
              "    80% {\n",
              "      border-color: transparent;\n",
              "      border-right-color: var(--fill-color);\n",
              "      border-bottom-color: var(--fill-color);\n",
              "    }\n",
              "    90% {\n",
              "      border-color: transparent;\n",
              "      border-bottom-color: var(--fill-color);\n",
              "    }\n",
              "  }\n",
              "</style>\n",
              "\n",
              "  <script>\n",
              "    async function quickchart(key) {\n",
              "      const quickchartButtonEl =\n",
              "        document.querySelector('#' + key + ' button');\n",
              "      quickchartButtonEl.disabled = true;  // To prevent multiple clicks.\n",
              "      quickchartButtonEl.classList.add('colab-df-spinner');\n",
              "      try {\n",
              "        const charts = await google.colab.kernel.invokeFunction(\n",
              "            'suggestCharts', [key], {});\n",
              "      } catch (error) {\n",
              "        console.error('Error during call to suggestCharts:', error);\n",
              "      }\n",
              "      quickchartButtonEl.classList.remove('colab-df-spinner');\n",
              "      quickchartButtonEl.classList.add('colab-df-quickchart-complete');\n",
              "    }\n",
              "    (() => {\n",
              "      let quickchartButtonEl =\n",
              "        document.querySelector('#df-7edf9035-dc14-4d37-818c-446e349b8659 button');\n",
              "      quickchartButtonEl.style.display =\n",
              "        google.colab.kernel.accessAllowed ? 'block' : 'none';\n",
              "    })();\n",
              "  </script>\n",
              "</div>\n",
              "\n",
              "    </div>\n",
              "  </div>\n"
            ],
            "application/vnd.google.colaboratory.intrinsic+json": {
              "type": "dataframe",
              "variable_name": "merged"
            }
          },
          "metadata": {},
          "execution_count": 8
        }
      ]
    },
    {
      "cell_type": "markdown",
      "source": [
        "# 딥러닝 학습\n",
        "위 병합한 데이터 파일을 가지고 딥러닝 학습을 시작한다. \\\n",
        "미지의 단백질이 어떤 단백질하고 관련이 있고, 어느 질병을 초래할 것인지 예측하는 코드를 구현한다. \\\n",
        "GCN과 GAT 모델을 통해 둘을 비교하여 성능을 평가한다."
      ],
      "metadata": {
        "id": "URTUu-qoEtDA"
      }
    },
    {
      "cell_type": "markdown",
      "source": [
        "# 여기부터 시작하면됩니다."
      ],
      "metadata": {
        "id": "mccpfUm7wzzj"
      }
    },
    {
      "cell_type": "code",
      "source": [
        "# ✅ PyTorch + PyG 설치 (CPU 버전)\n",
        "!pip install torch torchvision torchaudio --index-url https://download.pytorch.org/whl/cpu\n",
        "!pip install torch-scatter -f https://data.pyg.org/whl/torch-2.0.0+cpu.html\n",
        "!pip install torch-sparse -f https://data.pyg.org/whl/torch-2.0.0+cpu.html\n",
        "!pip install torch-cluster -f https://data.pyg.org/whl/torch-2.0.0+cpu.html\n",
        "!pip install torch-spline-conv -f https://data.pyg.org/whl/torch-2.0.0+cpu.html\n",
        "!pip install torch-geometric"
      ],
      "metadata": {
        "collapsed": true,
        "id": "0xmIc1q_IBbS",
        "colab": {
          "base_uri": "https://localhost:8080/"
        },
        "outputId": "9b50f9e0-82e3-4b61-e2e0-da41688baea1"
      },
      "execution_count": null,
      "outputs": [
        {
          "output_type": "stream",
          "name": "stdout",
          "text": [
            "Looking in indexes: https://download.pytorch.org/whl/cpu\n",
            "Requirement already satisfied: torch in /usr/local/lib/python3.11/dist-packages (2.6.0+cpu)\n",
            "Requirement already satisfied: torchvision in /usr/local/lib/python3.11/dist-packages (0.21.0+cpu)\n",
            "Requirement already satisfied: torchaudio in /usr/local/lib/python3.11/dist-packages (2.6.0+cpu)\n",
            "Requirement already satisfied: filelock in /usr/local/lib/python3.11/dist-packages (from torch) (3.18.0)\n",
            "Requirement already satisfied: typing-extensions>=4.10.0 in /usr/local/lib/python3.11/dist-packages (from torch) (4.13.1)\n",
            "Requirement already satisfied: networkx in /usr/local/lib/python3.11/dist-packages (from torch) (3.4.2)\n",
            "Requirement already satisfied: jinja2 in /usr/local/lib/python3.11/dist-packages (from torch) (3.1.6)\n",
            "Requirement already satisfied: fsspec in /usr/local/lib/python3.11/dist-packages (from torch) (2025.3.2)\n",
            "Requirement already satisfied: sympy==1.13.1 in /usr/local/lib/python3.11/dist-packages (from torch) (1.13.1)\n",
            "Requirement already satisfied: mpmath<1.4,>=1.1.0 in /usr/local/lib/python3.11/dist-packages (from sympy==1.13.1->torch) (1.3.0)\n",
            "Requirement already satisfied: numpy in /usr/local/lib/python3.11/dist-packages (from torchvision) (2.0.2)\n",
            "Requirement already satisfied: pillow!=8.3.*,>=5.3.0 in /usr/local/lib/python3.11/dist-packages (from torchvision) (11.1.0)\n",
            "Requirement already satisfied: MarkupSafe>=2.0 in /usr/local/lib/python3.11/dist-packages (from jinja2->torch) (3.0.2)\n",
            "Looking in links: https://data.pyg.org/whl/torch-2.0.0+cpu.html\n",
            "Requirement already satisfied: torch-scatter in /usr/local/lib/python3.11/dist-packages (2.1.2+pt20cpu)\n",
            "Looking in links: https://data.pyg.org/whl/torch-2.0.0+cpu.html\n",
            "Requirement already satisfied: torch-sparse in /usr/local/lib/python3.11/dist-packages (0.6.18+pt20cpu)\n",
            "Requirement already satisfied: scipy in /usr/local/lib/python3.11/dist-packages (from torch-sparse) (1.14.1)\n",
            "Requirement already satisfied: numpy<2.3,>=1.23.5 in /usr/local/lib/python3.11/dist-packages (from scipy->torch-sparse) (2.0.2)\n",
            "Looking in links: https://data.pyg.org/whl/torch-2.0.0+cpu.html\n",
            "Requirement already satisfied: torch-cluster in /usr/local/lib/python3.11/dist-packages (1.6.3+pt20cpu)\n",
            "Requirement already satisfied: scipy in /usr/local/lib/python3.11/dist-packages (from torch-cluster) (1.14.1)\n",
            "Requirement already satisfied: numpy<2.3,>=1.23.5 in /usr/local/lib/python3.11/dist-packages (from scipy->torch-cluster) (2.0.2)\n",
            "Looking in links: https://data.pyg.org/whl/torch-2.0.0+cpu.html\n",
            "Requirement already satisfied: torch-spline-conv in /usr/local/lib/python3.11/dist-packages (1.2.2+pt20cpu)\n",
            "Requirement already satisfied: torch-geometric in /usr/local/lib/python3.11/dist-packages (2.6.1)\n",
            "Requirement already satisfied: aiohttp in /usr/local/lib/python3.11/dist-packages (from torch-geometric) (3.11.15)\n",
            "Requirement already satisfied: fsspec in /usr/local/lib/python3.11/dist-packages (from torch-geometric) (2025.3.2)\n",
            "Requirement already satisfied: jinja2 in /usr/local/lib/python3.11/dist-packages (from torch-geometric) (3.1.6)\n",
            "Requirement already satisfied: numpy in /usr/local/lib/python3.11/dist-packages (from torch-geometric) (2.0.2)\n",
            "Requirement already satisfied: psutil>=5.8.0 in /usr/local/lib/python3.11/dist-packages (from torch-geometric) (5.9.5)\n",
            "Requirement already satisfied: pyparsing in /usr/local/lib/python3.11/dist-packages (from torch-geometric) (3.2.3)\n",
            "Requirement already satisfied: requests in /usr/local/lib/python3.11/dist-packages (from torch-geometric) (2.32.3)\n",
            "Requirement already satisfied: tqdm in /usr/local/lib/python3.11/dist-packages (from torch-geometric) (4.67.1)\n",
            "Requirement already satisfied: aiohappyeyeballs>=2.3.0 in /usr/local/lib/python3.11/dist-packages (from aiohttp->torch-geometric) (2.6.1)\n",
            "Requirement already satisfied: aiosignal>=1.1.2 in /usr/local/lib/python3.11/dist-packages (from aiohttp->torch-geometric) (1.3.2)\n",
            "Requirement already satisfied: attrs>=17.3.0 in /usr/local/lib/python3.11/dist-packages (from aiohttp->torch-geometric) (25.3.0)\n",
            "Requirement already satisfied: frozenlist>=1.1.1 in /usr/local/lib/python3.11/dist-packages (from aiohttp->torch-geometric) (1.5.0)\n",
            "Requirement already satisfied: multidict<7.0,>=4.5 in /usr/local/lib/python3.11/dist-packages (from aiohttp->torch-geometric) (6.2.0)\n",
            "Requirement already satisfied: propcache>=0.2.0 in /usr/local/lib/python3.11/dist-packages (from aiohttp->torch-geometric) (0.3.1)\n",
            "Requirement already satisfied: yarl<2.0,>=1.17.0 in /usr/local/lib/python3.11/dist-packages (from aiohttp->torch-geometric) (1.18.3)\n",
            "Requirement already satisfied: MarkupSafe>=2.0 in /usr/local/lib/python3.11/dist-packages (from jinja2->torch-geometric) (3.0.2)\n",
            "Requirement already satisfied: charset-normalizer<4,>=2 in /usr/local/lib/python3.11/dist-packages (from requests->torch-geometric) (3.4.1)\n",
            "Requirement already satisfied: idna<4,>=2.5 in /usr/local/lib/python3.11/dist-packages (from requests->torch-geometric) (3.10)\n",
            "Requirement already satisfied: urllib3<3,>=1.21.1 in /usr/local/lib/python3.11/dist-packages (from requests->torch-geometric) (2.3.0)\n",
            "Requirement already satisfied: certifi>=2017.4.17 in /usr/local/lib/python3.11/dist-packages (from requests->torch-geometric) (2025.1.31)\n"
          ]
        }
      ]
    },
    {
      "cell_type": "markdown",
      "source": [
        "# 아래 코드는 피처로 단백질-단백질 관계, 단백질 구조, 유전자-질병 관계를 피처로 재생성 하기 위함."
      ],
      "metadata": {
        "id": "dIC_0wTDjeuw"
      }
    },
    {
      "cell_type": "code",
      "source": [
        "import pandas as pd\n",
        "import numpy as np\n",
        "import torch\n",
        "import networkx as nx\n",
        "from torch_geometric.data import Data\n",
        "from sklearn.preprocessing import LabelEncoder\n",
        "from sklearn.preprocessing import StandardScaler, OneHotEncoder\n",
        "\n",
        "# 1️⃣ 데이터 불러오기\n",
        "df = pd.read_csv(\"/content/drive/MyDrive/Colab Notebooks/DP/bio_datas/train_data.csv\")\n",
        "\n",
        "# 1. 노드 ID 추출 및 인덱싱\n",
        "all_proteins = pd.unique(df[['protein1', 'protein2']].values.ravel())\n",
        "protein_to_idx = {protein: idx for idx, protein in enumerate(all_proteins)}\n",
        "\n",
        "# 2. edge_index 생성\n",
        "edges = df[['protein1', 'protein2']].dropna().values\n",
        "edge_index = torch.tensor([[protein_to_idx[a], protein_to_idx[b]] for a, b in edges], dtype=torch.long).T\n",
        "\n",
        "# 3. 자동 피처 생성\n",
        "df_feat = df.copy()\n",
        "\n",
        "# 2️⃣ 결측값 처리\n",
        "df_feat['sequence'] = df_feat['sequence'].fillna('')\n",
        "df_feat['GO_Terms'] = df_feat['GO_Terms'].fillna('')\n",
        "df_feat['PubMed_IDs'] = df_feat['PubMed_IDs'].fillna('')\n",
        "df_feat['globalMetricValue'] = df_feat['globalMetricValue'].fillna(0)\n",
        "df_feat['organismScientificName'] = df_feat.get('organismScientificName', pd.Series(['Unknown'] * len(df_feat))).fillna('Unknown')\n",
        "\n",
        "# 수치형 피처 생성\n",
        "df_feat['sequence_length'] = df_feat['sequence'].fillna('').apply(len)\n",
        "df_feat['go_term_count'] = df_feat['GO_Terms'].fillna('').apply(lambda x: len(x.split(';')) if x else 0)\n",
        "df_feat['pubmed_count'] = df_feat['PubMed_IDs'].fillna('').apply(lambda x: len(str(x).split(';')) if pd.notnull(x) else 0)\n",
        "\n",
        "# 그래프 기반 피처\n",
        "ppi_edges = df[['protein1', 'protein2', 'combined_score']].dropna()\n",
        "ppi_graph = nx.from_pandas_edgelist(ppi_edges, source='protein1', target='protein2', edge_attr='combined_score')\n",
        "\n",
        "ppi_degree = {prot: val for prot, val in ppi_graph.degree()}\n",
        "ppi_avg_score = {node: np.mean([d['combined_score'] for _, _, d in ppi_graph.edges(node, data=True)]) for node in ppi_graph.nodes()}\n",
        "\n",
        "df_feat['ppi_degree'] = df_feat['protein1'].map(ppi_degree).fillna(0)\n",
        "df_feat['ppi_avg_score'] = df_feat['protein1'].map(ppi_avg_score).fillna(0)\n",
        "\n",
        "df_feat['pdb_count'] = df_feat['PDB_IDs'].fillna('').apply(lambda x: len(x.split(';')) if x else 0)\n",
        "\n",
        "gene_disease_count = df_feat.groupby('Gene ID')['Disease ID'].nunique()\n",
        "df_feat['gene_disease_count'] = df_feat['Gene ID'].map(gene_disease_count).fillna(0)\n",
        "\n",
        "# 수치형 스케일링\n",
        "numerical_features = ['sequence_length', 'go_term_count', 'pubmed_count', 'globalMetricValue','ppi_degree', 'ppi_avg_score', 'pdb_count', 'gene_disease_count']\n",
        "scaler = StandardScaler()\n",
        "scaled_numerical = scaler.fit_transform(df_feat[numerical_features])\n",
        "\n",
        "# 범주형 처리\n",
        "categorical_features = ['organismScientificName']\n",
        "df_feat[categorical_features] = df_feat[categorical_features].fillna('Unknown')\n",
        "encoder = OneHotEncoder(sparse_output=False, handle_unknown='ignore')\n",
        "encoded_categorical = encoder.fit_transform(df_feat[categorical_features])\n",
        "\n",
        "# 병합\n",
        "feature_matrix = np.hstack([scaled_numerical, encoded_categorical])\n",
        "df_feat['protein_index'] = df_feat['protein1'].map(protein_to_idx)\n",
        "\n",
        "# 단백질별 평균 피처 생성\n",
        "node_features = np.zeros((len(protein_to_idx), feature_matrix.shape[1]))\n",
        "counts = df_feat['protein_index'].value_counts().to_dict()\n",
        "\n",
        "for idx, row in df_feat.iterrows():\n",
        "    p_idx = row['protein_index']\n",
        "    if pd.notnull(p_idx):\n",
        "        node_features[int(p_idx)] += feature_matrix[idx]\n",
        "\n",
        "for prot, idx in protein_to_idx.items():\n",
        "    count = counts.get(idx, 1)\n",
        "    node_features[idx] /= count\n",
        "\n",
        "x = torch.tensor(node_features, dtype=torch.float)\n",
        "\n",
        "# 라벨 생성 (protein1에 포함되면 1, 아니면 0)\n",
        "labeled_proteins = set(df['protein1'].dropna())\n",
        "y = torch.tensor([1 if prot in labeled_proteins else 0 for prot in all_proteins], dtype=torch.long)\n",
        "\n",
        "# PyG 데이터 객체\n",
        "data = Data(x=x, edge_index=edge_index, y=y)\n",
        "data"
      ],
      "metadata": {
        "id": "BtNGlGEC00VZ",
        "colab": {
          "base_uri": "https://localhost:8080/"
        },
        "outputId": "d049bc80-96df-4255-fb09-c26b507894ab"
      },
      "execution_count": null,
      "outputs": [
        {
          "output_type": "stream",
          "name": "stderr",
          "text": [
            "<ipython-input-6-1afbdc702a0d>:10: DtypeWarning: Columns (28) have mixed types. Specify dtype option on import or set low_memory=False.\n",
            "  df = pd.read_csv(\"/content/drive/MyDrive/Colab Notebooks/DP/bio_datas/train_data.csv\")\n"
          ]
        },
        {
          "output_type": "execute_result",
          "data": {
            "text/plain": [
              "Data(x=[13378, 10], edge_index=[2, 340156], y=[13378])"
            ]
          },
          "metadata": {},
          "execution_count": 6
        }
      ]
    },
    {
      "cell_type": "markdown",
      "source": [
        "# 2번째 GCN 피처 설정 및 학습"
      ],
      "metadata": {
        "id": "r8ey-P55avCK"
      }
    },
    {
      "cell_type": "code",
      "source": [
        "import pandas as pd\n",
        "import numpy as np\n",
        "import torch\n",
        "import networkx as nx\n",
        "from torch_geometric.data import Data\n",
        "from sklearn.preprocessing import LabelEncoder\n",
        "from sklearn.preprocessing import StandardScaler, OneHotEncoder"
      ],
      "metadata": {
        "id": "vefzfGgSaqEJ"
      },
      "execution_count": null,
      "outputs": []
    },
    {
      "cell_type": "code",
      "source": [
        "cols_to_drop = [\n",
        "    'PubMed_IDs', 'entryId', 'sequenceChecksum', 'sequenceVersionDate',\n",
        "    'uniprotDescription', 'organismScientificName', 'globalMetricValue',\n",
        "    'uniprotStart', 'uniprotEnd', 'uniprotSequence', 'modelCreatedDate',\n",
        "    'latestVersion', 'allVersions', '_version_', 'proteinShortNames',\n",
        "    'uniprotAccession_unchar', 'entry_name', 'protein_name', 'organism',\n",
        "    'protein_existence', 'sequence_version', 'UniProt_ID', 'uniprotId',\n",
        "    'gene_x', 'gene_y', 'organismScientificNameT', 'tax_id', 'taxId',\n",
        "    'organismCommonNames', 'isAMdata', 'Protein_ID_Formatted',\n",
        "    'isReviewed', 'isReferenceProteome', 'geneSynonyms'\n",
        "]\n",
        "\n",
        "df_main = df.drop(columns=cols_to_drop, errors='ignore')\n",
        "print(df_main.shape)\n"
      ],
      "metadata": {
        "colab": {
          "base_uri": "https://localhost:8080/"
        },
        "id": "WWuN69Kna1z2",
        "outputId": "a185c167-2b4a-43c6-9ac6-d9712ed4ccd4"
      },
      "execution_count": null,
      "outputs": [
        {
          "output_type": "stream",
          "name": "stdout",
          "text": [
            "(340156, 12)\n"
          ]
        }
      ]
    },
    {
      "cell_type": "code",
      "source": [
        "# 매핑 테이블 생성\n",
        "id_map = df_main[['uniprotAccession', 'protein1']].dropna().drop_duplicates()\n",
        "protein1_to_uniprot = dict(zip(id_map['protein1'], id_map['uniprotAccession']))\n",
        "# protein2 매핑 추가\n",
        "id_map_2 = df_main[['uniprotAccession', 'protein2']].dropna().drop_duplicates()\n",
        "protein2_to_uniprot = dict(zip(id_map_2['protein2'], id_map_2['uniprotAccession']))\n",
        "\n",
        "# 두 개 합치기\n",
        "combined_mapping = {**protein1_to_uniprot, **protein2_to_uniprot}\n"
      ],
      "metadata": {
        "id": "uoYXWU8tesiL"
      },
      "execution_count": null,
      "outputs": []
    },
    {
      "cell_type": "code",
      "source": [
        "import torch\n",
        "from torch_geometric.data import Data\n",
        "from sklearn.feature_extraction.text import TfidfVectorizer\n",
        "import numpy as np\n",
        "\n",
        "# 노드 정의\n",
        "proteins = pd.unique(df_main['uniprotAccession'])\n",
        "protein_to_idx = {prot: idx for idx, prot in enumerate(proteins)}\n",
        "\n",
        "# 엣지 정의\n",
        "edges = df_main[['protein1', 'protein2']].dropna()\n",
        "edges['p1_mapped'] = edges['protein1'].map(combined_mapping)\n",
        "edges['p2_mapped'] = edges['protein2'].map(combined_mapping)\n",
        "edges_valid = edges.dropna(subset=['p1_mapped', 'p2_mapped'])\n",
        "\n",
        "edge_index = torch.tensor([\n",
        "    [protein_to_idx[p1], protein_to_idx[p2]]\n",
        "    for p1, p2 in edges_valid[['p1_mapped', 'p2_mapped']].values\n",
        "], dtype=torch.long).t()\n",
        "\n",
        "# 특성 정의 (GO_Terms, sequence 길이 등)\n",
        "df_nodes = df_main.drop_duplicates('uniprotAccession')[['uniprotAccession', 'GO_Terms', 'sequence', 'PDB_IDs']]\n",
        "df_nodes = df_nodes.set_index('uniprotAccession').loc[proteins]\n",
        "\n",
        "vectorizer = TfidfVectorizer()\n",
        "go_features = vectorizer.fit_transform(df_nodes['GO_Terms'].fillna('')).toarray()\n",
        "\n",
        "has_structure = (~df_nodes['PDB_IDs'].isna()).astype(int).values.reshape(-1, 1)\n",
        "\n",
        "# 6. 단백질 서열 → ESM 임베딩\n",
        "data_sequences = [(idx, seq) for idx, seq in df_nodes['sequence'].items()]"
      ],
      "metadata": {
        "id": "BBbfTPi7a3wh"
      },
      "execution_count": null,
      "outputs": []
    },
    {
      "cell_type": "code",
      "source": [
        "!pip install fair-esm"
      ],
      "metadata": {
        "id": "MJCzcN1-WqIp",
        "outputId": "00525123-3d54-42e4-fd71-268e2078ab87",
        "colab": {
          "base_uri": "https://localhost:8080/"
        }
      },
      "execution_count": null,
      "outputs": [
        {
          "output_type": "stream",
          "name": "stdout",
          "text": [
            "Collecting fair-esm\n",
            "  Downloading fair_esm-2.0.0-py3-none-any.whl.metadata (37 kB)\n",
            "Downloading fair_esm-2.0.0-py3-none-any.whl (93 kB)\n",
            "\u001b[?25l   \u001b[90m━━━━━━━━━━━━━━━━━━━━━━━━━━━━━━━━━━━━━━━━\u001b[0m \u001b[32m0.0/93.1 kB\u001b[0m \u001b[31m?\u001b[0m eta \u001b[36m-:--:--\u001b[0m\r\u001b[2K   \u001b[90m━━━━━━━━━━━━━━━━━━━━━━━━━━━━━━━━━━━━━━━━\u001b[0m \u001b[32m93.1/93.1 kB\u001b[0m \u001b[31m3.3 MB/s\u001b[0m eta \u001b[36m0:00:00\u001b[0m\n",
            "\u001b[?25hInstalling collected packages: fair-esm\n",
            "Successfully installed fair-esm-2.0.0\n"
          ]
        }
      ]
    },
    {
      "cell_type": "code",
      "source": [
        "import esm\n",
        "\n",
        "# ✅ 사전학습된 ESM 모델과 알파벳 불러오기\n",
        "model, alphabet = esm.pretrained.esm2_t6_8M_UR50D()\n",
        "\n",
        "# ✅ 배치 컨버터 생성 (서열 데이터를 토큰으로 바꿔주는 도구)\n",
        "batch_converter = alphabet.get_batch_converter()\n"
      ],
      "metadata": {
        "id": "_4rFWWjWeRD7",
        "outputId": "9ea5be20-994a-4351-f3c0-444850ab7ed9",
        "colab": {
          "base_uri": "https://localhost:8080/"
        }
      },
      "execution_count": null,
      "outputs": [
        {
          "output_type": "stream",
          "name": "stderr",
          "text": [
            "Downloading: \"https://dl.fbaipublicfiles.com/fair-esm/models/esm2_t6_8M_UR50D.pt\" to /root/.cache/torch/hub/checkpoints/esm2_t6_8M_UR50D.pt\n",
            "Downloading: \"https://dl.fbaipublicfiles.com/fair-esm/regression/esm2_t6_8M_UR50D-contact-regression.pt\" to /root/.cache/torch/hub/checkpoints/esm2_t6_8M_UR50D-contact-regression.pt\n"
          ]
        }
      ]
    },
    {
      "cell_type": "code",
      "source": [
        "# 2. 모델을 GPU로 이동\n",
        "import torch\n",
        "device = torch.device(\"cuda\" if torch.cuda.is_available() else \"cpu\")\n",
        "model = model.to(device)\n",
        "model.eval()\n",
        "\n",
        "# 3. 단백질 서열 준비\n",
        "data_sequences = [(idx, seq) for idx, seq in df_nodes['sequence'].items()]  # df_nodes는 uniprot 기준\n"
      ],
      "metadata": {
        "id": "dtKzcxoPFGOf"
      },
      "execution_count": null,
      "outputs": []
    },
    {
      "cell_type": "code",
      "source": [
        "batch_size = 16\n",
        "embeddings_list = []\n",
        "\n",
        "for i in range(0, len(data_sequences), batch_size):\n",
        "    batch_seqs = data_sequences[i:i+batch_size]\n",
        "    batch_labels, batch_strs, batch_tokens = batch_converter(batch_seqs)\n",
        "\n",
        "    with torch.no_grad():\n",
        "        batch_tokens = batch_tokens.to(device)\n",
        "        results = model(batch_tokens, repr_layers=[6], return_contacts=False)\n",
        "        emb = results[\"representations\"][6][:, 0, :]  # CLS token\n",
        "        embeddings_list.append(emb.cpu())\n",
        "\n",
        "embeddings = torch.cat(embeddings_list, dim=0)\n"
      ],
      "metadata": {
        "id": "-8iDZEKjmqrm"
      },
      "execution_count": null,
      "outputs": []
    },
    {
      "cell_type": "code",
      "source": [
        "# 타겟 질병 설정 예시 (이중 하나를 타겟으로 설정)\n",
        "target_disease = 'C0035126'\n",
        "labels = torch.tensor([\n",
        "    1 if target_disease in df_main[df_main['uniprotAccession'] == prot]['Disease ID'].values else 0\n",
        "    for prot in proteins\n",
        "], dtype=torch.long)\n",
        "\n",
        "data = Data(x=node_features, edge_index=edge_index, y=labels)\n",
        "print(data)"
      ],
      "metadata": {
        "colab": {
          "base_uri": "https://localhost:8080/"
        },
        "id": "ceA-FUOHDpV7",
        "outputId": "333b4c9f-6122-4ce8-e861-d2a1b5a28415"
      },
      "execution_count": null,
      "outputs": [
        {
          "output_type": "stream",
          "name": "stdout",
          "text": [
            "Data(x=[13378, 10], edge_index=[2, 312280], y=[29])\n"
          ]
        }
      ]
    },
    {
      "cell_type": "code",
      "source": [
        "print(data)\n",
        "print(data.num_nodes, data.num_edges, data.num_node_features)"
      ],
      "metadata": {
        "colab": {
          "base_uri": "https://localhost:8080/"
        },
        "id": "oFfg-z5ZFeim",
        "outputId": "f0690c0e-1edc-46e5-b321-be6025f0563e"
      },
      "execution_count": null,
      "outputs": [
        {
          "output_type": "stream",
          "name": "stdout",
          "text": [
            "Data(x=[13378, 10], edge_index=[2, 312280], y=[29])\n",
            "13378 312280 10\n"
          ]
        }
      ]
    },
    {
      "cell_type": "code",
      "source": [
        "print(f\"data.x type: {type(data.x)}\")  # Tensor여야 함\n",
        "print(f\"data.edge_index type: {type(data.edge_index)}\")  # Tensor여야 함\n",
        "print(f\"data.x shape: {data.x.shape}\")"
      ],
      "metadata": {
        "colab": {
          "base_uri": "https://localhost:8080/"
        },
        "id": "wu5XBbBlRVm7",
        "outputId": "af192328-4a76-42c4-8af9-d41e0ac91788"
      },
      "execution_count": null,
      "outputs": [
        {
          "output_type": "stream",
          "name": "stdout",
          "text": [
            "data.x type: <class 'torch.Tensor'>\n",
            "data.edge_index type: <class 'torch.Tensor'>\n",
            "data.x shape: torch.Size([13378, 10])\n"
          ]
        }
      ]
    },
    {
      "cell_type": "markdown",
      "source": [
        "# GCN 모델 정의\n",
        "모델 학습을 통해 예측"
      ],
      "metadata": {
        "id": "1PCnMQFrjpvw"
      }
    },
    {
      "cell_type": "code",
      "source": [
        "# 질병 단백질 ID 목록 추출\n",
        "# labeled_proteins = set(df['uniprotAccession'].dropna().unique())\n",
        "\n",
        "import torch.nn as nn\n",
        "import torch.nn.functional as F\n",
        "from torch_geometric.nn import GCNConv\n",
        "from sklearn.model_selection import train_test_split\n",
        "\n",
        "# ✅ GCN 모델 (multi-label)\n",
        "class GCN_MultiLabel(nn.Module):\n",
        "    def __init__(self, in_channels, hidden_channels, out_channels):\n",
        "        super().__init__()\n",
        "        self.conv1 = GCNConv(in_channels, hidden_channels)\n",
        "        self.conv2 = GCNConv(hidden_channels, out_channels)\n",
        "\n",
        "    def forward(self, data):\n",
        "        x, edge_index = data.x, data.edge_index\n",
        "        x = F.relu(self.conv1(x, edge_index))\n",
        "        x = self.conv2(x, edge_index)\n",
        "        return x\n",
        "\n",
        "proteins = list(all_proteins)\n",
        "# ✅ 라벨 생성 (multi-label): 단백질 → 질병 매핑 (0/1)\n",
        "disease_ids = sorted(df_main['Disease ID'].dropna().unique().tolist())\n",
        "disease_to_idx = {d: i for i, d in enumerate(disease_ids)}\n",
        "\n",
        "y_multi = torch.zeros((len(proteins), len(disease_ids)))\n",
        "for i, prot in enumerate(proteins):\n",
        "    related_diseases = df_main[df_main['uniprotAccession'] == prot]['Disease ID'].dropna().unique()\n",
        "    for d in related_diseases:\n",
        "        if d in disease_to_idx:\n",
        "            y_multi[i][disease_to_idx[d]] = 1\n",
        "\n",
        "# 1. 노드마다 질병이 있는지 확인 (y_multi는 [num_nodes, num_diseases])\n",
        "has_disease = (y_multi.sum(dim=1) > 0)  # shape: [num_nodes]\n",
        "\n",
        "# 2. 이진 라벨로 변환 → stratify 기준\n",
        "labels_for_split = has_disease.int().numpy()\n",
        "\n",
        "# 3. stratify 기반으로 인덱스 나누기\n",
        "idx = np.arange(len(labels_for_split))\n",
        "train_idx, test_idx = train_test_split(\n",
        "    idx,\n",
        "    test_size=0.2,\n",
        "    stratify=labels_for_split,  # ⚠️ 여기가 포인트!\n",
        "    random_state=42\n",
        ")\n",
        "\n",
        "# 4. PyTorch 마스크 생성\n",
        "train_mask = torch.zeros(len(labels_for_split), dtype=torch.bool)\n",
        "test_mask = torch.zeros(len(labels_for_split), dtype=torch.bool)\n",
        "train_mask[train_idx] = True\n",
        "test_mask[test_idx] = True\n",
        "\n",
        "data.train_mask = train_mask\n",
        "data.test_mask = test_mask\n",
        "\n",
        "positive_counts = y_multi.sum(dim=0)\n",
        "total_counts = y_multi.size(0)\n",
        "pos_weight = (total_counts - positive_counts) / (positive_counts + 1e-5)\n",
        "pos_weight = pos_weight.to(dtype=torch.float32)\n",
        "\n",
        "# 하이퍼파라미터\n",
        "in_channels = data.num_node_features\n",
        "hidden_channels = 64\n",
        "out_channels = y_multi.shape[1]\n",
        "\n",
        "model = GCN_MultiLabel(in_channels, hidden_channels, out_channels)\n",
        "optimizer = torch.optim.Adam(model.parameters(), lr=0.01)\n",
        "loss_fn = nn.BCEWithLogitsLoss(pos_weight=pos_weight)  # 클래스 불균형 대응\n",
        "\n",
        "# 학습 루프\n",
        "for epoch in range(1, 101):\n",
        "    model.train()\n",
        "    optimizer.zero_grad()\n",
        "\n",
        "    logits = model(data)\n",
        "    loss = loss_fn(logits[data.train_mask], y_multi[data.train_mask])\n",
        "    loss.backward()\n",
        "    optimizer.step()\n",
        "\n",
        "     # ✅ 평가\n",
        "    model.eval()\n",
        "    with torch.no_grad():\n",
        "        probs = torch.sigmoid(logits)  # 직접 sigmoid 적용\n",
        "        pred = (probs[data.test_mask] > 0.5).int()\n",
        "        true = y_multi[data.test_mask].int()\n",
        "\n",
        "        acc = (pred == true).float().mean().item()\n",
        "        f1 = f1_score(true.cpu(), pred.cpu(), average='micro', zero_division=0)\n",
        "        p = precision_score(true.cpu(), pred.cpu(), average='micro', zero_division=0)\n",
        "        r = recall_score(true.cpu(), pred.cpu(), average='micro', zero_division=0)\n",
        "\n",
        "        print(f\"Epoch {epoch:03d} | Loss: {loss:.4f} | Acc: {acc:.4f} | F1: {f1:.4f} | P: {p:.4f} | R: {r:.4f}\")"
      ],
      "metadata": {
        "id": "3vnEJkX4JBUz",
        "collapsed": true,
        "colab": {
          "base_uri": "https://localhost:8080/"
        },
        "outputId": "0f2fa6ec-d0e6-43af-e1b1-3337b7ca6a3e"
      },
      "execution_count": null,
      "outputs": [
        {
          "output_type": "stream",
          "name": "stdout",
          "text": [
            "Epoch 001 | Loss: 0.6932 | Acc: 0.5053 | F1: 0.0000 | P: 0.0000 | R: 0.0000\n",
            "Epoch 002 | Loss: 0.6544 | Acc: 0.7163 | F1: 0.0000 | P: 0.0000 | R: 0.0000\n",
            "Epoch 003 | Loss: 0.6155 | Acc: 0.8691 | F1: 0.0000 | P: 0.0000 | R: 0.0000\n",
            "Epoch 004 | Loss: 0.5730 | Acc: 0.9612 | F1: 0.0000 | P: 0.0000 | R: 0.0000\n",
            "Epoch 005 | Loss: 0.5260 | Acc: 0.9924 | F1: 0.0000 | P: 0.0000 | R: 0.0000\n",
            "Epoch 006 | Loss: 0.4749 | Acc: 0.9987 | F1: 0.0000 | P: 0.0000 | R: 0.0000\n",
            "Epoch 007 | Loss: 0.4209 | Acc: 1.0000 | F1: 0.0000 | P: 0.0000 | R: 0.0000\n",
            "Epoch 008 | Loss: 0.3657 | Acc: 1.0000 | F1: 0.0000 | P: 0.0000 | R: 0.0000\n",
            "Epoch 009 | Loss: 0.3110 | Acc: 1.0000 | F1: 0.0000 | P: 0.0000 | R: 0.0000\n",
            "Epoch 010 | Loss: 0.2587 | Acc: 1.0000 | F1: 0.0000 | P: 0.0000 | R: 0.0000\n",
            "Epoch 011 | Loss: 0.2105 | Acc: 1.0000 | F1: 0.0000 | P: 0.0000 | R: 0.0000\n",
            "Epoch 012 | Loss: 0.1678 | Acc: 1.0000 | F1: 0.0000 | P: 0.0000 | R: 0.0000\n",
            "Epoch 013 | Loss: 0.1313 | Acc: 1.0000 | F1: 0.0000 | P: 0.0000 | R: 0.0000\n",
            "Epoch 014 | Loss: 0.1011 | Acc: 1.0000 | F1: 0.0000 | P: 0.0000 | R: 0.0000\n",
            "Epoch 015 | Loss: 0.0769 | Acc: 1.0000 | F1: 0.0000 | P: 0.0000 | R: 0.0000\n",
            "Epoch 016 | Loss: 0.0580 | Acc: 1.0000 | F1: 0.0000 | P: 0.0000 | R: 0.0000\n",
            "Epoch 017 | Loss: 0.0436 | Acc: 1.0000 | F1: 0.0000 | P: 0.0000 | R: 0.0000\n",
            "Epoch 018 | Loss: 0.0329 | Acc: 1.0000 | F1: 0.0000 | P: 0.0000 | R: 0.0000\n",
            "Epoch 019 | Loss: 0.0248 | Acc: 1.0000 | F1: 0.0000 | P: 0.0000 | R: 0.0000\n",
            "Epoch 020 | Loss: 0.0189 | Acc: 1.0000 | F1: 0.0000 | P: 0.0000 | R: 0.0000\n",
            "Epoch 021 | Loss: 0.0145 | Acc: 1.0000 | F1: 0.0000 | P: 0.0000 | R: 0.0000\n",
            "Epoch 022 | Loss: 0.0113 | Acc: 1.0000 | F1: 0.0000 | P: 0.0000 | R: 0.0000\n",
            "Epoch 023 | Loss: 0.0089 | Acc: 1.0000 | F1: 0.0000 | P: 0.0000 | R: 0.0000\n",
            "Epoch 024 | Loss: 0.0071 | Acc: 1.0000 | F1: 0.0000 | P: 0.0000 | R: 0.0000\n",
            "Epoch 025 | Loss: 0.0057 | Acc: 1.0000 | F1: 0.0000 | P: 0.0000 | R: 0.0000\n",
            "Epoch 026 | Loss: 0.0047 | Acc: 1.0000 | F1: 0.0000 | P: 0.0000 | R: 0.0000\n",
            "Epoch 027 | Loss: 0.0039 | Acc: 1.0000 | F1: 0.0000 | P: 0.0000 | R: 0.0000\n",
            "Epoch 028 | Loss: 0.0032 | Acc: 1.0000 | F1: 0.0000 | P: 0.0000 | R: 0.0000\n",
            "Epoch 029 | Loss: 0.0027 | Acc: 1.0000 | F1: 0.0000 | P: 0.0000 | R: 0.0000\n",
            "Epoch 030 | Loss: 0.0023 | Acc: 1.0000 | F1: 0.0000 | P: 0.0000 | R: 0.0000\n",
            "Epoch 031 | Loss: 0.0020 | Acc: 1.0000 | F1: 0.0000 | P: 0.0000 | R: 0.0000\n",
            "Epoch 032 | Loss: 0.0018 | Acc: 1.0000 | F1: 0.0000 | P: 0.0000 | R: 0.0000\n",
            "Epoch 033 | Loss: 0.0015 | Acc: 1.0000 | F1: 0.0000 | P: 0.0000 | R: 0.0000\n",
            "Epoch 034 | Loss: 0.0014 | Acc: 1.0000 | F1: 0.0000 | P: 0.0000 | R: 0.0000\n",
            "Epoch 035 | Loss: 0.0012 | Acc: 1.0000 | F1: 0.0000 | P: 0.0000 | R: 0.0000\n",
            "Epoch 036 | Loss: 0.0011 | Acc: 1.0000 | F1: 0.0000 | P: 0.0000 | R: 0.0000\n",
            "Epoch 037 | Loss: 0.0010 | Acc: 1.0000 | F1: 0.0000 | P: 0.0000 | R: 0.0000\n",
            "Epoch 038 | Loss: 0.0009 | Acc: 1.0000 | F1: 0.0000 | P: 0.0000 | R: 0.0000\n",
            "Epoch 039 | Loss: 0.0008 | Acc: 1.0000 | F1: 0.0000 | P: 0.0000 | R: 0.0000\n",
            "Epoch 040 | Loss: 0.0008 | Acc: 1.0000 | F1: 0.0000 | P: 0.0000 | R: 0.0000\n",
            "Epoch 041 | Loss: 0.0007 | Acc: 1.0000 | F1: 0.0000 | P: 0.0000 | R: 0.0000\n",
            "Epoch 042 | Loss: 0.0007 | Acc: 1.0000 | F1: 0.0000 | P: 0.0000 | R: 0.0000\n",
            "Epoch 043 | Loss: 0.0006 | Acc: 1.0000 | F1: 0.0000 | P: 0.0000 | R: 0.0000\n",
            "Epoch 044 | Loss: 0.0006 | Acc: 1.0000 | F1: 0.0000 | P: 0.0000 | R: 0.0000\n",
            "Epoch 045 | Loss: 0.0006 | Acc: 1.0000 | F1: 0.0000 | P: 0.0000 | R: 0.0000\n",
            "Epoch 046 | Loss: 0.0005 | Acc: 1.0000 | F1: 0.0000 | P: 0.0000 | R: 0.0000\n",
            "Epoch 047 | Loss: 0.0005 | Acc: 1.0000 | F1: 0.0000 | P: 0.0000 | R: 0.0000\n",
            "Epoch 048 | Loss: 0.0005 | Acc: 1.0000 | F1: 0.0000 | P: 0.0000 | R: 0.0000\n",
            "Epoch 049 | Loss: 0.0005 | Acc: 1.0000 | F1: 0.0000 | P: 0.0000 | R: 0.0000\n",
            "Epoch 050 | Loss: 0.0004 | Acc: 1.0000 | F1: 0.0000 | P: 0.0000 | R: 0.0000\n",
            "Epoch 051 | Loss: 0.0004 | Acc: 1.0000 | F1: 0.0000 | P: 0.0000 | R: 0.0000\n",
            "Epoch 052 | Loss: 0.0004 | Acc: 1.0000 | F1: 0.0000 | P: 0.0000 | R: 0.0000\n",
            "Epoch 053 | Loss: 0.0004 | Acc: 1.0000 | F1: 0.0000 | P: 0.0000 | R: 0.0000\n",
            "Epoch 054 | Loss: 0.0004 | Acc: 1.0000 | F1: 0.0000 | P: 0.0000 | R: 0.0000\n",
            "Epoch 055 | Loss: 0.0004 | Acc: 1.0000 | F1: 0.0000 | P: 0.0000 | R: 0.0000\n",
            "Epoch 056 | Loss: 0.0004 | Acc: 1.0000 | F1: 0.0000 | P: 0.0000 | R: 0.0000\n",
            "Epoch 057 | Loss: 0.0004 | Acc: 1.0000 | F1: 0.0000 | P: 0.0000 | R: 0.0000\n",
            "Epoch 058 | Loss: 0.0003 | Acc: 1.0000 | F1: 0.0000 | P: 0.0000 | R: 0.0000\n",
            "Epoch 059 | Loss: 0.0003 | Acc: 1.0000 | F1: 0.0000 | P: 0.0000 | R: 0.0000\n",
            "Epoch 060 | Loss: 0.0003 | Acc: 1.0000 | F1: 0.0000 | P: 0.0000 | R: 0.0000\n",
            "Epoch 061 | Loss: 0.0003 | Acc: 1.0000 | F1: 0.0000 | P: 0.0000 | R: 0.0000\n",
            "Epoch 062 | Loss: 0.0003 | Acc: 1.0000 | F1: 0.0000 | P: 0.0000 | R: 0.0000\n",
            "Epoch 063 | Loss: 0.0003 | Acc: 1.0000 | F1: 0.0000 | P: 0.0000 | R: 0.0000\n",
            "Epoch 064 | Loss: 0.0003 | Acc: 1.0000 | F1: 0.0000 | P: 0.0000 | R: 0.0000\n",
            "Epoch 065 | Loss: 0.0003 | Acc: 1.0000 | F1: 0.0000 | P: 0.0000 | R: 0.0000\n",
            "Epoch 066 | Loss: 0.0003 | Acc: 1.0000 | F1: 0.0000 | P: 0.0000 | R: 0.0000\n",
            "Epoch 067 | Loss: 0.0003 | Acc: 1.0000 | F1: 0.0000 | P: 0.0000 | R: 0.0000\n",
            "Epoch 068 | Loss: 0.0003 | Acc: 1.0000 | F1: 0.0000 | P: 0.0000 | R: 0.0000\n",
            "Epoch 069 | Loss: 0.0003 | Acc: 1.0000 | F1: 0.0000 | P: 0.0000 | R: 0.0000\n",
            "Epoch 070 | Loss: 0.0003 | Acc: 1.0000 | F1: 0.0000 | P: 0.0000 | R: 0.0000\n",
            "Epoch 071 | Loss: 0.0003 | Acc: 1.0000 | F1: 0.0000 | P: 0.0000 | R: 0.0000\n",
            "Epoch 072 | Loss: 0.0003 | Acc: 1.0000 | F1: 0.0000 | P: 0.0000 | R: 0.0000\n",
            "Epoch 073 | Loss: 0.0003 | Acc: 1.0000 | F1: 0.0000 | P: 0.0000 | R: 0.0000\n",
            "Epoch 074 | Loss: 0.0003 | Acc: 1.0000 | F1: 0.0000 | P: 0.0000 | R: 0.0000\n",
            "Epoch 075 | Loss: 0.0003 | Acc: 1.0000 | F1: 0.0000 | P: 0.0000 | R: 0.0000\n",
            "Epoch 076 | Loss: 0.0003 | Acc: 1.0000 | F1: 0.0000 | P: 0.0000 | R: 0.0000\n",
            "Epoch 077 | Loss: 0.0003 | Acc: 1.0000 | F1: 0.0000 | P: 0.0000 | R: 0.0000\n",
            "Epoch 078 | Loss: 0.0003 | Acc: 1.0000 | F1: 0.0000 | P: 0.0000 | R: 0.0000\n",
            "Epoch 079 | Loss: 0.0002 | Acc: 1.0000 | F1: 0.0000 | P: 0.0000 | R: 0.0000\n",
            "Epoch 080 | Loss: 0.0002 | Acc: 1.0000 | F1: 0.0000 | P: 0.0000 | R: 0.0000\n",
            "Epoch 081 | Loss: 0.0002 | Acc: 1.0000 | F1: 0.0000 | P: 0.0000 | R: 0.0000\n",
            "Epoch 082 | Loss: 0.0002 | Acc: 1.0000 | F1: 0.0000 | P: 0.0000 | R: 0.0000\n",
            "Epoch 083 | Loss: 0.0002 | Acc: 1.0000 | F1: 0.0000 | P: 0.0000 | R: 0.0000\n",
            "Epoch 084 | Loss: 0.0002 | Acc: 1.0000 | F1: 0.0000 | P: 0.0000 | R: 0.0000\n",
            "Epoch 085 | Loss: 0.0002 | Acc: 1.0000 | F1: 0.0000 | P: 0.0000 | R: 0.0000\n",
            "Epoch 086 | Loss: 0.0002 | Acc: 1.0000 | F1: 0.0000 | P: 0.0000 | R: 0.0000\n",
            "Epoch 087 | Loss: 0.0002 | Acc: 1.0000 | F1: 0.0000 | P: 0.0000 | R: 0.0000\n",
            "Epoch 088 | Loss: 0.0002 | Acc: 1.0000 | F1: 0.0000 | P: 0.0000 | R: 0.0000\n",
            "Epoch 089 | Loss: 0.0002 | Acc: 1.0000 | F1: 0.0000 | P: 0.0000 | R: 0.0000\n",
            "Epoch 090 | Loss: 0.0002 | Acc: 1.0000 | F1: 0.0000 | P: 0.0000 | R: 0.0000\n",
            "Epoch 091 | Loss: 0.0002 | Acc: 1.0000 | F1: 0.0000 | P: 0.0000 | R: 0.0000\n",
            "Epoch 092 | Loss: 0.0002 | Acc: 1.0000 | F1: 0.0000 | P: 0.0000 | R: 0.0000\n",
            "Epoch 093 | Loss: 0.0002 | Acc: 1.0000 | F1: 0.0000 | P: 0.0000 | R: 0.0000\n",
            "Epoch 094 | Loss: 0.0002 | Acc: 1.0000 | F1: 0.0000 | P: 0.0000 | R: 0.0000\n",
            "Epoch 095 | Loss: 0.0002 | Acc: 1.0000 | F1: 0.0000 | P: 0.0000 | R: 0.0000\n",
            "Epoch 096 | Loss: 0.0002 | Acc: 1.0000 | F1: 0.0000 | P: 0.0000 | R: 0.0000\n",
            "Epoch 097 | Loss: 0.0002 | Acc: 1.0000 | F1: 0.0000 | P: 0.0000 | R: 0.0000\n",
            "Epoch 098 | Loss: 0.0002 | Acc: 1.0000 | F1: 0.0000 | P: 0.0000 | R: 0.0000\n",
            "Epoch 099 | Loss: 0.0002 | Acc: 1.0000 | F1: 0.0000 | P: 0.0000 | R: 0.0000\n",
            "Epoch 100 | Loss: 0.0002 | Acc: 1.0000 | F1: 0.0000 | P: 0.0000 | R: 0.0000\n"
          ]
        }
      ]
    },
    {
      "cell_type": "code",
      "source": [
        "import pandas as pd\n",
        "import numpy as np\n",
        "import torch\n",
        "import torch.nn as nn\n",
        "import torch.nn.functional as F\n",
        "from torch_geometric.data import Data\n",
        "from torch_geometric.nn import GCNConv\n",
        "from sklearn.model_selection import train_test_split\n",
        "from sklearn.preprocessing import StandardScaler\n",
        "from sklearn.metrics import f1_score, precision_score, recall_score\n",
        "\n",
        "# 1️⃣ protein index 정의\n",
        "proteins = list(set(df_main['uniprotAccession'].dropna()))\n",
        "protein_to_idx = {prot: i for i, prot in enumerate(proteins)}\n",
        "\n",
        "# 2️⃣ edge_index 생성\n",
        "edges = df_main[['protein1', 'protein2']].dropna().copy()\n",
        "combined_mapping = {**dict(zip(df_main['protein1'], df_main['uniprotAccession'])),\n",
        "                    **dict(zip(df_main['protein2'], df_main['uniprotAccession']))}\n",
        "edges['p1'] = edges['protein1'].map(combined_mapping)\n",
        "edges['p2'] = edges['protein2'].map(combined_mapping)\n",
        "edges = edges.dropna(subset=['p1', 'p2'])\n",
        "\n",
        "edge_index = torch.tensor([\n",
        "    [protein_to_idx[p1], protein_to_idx[p2]]\n",
        "    for p1, p2 in edges[['p1', 'p2']].values\n",
        "    if p1 in protein_to_idx and p2 in protein_to_idx\n",
        "], dtype=torch.long).t()\n",
        "\n",
        "# 3️⃣ node feature: sequence length + structure 여부\n",
        "df_nodes = df_main.drop_duplicates('uniprotAccession')[['uniprotAccession', 'sequence', 'PDB_IDs']]\n",
        "df_nodes = df_nodes.set_index('uniprotAccession').loc[proteins]\n",
        "seq_len = df_nodes['sequence'].fillna('').apply(len).values.reshape(-1, 1)\n",
        "has_structure = (~df_nodes['PDB_IDs'].isna()).astype(int).values.reshape(-1, 1)\n",
        "features = np.concatenate([seq_len, has_structure], axis=1)\n",
        "features = StandardScaler().fit_transform(features)\n",
        "x = torch.tensor(features, dtype=torch.float)\n",
        "\n",
        "# 4️⃣ 라벨 생성 (multi-label)\n",
        "diseases = sorted(df_main['Disease ID'].dropna().unique().tolist())\n",
        "disease_to_idx = {d: i for i, d in enumerate(diseases)}\n",
        "\n",
        "y_multi = torch.zeros((len(proteins), len(diseases)))\n",
        "for i, prot in enumerate(proteins):\n",
        "    rel_dis = df_main[df_main['uniprotAccession'] == prot]['Disease ID'].dropna().unique()\n",
        "    for d in rel_dis:\n",
        "        if d in disease_to_idx:\n",
        "            y_multi[i][disease_to_idx[d]] = 1\n",
        "\n",
        "# 5️⃣ 희귀 질병 제거\n",
        "min_count = 5\n",
        "keep_cols = (y_multi.sum(dim=0) >= min_count).nonzero().flatten()\n",
        "y_multi = y_multi[:, keep_cols]\n",
        "\n",
        "# 6️⃣ train/test split (stratify 사용)\n",
        "has_disease = (y_multi.sum(dim=1) > 0)\n",
        "idx = np.arange(len(proteins))\n",
        "train_idx, test_idx = train_test_split(\n",
        "    idx, test_size=0.2, stratify=has_disease.int().numpy(), random_state=42\n",
        ")\n",
        "train_mask = torch.zeros(len(proteins), dtype=torch.bool)\n",
        "test_mask = torch.zeros(len(proteins), dtype=torch.bool)\n",
        "train_mask[train_idx] = True\n",
        "test_mask[test_idx] = True\n",
        "\n",
        "# 7️⃣ class imbalance 보정\n",
        "pos = y_multi[train_mask].sum(0)\n",
        "neg = (train_mask.sum() - pos)\n",
        "pos_weight = (neg / (pos + 1e-6)).clamp(min=1.0)\n",
        "\n",
        "# 8️⃣ GCN 모델\n",
        "class GCN_MultiLabel(nn.Module):\n",
        "    def __init__(self, in_channels, hidden_channels, out_channels):\n",
        "        super().__init__()\n",
        "        self.conv1 = GCNConv(in_channels, hidden_channels)\n",
        "        self.conv2 = GCNConv(hidden_channels, out_channels)\n",
        "\n",
        "    def forward(self, data):\n",
        "        x, edge_index = data.x, data.edge_index\n",
        "        x = F.relu(self.conv1(x, edge_index))\n",
        "        return self.conv2(x, edge_index)\n",
        "\n",
        "model = GCN_MultiLabel(x.shape[1], 64, y_multi.shape[1])\n",
        "optimizer = torch.optim.Adam(model.parameters(), lr=0.01)\n",
        "loss_fn = nn.BCEWithLogitsLoss(pos_weight=pos_weight)\n",
        "\n",
        "data = Data(x=x, edge_index=edge_index)\n",
        "data.train_mask = train_mask\n",
        "data.test_mask = test_mask\n",
        "\n",
        "# 9️⃣ 학습\n",
        "for epoch in range(1, 101):\n",
        "    model.train()\n",
        "    optimizer.zero_grad()\n",
        "    out = model(data)\n",
        "    loss = loss_fn(out[train_mask], y_multi[train_mask])\n",
        "    loss.backward()\n",
        "    optimizer.step()\n",
        "\n",
        "    # 평가\n",
        "    model.eval()\n",
        "    with torch.no_grad():\n",
        "        logits = model(data)\n",
        "        probs = torch.sigmoid(logits[test_mask])\n",
        "        preds = (probs > 0.5).int()\n",
        "        true = y_multi[test_mask].int()\n",
        "\n",
        "        acc = (preds == true).float().mean().item()\n",
        "\n",
        "        # ⛳️ 수정된 부분\n",
        "        true_np = true.cpu().numpy()\n",
        "        preds_np = preds.cpu().numpy()\n",
        "\n",
        "        f1 = f1_score(true_np, preds_np, average='micro', zero_division=0)\n",
        "        precision = precision_score(true_np, preds_np, average='micro', zero_division=0)\n",
        "        recall = recall_score(true_np, preds_np, average='micro', zero_division=0)\n",
        "\n",
        "        print(f\"Epoch {epoch:03d} | Loss: {loss:.4f} | Acc: {acc:.4f} | F1: {f1:.4f} | P: {precision:.4f} | R: {recall:.4f}\")\n"
      ],
      "metadata": {
        "id": "3hGeY7vmvoru",
        "outputId": "3cd339f9-ce6d-4684-add3-e8fd6d3e1387",
        "colab": {
          "base_uri": "https://localhost:8080/",
          "height": 356
        }
      },
      "execution_count": null,
      "outputs": [
        {
          "output_type": "error",
          "ename": "ValueError",
          "evalue": "unknown is not supported",
          "traceback": [
            "\u001b[0;31m---------------------------------------------------------------------------\u001b[0m",
            "\u001b[0;31mValueError\u001b[0m                                Traceback (most recent call last)",
            "\u001b[0;32m<ipython-input-44-cea7bb371928>\u001b[0m in \u001b[0;36m<cell line: 0>\u001b[0;34m()\u001b[0m\n\u001b[1;32m    112\u001b[0m         \u001b[0mpreds_np\u001b[0m \u001b[0;34m=\u001b[0m \u001b[0mpreds\u001b[0m\u001b[0;34m.\u001b[0m\u001b[0mcpu\u001b[0m\u001b[0;34m(\u001b[0m\u001b[0;34m)\u001b[0m\u001b[0;34m.\u001b[0m\u001b[0mnumpy\u001b[0m\u001b[0;34m(\u001b[0m\u001b[0;34m)\u001b[0m\u001b[0;34m\u001b[0m\u001b[0;34m\u001b[0m\u001b[0m\n\u001b[1;32m    113\u001b[0m \u001b[0;34m\u001b[0m\u001b[0m\n\u001b[0;32m--> 114\u001b[0;31m         \u001b[0mf1\u001b[0m \u001b[0;34m=\u001b[0m \u001b[0mf1_score\u001b[0m\u001b[0;34m(\u001b[0m\u001b[0mtrue_np\u001b[0m\u001b[0;34m,\u001b[0m \u001b[0mpreds_np\u001b[0m\u001b[0;34m,\u001b[0m \u001b[0maverage\u001b[0m\u001b[0;34m=\u001b[0m\u001b[0;34m'micro'\u001b[0m\u001b[0;34m,\u001b[0m \u001b[0mzero_division\u001b[0m\u001b[0;34m=\u001b[0m\u001b[0;36m0\u001b[0m\u001b[0;34m)\u001b[0m\u001b[0;34m\u001b[0m\u001b[0;34m\u001b[0m\u001b[0m\n\u001b[0m\u001b[1;32m    115\u001b[0m         \u001b[0mprecision\u001b[0m \u001b[0;34m=\u001b[0m \u001b[0mprecision_score\u001b[0m\u001b[0;34m(\u001b[0m\u001b[0mtrue_np\u001b[0m\u001b[0;34m,\u001b[0m \u001b[0mpreds_np\u001b[0m\u001b[0;34m,\u001b[0m \u001b[0maverage\u001b[0m\u001b[0;34m=\u001b[0m\u001b[0;34m'micro'\u001b[0m\u001b[0;34m,\u001b[0m \u001b[0mzero_division\u001b[0m\u001b[0;34m=\u001b[0m\u001b[0;36m0\u001b[0m\u001b[0;34m)\u001b[0m\u001b[0;34m\u001b[0m\u001b[0;34m\u001b[0m\u001b[0m\n\u001b[1;32m    116\u001b[0m         \u001b[0mrecall\u001b[0m \u001b[0;34m=\u001b[0m \u001b[0mrecall_score\u001b[0m\u001b[0;34m(\u001b[0m\u001b[0mtrue_np\u001b[0m\u001b[0;34m,\u001b[0m \u001b[0mpreds_np\u001b[0m\u001b[0;34m,\u001b[0m \u001b[0maverage\u001b[0m\u001b[0;34m=\u001b[0m\u001b[0;34m'micro'\u001b[0m\u001b[0;34m,\u001b[0m \u001b[0mzero_division\u001b[0m\u001b[0;34m=\u001b[0m\u001b[0;36m0\u001b[0m\u001b[0;34m)\u001b[0m\u001b[0;34m\u001b[0m\u001b[0;34m\u001b[0m\u001b[0m\n",
            "\u001b[0;32m/usr/local/lib/python3.11/dist-packages/sklearn/utils/_param_validation.py\u001b[0m in \u001b[0;36mwrapper\u001b[0;34m(*args, **kwargs)\u001b[0m\n\u001b[1;32m    214\u001b[0m                     )\n\u001b[1;32m    215\u001b[0m                 ):\n\u001b[0;32m--> 216\u001b[0;31m                     \u001b[0;32mreturn\u001b[0m \u001b[0mfunc\u001b[0m\u001b[0;34m(\u001b[0m\u001b[0;34m*\u001b[0m\u001b[0margs\u001b[0m\u001b[0;34m,\u001b[0m \u001b[0;34m**\u001b[0m\u001b[0mkwargs\u001b[0m\u001b[0;34m)\u001b[0m\u001b[0;34m\u001b[0m\u001b[0;34m\u001b[0m\u001b[0m\n\u001b[0m\u001b[1;32m    217\u001b[0m             \u001b[0;32mexcept\u001b[0m \u001b[0mInvalidParameterError\u001b[0m \u001b[0;32mas\u001b[0m \u001b[0me\u001b[0m\u001b[0;34m:\u001b[0m\u001b[0;34m\u001b[0m\u001b[0;34m\u001b[0m\u001b[0m\n\u001b[1;32m    218\u001b[0m                 \u001b[0;31m# When the function is just a wrapper around an estimator, we allow\u001b[0m\u001b[0;34m\u001b[0m\u001b[0;34m\u001b[0m\u001b[0m\n",
            "\u001b[0;32m/usr/local/lib/python3.11/dist-packages/sklearn/metrics/_classification.py\u001b[0m in \u001b[0;36mf1_score\u001b[0;34m(y_true, y_pred, labels, pos_label, average, sample_weight, zero_division)\u001b[0m\n\u001b[1;32m   1322\u001b[0m     \u001b[0marray\u001b[0m\u001b[0;34m(\u001b[0m\u001b[0;34m[\u001b[0m\u001b[0;36m0.66666667\u001b[0m\u001b[0;34m,\u001b[0m \u001b[0;36m1.\u001b[0m        \u001b[0;34m,\u001b[0m \u001b[0;36m0.66666667\u001b[0m\u001b[0;34m]\u001b[0m\u001b[0;34m)\u001b[0m\u001b[0;34m\u001b[0m\u001b[0;34m\u001b[0m\u001b[0m\n\u001b[1;32m   1323\u001b[0m     \"\"\"\n\u001b[0;32m-> 1324\u001b[0;31m     return fbeta_score(\n\u001b[0m\u001b[1;32m   1325\u001b[0m         \u001b[0my_true\u001b[0m\u001b[0;34m,\u001b[0m\u001b[0;34m\u001b[0m\u001b[0;34m\u001b[0m\u001b[0m\n\u001b[1;32m   1326\u001b[0m         \u001b[0my_pred\u001b[0m\u001b[0;34m,\u001b[0m\u001b[0;34m\u001b[0m\u001b[0;34m\u001b[0m\u001b[0m\n",
            "\u001b[0;32m/usr/local/lib/python3.11/dist-packages/sklearn/utils/_param_validation.py\u001b[0m in \u001b[0;36mwrapper\u001b[0;34m(*args, **kwargs)\u001b[0m\n\u001b[1;32m    187\u001b[0m             \u001b[0mglobal_skip_validation\u001b[0m \u001b[0;34m=\u001b[0m \u001b[0mget_config\u001b[0m\u001b[0;34m(\u001b[0m\u001b[0;34m)\u001b[0m\u001b[0;34m[\u001b[0m\u001b[0;34m\"skip_parameter_validation\"\u001b[0m\u001b[0;34m]\u001b[0m\u001b[0;34m\u001b[0m\u001b[0;34m\u001b[0m\u001b[0m\n\u001b[1;32m    188\u001b[0m             \u001b[0;32mif\u001b[0m \u001b[0mglobal_skip_validation\u001b[0m\u001b[0;34m:\u001b[0m\u001b[0;34m\u001b[0m\u001b[0;34m\u001b[0m\u001b[0m\n\u001b[0;32m--> 189\u001b[0;31m                 \u001b[0;32mreturn\u001b[0m \u001b[0mfunc\u001b[0m\u001b[0;34m(\u001b[0m\u001b[0;34m*\u001b[0m\u001b[0margs\u001b[0m\u001b[0;34m,\u001b[0m \u001b[0;34m**\u001b[0m\u001b[0mkwargs\u001b[0m\u001b[0;34m)\u001b[0m\u001b[0;34m\u001b[0m\u001b[0;34m\u001b[0m\u001b[0m\n\u001b[0m\u001b[1;32m    190\u001b[0m \u001b[0;34m\u001b[0m\u001b[0m\n\u001b[1;32m    191\u001b[0m             \u001b[0mfunc_sig\u001b[0m \u001b[0;34m=\u001b[0m \u001b[0msignature\u001b[0m\u001b[0;34m(\u001b[0m\u001b[0mfunc\u001b[0m\u001b[0;34m)\u001b[0m\u001b[0;34m\u001b[0m\u001b[0;34m\u001b[0m\u001b[0m\n",
            "\u001b[0;32m/usr/local/lib/python3.11/dist-packages/sklearn/metrics/_classification.py\u001b[0m in \u001b[0;36mfbeta_score\u001b[0;34m(y_true, y_pred, beta, labels, pos_label, average, sample_weight, zero_division)\u001b[0m\n\u001b[1;32m   1515\u001b[0m     \"\"\"\n\u001b[1;32m   1516\u001b[0m \u001b[0;34m\u001b[0m\u001b[0m\n\u001b[0;32m-> 1517\u001b[0;31m     _, _, f, _ = precision_recall_fscore_support(\n\u001b[0m\u001b[1;32m   1518\u001b[0m         \u001b[0my_true\u001b[0m\u001b[0;34m,\u001b[0m\u001b[0;34m\u001b[0m\u001b[0;34m\u001b[0m\u001b[0m\n\u001b[1;32m   1519\u001b[0m         \u001b[0my_pred\u001b[0m\u001b[0;34m,\u001b[0m\u001b[0;34m\u001b[0m\u001b[0;34m\u001b[0m\u001b[0m\n",
            "\u001b[0;32m/usr/local/lib/python3.11/dist-packages/sklearn/utils/_param_validation.py\u001b[0m in \u001b[0;36mwrapper\u001b[0;34m(*args, **kwargs)\u001b[0m\n\u001b[1;32m    187\u001b[0m             \u001b[0mglobal_skip_validation\u001b[0m \u001b[0;34m=\u001b[0m \u001b[0mget_config\u001b[0m\u001b[0;34m(\u001b[0m\u001b[0;34m)\u001b[0m\u001b[0;34m[\u001b[0m\u001b[0;34m\"skip_parameter_validation\"\u001b[0m\u001b[0;34m]\u001b[0m\u001b[0;34m\u001b[0m\u001b[0;34m\u001b[0m\u001b[0m\n\u001b[1;32m    188\u001b[0m             \u001b[0;32mif\u001b[0m \u001b[0mglobal_skip_validation\u001b[0m\u001b[0;34m:\u001b[0m\u001b[0;34m\u001b[0m\u001b[0;34m\u001b[0m\u001b[0m\n\u001b[0;32m--> 189\u001b[0;31m                 \u001b[0;32mreturn\u001b[0m \u001b[0mfunc\u001b[0m\u001b[0;34m(\u001b[0m\u001b[0;34m*\u001b[0m\u001b[0margs\u001b[0m\u001b[0;34m,\u001b[0m \u001b[0;34m**\u001b[0m\u001b[0mkwargs\u001b[0m\u001b[0;34m)\u001b[0m\u001b[0;34m\u001b[0m\u001b[0;34m\u001b[0m\u001b[0m\n\u001b[0m\u001b[1;32m    190\u001b[0m \u001b[0;34m\u001b[0m\u001b[0m\n\u001b[1;32m    191\u001b[0m             \u001b[0mfunc_sig\u001b[0m \u001b[0;34m=\u001b[0m \u001b[0msignature\u001b[0m\u001b[0;34m(\u001b[0m\u001b[0mfunc\u001b[0m\u001b[0;34m)\u001b[0m\u001b[0;34m\u001b[0m\u001b[0;34m\u001b[0m\u001b[0m\n",
            "\u001b[0;32m/usr/local/lib/python3.11/dist-packages/sklearn/metrics/_classification.py\u001b[0m in \u001b[0;36mprecision_recall_fscore_support\u001b[0;34m(y_true, y_pred, beta, labels, pos_label, average, warn_for, sample_weight, zero_division)\u001b[0m\n\u001b[1;32m   1828\u001b[0m     \"\"\"\n\u001b[1;32m   1829\u001b[0m     \u001b[0m_check_zero_division\u001b[0m\u001b[0;34m(\u001b[0m\u001b[0mzero_division\u001b[0m\u001b[0;34m)\u001b[0m\u001b[0;34m\u001b[0m\u001b[0;34m\u001b[0m\u001b[0m\n\u001b[0;32m-> 1830\u001b[0;31m     \u001b[0mlabels\u001b[0m \u001b[0;34m=\u001b[0m \u001b[0m_check_set_wise_labels\u001b[0m\u001b[0;34m(\u001b[0m\u001b[0my_true\u001b[0m\u001b[0;34m,\u001b[0m \u001b[0my_pred\u001b[0m\u001b[0;34m,\u001b[0m \u001b[0maverage\u001b[0m\u001b[0;34m,\u001b[0m \u001b[0mlabels\u001b[0m\u001b[0;34m,\u001b[0m \u001b[0mpos_label\u001b[0m\u001b[0;34m)\u001b[0m\u001b[0;34m\u001b[0m\u001b[0;34m\u001b[0m\u001b[0m\n\u001b[0m\u001b[1;32m   1831\u001b[0m \u001b[0;34m\u001b[0m\u001b[0m\n\u001b[1;32m   1832\u001b[0m     \u001b[0;31m# Calculate tp_sum, pred_sum, true_sum ###\u001b[0m\u001b[0;34m\u001b[0m\u001b[0;34m\u001b[0m\u001b[0m\n",
            "\u001b[0;32m/usr/local/lib/python3.11/dist-packages/sklearn/metrics/_classification.py\u001b[0m in \u001b[0;36m_check_set_wise_labels\u001b[0;34m(y_true, y_pred, average, labels, pos_label)\u001b[0m\n\u001b[1;32m   1594\u001b[0m \u001b[0;34m\u001b[0m\u001b[0m\n\u001b[1;32m   1595\u001b[0m     \u001b[0my_true\u001b[0m\u001b[0;34m,\u001b[0m \u001b[0my_pred\u001b[0m \u001b[0;34m=\u001b[0m \u001b[0mattach_unique\u001b[0m\u001b[0;34m(\u001b[0m\u001b[0my_true\u001b[0m\u001b[0;34m,\u001b[0m \u001b[0my_pred\u001b[0m\u001b[0;34m)\u001b[0m\u001b[0;34m\u001b[0m\u001b[0;34m\u001b[0m\u001b[0m\n\u001b[0;32m-> 1596\u001b[0;31m     \u001b[0my_type\u001b[0m\u001b[0;34m,\u001b[0m \u001b[0my_true\u001b[0m\u001b[0;34m,\u001b[0m \u001b[0my_pred\u001b[0m \u001b[0;34m=\u001b[0m \u001b[0m_check_targets\u001b[0m\u001b[0;34m(\u001b[0m\u001b[0my_true\u001b[0m\u001b[0;34m,\u001b[0m \u001b[0my_pred\u001b[0m\u001b[0;34m)\u001b[0m\u001b[0;34m\u001b[0m\u001b[0;34m\u001b[0m\u001b[0m\n\u001b[0m\u001b[1;32m   1597\u001b[0m     \u001b[0;31m# Convert to Python primitive type to avoid NumPy type / Python str\u001b[0m\u001b[0;34m\u001b[0m\u001b[0;34m\u001b[0m\u001b[0m\n\u001b[1;32m   1598\u001b[0m     \u001b[0;31m# comparison. See https://github.com/numpy/numpy/issues/6784\u001b[0m\u001b[0;34m\u001b[0m\u001b[0;34m\u001b[0m\u001b[0m\n",
            "\u001b[0;32m/usr/local/lib/python3.11/dist-packages/sklearn/metrics/_classification.py\u001b[0m in \u001b[0;36m_check_targets\u001b[0;34m(y_true, y_pred)\u001b[0m\n\u001b[1;32m    116\u001b[0m     \u001b[0;31m# No metrics support \"multiclass-multioutput\" format\u001b[0m\u001b[0;34m\u001b[0m\u001b[0;34m\u001b[0m\u001b[0m\n\u001b[1;32m    117\u001b[0m     \u001b[0;32mif\u001b[0m \u001b[0my_type\u001b[0m \u001b[0;32mnot\u001b[0m \u001b[0;32min\u001b[0m \u001b[0;34m[\u001b[0m\u001b[0;34m\"binary\"\u001b[0m\u001b[0;34m,\u001b[0m \u001b[0;34m\"multiclass\"\u001b[0m\u001b[0;34m,\u001b[0m \u001b[0;34m\"multilabel-indicator\"\u001b[0m\u001b[0;34m]\u001b[0m\u001b[0;34m:\u001b[0m\u001b[0;34m\u001b[0m\u001b[0;34m\u001b[0m\u001b[0m\n\u001b[0;32m--> 118\u001b[0;31m         \u001b[0;32mraise\u001b[0m \u001b[0mValueError\u001b[0m\u001b[0;34m(\u001b[0m\u001b[0;34m\"{0} is not supported\"\u001b[0m\u001b[0;34m.\u001b[0m\u001b[0mformat\u001b[0m\u001b[0;34m(\u001b[0m\u001b[0my_type\u001b[0m\u001b[0;34m)\u001b[0m\u001b[0;34m)\u001b[0m\u001b[0;34m\u001b[0m\u001b[0;34m\u001b[0m\u001b[0m\n\u001b[0m\u001b[1;32m    119\u001b[0m \u001b[0;34m\u001b[0m\u001b[0m\n\u001b[1;32m    120\u001b[0m     \u001b[0;32mif\u001b[0m \u001b[0my_type\u001b[0m \u001b[0;32min\u001b[0m \u001b[0;34m[\u001b[0m\u001b[0;34m\"binary\"\u001b[0m\u001b[0;34m,\u001b[0m \u001b[0;34m\"multiclass\"\u001b[0m\u001b[0;34m]\u001b[0m\u001b[0;34m:\u001b[0m\u001b[0;34m\u001b[0m\u001b[0;34m\u001b[0m\u001b[0m\n",
            "\u001b[0;31mValueError\u001b[0m: unknown is not supported"
          ]
        }
      ]
    },
    {
      "cell_type": "code",
      "source": [
        "print(\"✅ Test set에 실제 질병 1 비율:\", y_multi[data.test_mask].sum().item() / y_multi[data.test_mask].numel())"
      ],
      "metadata": {
        "id": "yPMC4d5Jl7sf",
        "outputId": "3001a13e-0f50-46ac-f435-f7574429b926",
        "colab": {
          "base_uri": "https://localhost:8080/"
        }
      },
      "execution_count": null,
      "outputs": [
        {
          "output_type": "stream",
          "name": "stdout",
          "text": [
            "✅ Test set에 실제 질병 1 비율: 0.0\n"
          ]
        }
      ]
    },
    {
      "cell_type": "code",
      "source": [
        "def predict_diseases_by_protein(protein_id, threshold=0.1, top_k=None):\n",
        "    model.eval()\n",
        "\n",
        "    # 단백질 인덱스 가져오기\n",
        "    if protein_id not in protein_to_idx:\n",
        "        raise ValueError(f\"Unknown protein ID: {protein_id}\")\n",
        "    idx = protein_to_idx[protein_id]\n",
        "\n",
        "    # 예측 수행\n",
        "    with torch.no_grad():\n",
        "        out = model(data)\n",
        "        probs = out[idx].cpu().numpy()  # shape: [num_diseases]\n",
        "\n",
        "    # 질병 리스트 + 확률\n",
        "    disease_prob_pairs = [\n",
        "        (disease_ids[i], float(prob))\n",
        "        for i, prob in enumerate(probs)\n",
        "        if prob > threshold  # threshold 이상인 것만\n",
        "    ]\n",
        "\n",
        "    # 확률 내림차순 정렬\n",
        "    disease_prob_pairs.sort(key=lambda x: x[1], reverse=True)\n",
        "\n",
        "    # 상위 N개만 (선택)\n",
        "    if top_k:\n",
        "        disease_prob_pairs = disease_prob_pairs[:top_k]\n",
        "\n",
        "    return disease_prob_pairs\n"
      ],
      "metadata": {
        "id": "B6dVJeAMuXZw",
        "collapsed": true
      },
      "execution_count": null,
      "outputs": []
    },
    {
      "cell_type": "code",
      "source": [
        "protein = \"Q9HAZ2\"\n",
        "predicted = predict_diseases_by_protein(protein, threshold=0.1, top_k=5)\n",
        "\n",
        "print(f\"🔍 단백질 {protein} 관련 질병 예측:\")\n",
        "for disease, prob in predicted:\n",
        "    print(f\"🦠 {disease}: {prob:.4f}\")"
      ],
      "metadata": {
        "id": "MhcvXroRm1B-",
        "outputId": "bf2a7737-5c3d-4894-ebe9-ec1741404513",
        "colab": {
          "base_uri": "https://localhost:8080/"
        }
      },
      "execution_count": null,
      "outputs": [
        {
          "output_type": "stream",
          "name": "stdout",
          "text": [
            "🔍 단백질 Q9HAZ2 관련 질병 예측:\n"
          ]
        }
      ]
    },
    {
      "cell_type": "code",
      "source": [
        "from sklearn.metrics import f1_score, precision_score, recall_score\n",
        "\n",
        "# 평가\n",
        "model.eval()\n",
        "with torch.no_grad():\n",
        "    pred = (out[data.test_mask] > 0.5).int().cpu()\n",
        "    true = y_multi[data.test_mask].int().cpu()\n",
        "\n",
        "    acc = (pred == true).float().mean().item()\n",
        "    f1 = f1_score(true, pred, average='micro', zero_division=0)\n",
        "    p = precision_score(true, pred, average='micro', zero_division=0)\n",
        "    r = recall_score(true, pred, average='micro', zero_division=0)\n",
        "\n",
        "    print(f\"Epoch {epoch:03d} | Loss: {loss:.4f} | Acc: {acc:.4f} | F1: {f1:.4f} | P: {p:.4f} | R: {r:.4f}\")"
      ],
      "metadata": {
        "id": "lZzRp-CxoZEJ"
      },
      "execution_count": null,
      "outputs": []
    },
    {
      "cell_type": "code",
      "source": [
        "from sklearn.metrics import f1_score, precision_score, recall_score\n",
        "\n",
        "# flatten 후 평가\n",
        "f1 = f1_score(true.cpu().numpy().flatten(), pred.cpu().numpy().flatten())\n",
        "precision = precision_score(true.cpu().numpy().flatten(), pred.cpu().numpy().flatten())\n",
        "recall = recall_score(true.cpu().numpy().flatten(), pred.cpu().numpy().flatten())\n",
        "\n",
        "print(f\"Epoch {epoch:03d} | Loss: {loss:.4f} | Acc: {acc:.4f} | F1: {f1:.4f} | P: {precision:.4f} | R: {recall:.4f}\")"
      ],
      "metadata": {
        "id": "FdiehX74kIix",
        "outputId": "c94cd539-cba5-46c8-f641-ee687a86564e",
        "colab": {
          "base_uri": "https://localhost:8080/"
        }
      },
      "execution_count": null,
      "outputs": [
        {
          "output_type": "stream",
          "name": "stdout",
          "text": [
            "Epoch 100 | Loss: 0.0001 | Acc: 1.0000 | F1: 0.0000 | P: 0.0000 | R: 0.0000\n"
          ]
        },
        {
          "output_type": "stream",
          "name": "stderr",
          "text": [
            "/usr/local/lib/python3.11/dist-packages/sklearn/metrics/_classification.py:1565: UndefinedMetricWarning: F-score is ill-defined and being set to 0.0 due to no true nor predicted samples. Use `zero_division` parameter to control this behavior.\n",
            "  _warn_prf(average, modifier, f\"{metric.capitalize()} is\", len(result))\n",
            "/usr/local/lib/python3.11/dist-packages/sklearn/metrics/_classification.py:1565: UndefinedMetricWarning: Precision is ill-defined and being set to 0.0 due to no predicted samples. Use `zero_division` parameter to control this behavior.\n",
            "  _warn_prf(average, modifier, f\"{metric.capitalize()} is\", len(result))\n",
            "/usr/local/lib/python3.11/dist-packages/sklearn/metrics/_classification.py:1565: UndefinedMetricWarning: Recall is ill-defined and being set to 0.0 due to no true samples. Use `zero_division` parameter to control this behavior.\n",
            "  _warn_prf(average, modifier, f\"{metric.capitalize()} is\", len(result))\n"
          ]
        }
      ]
    },
    {
      "cell_type": "code",
      "source": [
        "print(\"1의 비율 (True):\", true.sum().item() / true.numel())\n",
        "print(\"1의 비율 (Pred):\", pred.sum().item() / pred.numel())"
      ],
      "metadata": {
        "id": "Hg47dc3QkQ_x",
        "outputId": "89489da2-334c-46eb-bb6f-d50e7f5ed296",
        "colab": {
          "base_uri": "https://localhost:8080/"
        }
      },
      "execution_count": null,
      "outputs": [
        {
          "output_type": "stream",
          "name": "stdout",
          "text": [
            "1의 비율 (True): 0.0\n",
            "1의 비율 (Pred): 0.0\n"
          ]
        }
      ]
    },
    {
      "cell_type": "markdown",
      "source": [
        "# GAT 모델 정의 및 학습"
      ],
      "metadata": {
        "id": "IJZoUOZLs13I"
      }
    },
    {
      "cell_type": "code",
      "source": [
        "# 표준 라이브러리\n",
        "import numpy as np\n",
        "import pandas as pd\n",
        "import networkx as nx\n",
        "\n",
        "# Scikit-learn\n",
        "from sklearn.model_selection import train_test_split\n",
        "from sklearn.preprocessing import LabelEncoder, StandardScaler, OneHotEncoder\n",
        "\n",
        "# PyTorch\n",
        "import torch\n",
        "import torch.nn as nn\n",
        "import torch.nn.functional as F\n",
        "\n",
        "# PyTorch Geometric\n",
        "from torch_geometric.data import Data\n",
        "from torch_geometric.nn import GATConv\n",
        "\n",
        "\n",
        "class GAT(nn.Module):\n",
        "    def __init__(self, in_channels, hidden_channels, out_channels, heads=1):\n",
        "        super(GAT, self).__init__()\n",
        "        self.gat1 = GATConv(in_channels, hidden_channels, heads=heads)\n",
        "        self.gat2 = GATConv(hidden_channels * heads, out_channels, heads=1)\n",
        "\n",
        "    def forward(self, data):\n",
        "        x, edge_index = data.x, data.edge_index\n",
        "        x = self.gat1(x, edge_index)\n",
        "        x = F.elu(x)\n",
        "        x = self.gat2(x, edge_index)\n",
        "        return x\n"
      ],
      "metadata": {
        "id": "XUi0Srk-h_jD"
      },
      "execution_count": null,
      "outputs": []
    },
    {
      "cell_type": "code",
      "source": [
        "# Google Colab에 맞게 경로 설정 및 파일 업로드 지원 포함\n",
        "import numpy as np\n",
        "import pandas as pd\n",
        "import networkx as nx\n",
        "\n",
        "from sklearn.model_selection import train_test_split\n",
        "from sklearn.preprocessing import LabelEncoder, StandardScaler, OneHotEncoder\n",
        "\n",
        "import torch\n",
        "import torch.nn as nn\n",
        "import torch.nn.functional as F\n",
        "\n",
        "from torch_geometric.data import Data\n",
        "from torch_geometric.nn import GATConv\n",
        "\n",
        "# Colab에서 파일 업로드 지원\n",
        "from google.colab import files\n",
        "uploaded = files.upload()  # 파일 업로드\n",
        "csv_path = list(uploaded.keys())[0]  # 첫 번째 업로드된 파일 사용\n",
        "\n",
        "class GAT(nn.Module):\n",
        "    def __init__(self, in_channels, hidden_channels, out_channels, heads=1):\n",
        "        super(GAT, self).__init__()\n",
        "        self.gat1 = GATConv(in_channels, hidden_channels, heads=heads)\n",
        "        self.gat2 = GATConv(hidden_channels * heads, out_channels, heads=1)\n",
        "\n",
        "    def forward(self, data):\n",
        "        x, edge_index = data.x, data.edge_index\n",
        "        x = self.gat1(x, edge_index)\n",
        "        x = F.elu(x)\n",
        "        x = self.gat2(x, edge_index)\n",
        "        return x\n",
        "\n",
        "\n",
        "class ProteinDiseasePredictor:\n",
        "    def __init__(self, csv_path):\n",
        "        self.df = pd.read_csv(csv_path)\n",
        "        self.data = None\n",
        "        self.label_encoder = LabelEncoder()\n",
        "        self.protein_to_idx = {}\n",
        "        self.idx_to_protein = {}\n",
        "        self.idx_to_disease = {}\n",
        "        self.disease_labels = None\n",
        "\n",
        "    def preprocess_data(self):\n",
        "        df = self.df.copy()\n",
        "        all_proteins = pd.unique(df[['protein1', 'protein2']].values.ravel())\n",
        "        self.protein_to_idx = {protein: idx for idx, protein in enumerate(all_proteins)}\n",
        "        self.idx_to_protein = {idx: protein for protein, idx in self.protein_to_idx.items()}\n",
        "\n",
        "        edges = df[['protein1', 'protein2']].dropna().values\n",
        "        edge_index = torch.tensor([[self.protein_to_idx[a], self.protein_to_idx[b]] for a, b in edges], dtype=torch.long).T\n",
        "\n",
        "        df['sequence'] = df['sequence'].fillna('')\n",
        "        df['GO_Terms'] = df['GO_Terms'].fillna('')\n",
        "        df['PubMed_IDs'] = df['PubMed_IDs'].fillna('') if 'PubMed_IDs' in df.columns else ''\n",
        "        df['globalMetricValue'] = df['globalMetricValue'].fillna(0)\n",
        "        df['organismScientificName'] = df.get('organismScientificName', pd.Series(['Unknown'] * len(df))).fillna('Unknown')\n",
        "        df['sequence_length'] = df['sequence'].apply(len)\n",
        "        df['go_term_count'] = df['GO_Terms'].apply(lambda x: len(x.split(';')) if x else 0)\n",
        "        df['pubmed_count'] = df['PubMed_IDs'].apply(lambda x: len(str(x).split(';')) if pd.notnull(x) else 0) if 'PubMed_IDs' in df.columns else 0\n",
        "\n",
        "        ppi_edges = df[['protein1', 'protein2', 'combined_score']].dropna()\n",
        "        ppi_graph = nx.from_pandas_edgelist(ppi_edges, source='protein1', target='protein2', edge_attr='combined_score')\n",
        "        ppi_degree = dict(ppi_graph.degree())\n",
        "        ppi_avg_score = {node: np.mean([d['combined_score'] for _, _, d in ppi_graph.edges(node, data=True)]) for node in ppi_graph.nodes()}\n",
        "        df['ppi_degree'] = df['protein1'].map(ppi_degree).fillna(0)\n",
        "        df['ppi_avg_score'] = df['protein1'].map(ppi_avg_score).fillna(0)\n",
        "        df['pdb_count'] = df['PDB_IDs'].fillna('').apply(lambda x: len(x.split(';')) if x else 0)\n",
        "        gene_disease_count = df.groupby('Gene ID')['Disease ID'].nunique()\n",
        "        df['gene_disease_count'] = df['Gene ID'].map(gene_disease_count).fillna(0)\n",
        "\n",
        "        numerical_features = ['sequence_length', 'go_term_count', 'pubmed_count', 'globalMetricValue',\n",
        "                              'ppi_degree', 'ppi_avg_score', 'pdb_count', 'gene_disease_count']\n",
        "        scaler = StandardScaler()\n",
        "        scaled_numerical = scaler.fit_transform(df[numerical_features])\n",
        "\n",
        "        categorical_features = ['organismScientificName']\n",
        "        df[categorical_features] = df[categorical_features].fillna('Unknown')\n",
        "        encoder = OneHotEncoder(sparse_output=False, handle_unknown='ignore')\n",
        "        encoded_categorical = encoder.fit_transform(df[categorical_features])\n",
        "\n",
        "        feature_matrix = np.hstack([scaled_numerical, encoded_categorical])\n",
        "\n",
        "        df['protein_index'] = df['protein1'].map(self.protein_to_idx)\n",
        "        node_features = np.zeros((len(self.protein_to_idx), feature_matrix.shape[1]))\n",
        "        counts = df['protein_index'].value_counts().to_dict()\n",
        "        for idx, row in df.iterrows():\n",
        "            p_idx = row['protein_index']\n",
        "            if pd.notnull(p_idx):\n",
        "                node_features[int(p_idx)] += feature_matrix[idx]\n",
        "        for prot, idx in self.protein_to_idx.items():\n",
        "            count = counts.get(idx, 1)\n",
        "            node_features[idx] /= count\n",
        "\n",
        "        x = torch.tensor(node_features, dtype=torch.float)\n",
        "\n",
        "        df = df.dropna(subset=['Disease ID'])\n",
        "        df = df.groupby('protein1').first().reset_index()\n",
        "        y_raw = df[['protein1', 'Disease ID']]\n",
        "        self.label_encoder.fit(y_raw['Disease ID'])\n",
        "        self.idx_to_disease = {i: v for i, v in enumerate(self.label_encoder.classes_)}\n",
        "        y_dict = dict(zip(y_raw['protein1'], self.label_encoder.transform(y_raw['Disease ID'])))\n",
        "        y = torch.tensor([y_dict.get(prot, -1) for prot in self.protein_to_idx.keys()])\n",
        "\n",
        "        mask = y != -1\n",
        "        self.data = Data(x=x, edge_index=edge_index, y=y, train_mask=mask, test_mask=mask)\n",
        "\n",
        "    def train(self, hidden_channels=64, epochs=100, lr=0.01):\n",
        "        data = self.data\n",
        "        train_idx, test_idx = train_test_split(torch.where(data.train_mask)[0], test_size=0.2, stratify=data.y[data.train_mask], random_state=42)\n",
        "\n",
        "        data.train_mask[:] = False\n",
        "        data.test_mask[:] = False\n",
        "        data.train_mask[train_idx] = True\n",
        "        data.test_mask[test_idx] = True\n",
        "\n",
        "        in_channels = data.num_node_features\n",
        "        out_channels = len(self.label_encoder.classes_)\n",
        "        model = GAT(in_channels, hidden_channels, out_channels)\n",
        "        optimizer = torch.optim.Adam(model.parameters(), lr=lr)\n",
        "        loss_fn = nn.CrossEntropyLoss()\n",
        "\n",
        "        for epoch in range(1, epochs + 1):\n",
        "            model.train()\n",
        "            optimizer.zero_grad()\n",
        "            out = model(data)\n",
        "            loss = loss_fn(out[data.train_mask], data.y[data.train_mask])\n",
        "            loss.backward()\n",
        "            optimizer.step()\n",
        "\n",
        "            model.eval()\n",
        "            pred = out.argmax(dim=1)\n",
        "            correct = pred[data.test_mask] == data.y[data.test_mask]\n",
        "            acc = int(correct.sum()) / int(data.test_mask.sum())\n",
        "\n",
        "            print(f\"Epoch {epoch:03d} | Loss: {loss:.4f} | Test Acc: {acc:.4f}\")\n",
        "\n",
        "        self.model = model\n",
        "\n",
        "    def predict(self):\n",
        "        self.model.eval()\n",
        "        out = self.model(self.data)\n",
        "        pred = out.argmax(dim=1)\n",
        "        protein_predictions = {\n",
        "            self.idx_to_protein[idx]: self.idx_to_disease[pred[idx].item()] for idx in range(len(pred)) if self.data.train_mask[idx]\n",
        "        }\n",
        "        predictions_df = pd.DataFrame(list(protein_predictions.items()), columns=['Protein', 'Predicted_Disease_ID'])\n",
        "        print(predictions_df.head())\n",
        "        return predictions_df\n",
        "\n",
        "# 실행 예시\n",
        "predictor = ProteinDiseasePredictor(csv_path)\n",
        "predictor.preprocess_data()\n",
        "predictor.train()\n",
        "predictor.predict()\n"
      ],
      "metadata": {
        "id": "ZujHWOtlh_Ww",
        "colab": {
          "base_uri": "https://localhost:8080/",
          "height": 397
        },
        "outputId": "25063872-dfc4-4c4b-90c9-a70ffebaad8c"
      },
      "execution_count": null,
      "outputs": [
        {
          "output_type": "error",
          "ename": "ModuleNotFoundError",
          "evalue": "No module named 'torch_geometric'",
          "traceback": [
            "\u001b[0;31m---------------------------------------------------------------------------\u001b[0m",
            "\u001b[0;31mModuleNotFoundError\u001b[0m                       Traceback (most recent call last)",
            "\u001b[0;32m<ipython-input-1-bd8f319f4bbb>\u001b[0m in \u001b[0;36m<cell line: 0>\u001b[0;34m()\u001b[0m\n\u001b[1;32m     11\u001b[0m \u001b[0;32mimport\u001b[0m \u001b[0mtorch\u001b[0m\u001b[0;34m.\u001b[0m\u001b[0mnn\u001b[0m\u001b[0;34m.\u001b[0m\u001b[0mfunctional\u001b[0m \u001b[0;32mas\u001b[0m \u001b[0mF\u001b[0m\u001b[0;34m\u001b[0m\u001b[0;34m\u001b[0m\u001b[0m\n\u001b[1;32m     12\u001b[0m \u001b[0;34m\u001b[0m\u001b[0m\n\u001b[0;32m---> 13\u001b[0;31m \u001b[0;32mfrom\u001b[0m \u001b[0mtorch_geometric\u001b[0m\u001b[0;34m.\u001b[0m\u001b[0mdata\u001b[0m \u001b[0;32mimport\u001b[0m \u001b[0mData\u001b[0m\u001b[0;34m\u001b[0m\u001b[0;34m\u001b[0m\u001b[0m\n\u001b[0m\u001b[1;32m     14\u001b[0m \u001b[0;32mfrom\u001b[0m \u001b[0mtorch_geometric\u001b[0m\u001b[0;34m.\u001b[0m\u001b[0mnn\u001b[0m \u001b[0;32mimport\u001b[0m \u001b[0mGATConv\u001b[0m\u001b[0;34m\u001b[0m\u001b[0;34m\u001b[0m\u001b[0m\n\u001b[1;32m     15\u001b[0m \u001b[0;34m\u001b[0m\u001b[0m\n",
            "\u001b[0;31mModuleNotFoundError\u001b[0m: No module named 'torch_geometric'",
            "",
            "\u001b[0;31m---------------------------------------------------------------------------\u001b[0;32m\nNOTE: If your import is failing due to a missing package, you can\nmanually install dependencies using either !pip or !apt.\n\nTo view examples of installing some common dependencies, click the\n\"Open Examples\" button below.\n\u001b[0;31m---------------------------------------------------------------------------\u001b[0m\n"
          ],
          "errorDetails": {
            "actions": [
              {
                "action": "open_url",
                "actionText": "Open Examples",
                "url": "/notebooks/snippets/importing_libraries.ipynb"
              }
            ]
          }
        }
      ]
    },
    {
      "cell_type": "markdown",
      "source": [
        "## ipynb로 어느정도 1차 목표까지 했으면 .py로 변환하고, class화도 하고 유지보수 하기 쉽게 정리해줘야함."
      ],
      "metadata": {
        "id": "0vWWn30Vyors"
      }
    },
    {
      "cell_type": "markdown",
      "source": [
        "# 단백질 분포도에 대한 시각화"
      ],
      "metadata": {
        "id": "rTc3aSHop09y"
      }
    },
    {
      "cell_type": "code",
      "source": [
        "# 시각화 라이브러리\n",
        "import matplotlib.pyplot as plt\n",
        "import seaborn as sns"
      ],
      "metadata": {
        "id": "nA_MVZceAs83"
      },
      "execution_count": null,
      "outputs": []
    },
    {
      "cell_type": "code",
      "source": [
        "# combined_score에 대한 분포 시각화\n",
        "sns.displot(ppi_merged[\"combined_score\"], kde=True)  # kde=True는 밀도 추정을 추가합니다.\n",
        "plt.show()\n"
      ],
      "metadata": {
        "id": "rYjNCMKvyprC"
      },
      "execution_count": null,
      "outputs": []
    },
    {
      "cell_type": "markdown",
      "source": [
        "# 시각화\n",
        "단백질 간에 연관성 스코어를 가지고 시각화를 한다. \\\n",
        "그 단백질이 어느 질병과 연관이 있으며 그 단백질은 어떤 단백질하고 연관이 있는지 파악할 수 있다."
      ],
      "metadata": {
        "id": "JsqZUVtvEWzs"
      }
    },
    {
      "cell_type": "code",
      "source": [
        "import networkx as nx\n",
        "import matplotlib.pyplot as plt\n",
        "\n",
        "# 예시: 특정 질병만 추출\n",
        "target_disease = 'C0036095'\n",
        "sub_df = ppi_merged[ppi_merged['Disease ID'] == target_disease]\n",
        "\n",
        "# 그래프 생성\n",
        "G = nx.Graph()\n",
        "\n",
        "# edge 추가 (protein1 - protein2)\n",
        "G = nx.Graph()\n",
        "for _, row in sub_df[sub_df['combined_score'] > 500].iterrows():\n",
        "    G.add_edge(row['protein1'], row['protein2'], weight=row['combined_score'])\n",
        "\n",
        "# 시각화\n",
        "plt.figure(figsize=(10,10))\n",
        "nx.draw_networkx(G, with_labels=False, node_size=30, alpha=0.7)\n",
        "plt.title(f\"PPI Network for Disease: {target_disease}\")\n",
        "plt.show()\n"
      ],
      "metadata": {
        "id": "a5-6OeTDFw9u"
      },
      "execution_count": null,
      "outputs": []
    }
  ]
}