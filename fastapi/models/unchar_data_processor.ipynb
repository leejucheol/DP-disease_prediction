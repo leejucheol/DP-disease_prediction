{
 "cells": [
  {
   "cell_type": "code",
   "execution_count": 2,
   "id": "380d4e42",
   "metadata": {},
   "outputs": [],
   "source": [
    "import pandas as pd"
   ]
  },
  {
   "cell_type": "code",
   "execution_count": 30,
   "id": "4c1ed0d5",
   "metadata": {},
   "outputs": [
    {
     "name": "stdout",
     "output_type": "stream",
     "text": [
      "True\n"
     ]
    },
    {
     "name": "stderr",
     "output_type": "stream",
     "text": [
      "<>:2: SyntaxWarning: invalid escape sequence '\\d'\n",
      "<>:2: SyntaxWarning: invalid escape sequence '\\d'\n",
      "C:\\Users\\jclle\\AppData\\Local\\Temp\\ipykernel_2320\\1115393165.py:2: SyntaxWarning: invalid escape sequence '\\d'\n",
      "  print(os.path.exists(\"..\\data\\processed_train.csv\"))\n"
     ]
    }
   ],
   "source": [
    "import os\n",
    "print(os.path.exists(\"..\\data\\processed_train.csv\"))\n"
   ]
  },
  {
   "cell_type": "code",
   "execution_count": 31,
   "id": "a2642ad3",
   "metadata": {},
   "outputs": [
    {
     "name": "stderr",
     "output_type": "stream",
     "text": [
      "<>:1: SyntaxWarning: invalid escape sequence '\\d'\n",
      "<>:1: SyntaxWarning: invalid escape sequence '\\d'\n",
      "C:\\Users\\jclle\\AppData\\Local\\Temp\\ipykernel_2320\\522930405.py:1: SyntaxWarning: invalid escape sequence '\\d'\n",
      "  processed_train = pd.read_csv('..\\data\\processed_train.csv')\n"
     ]
    }
   ],
   "source": [
    "processed_train = pd.read_csv('..\\data\\processed_train.csv')\n",
    "combined = pd.read_csv(\"../data/raw/combined_uncharacterized_proteins.csv\")"
   ]
  },
  {
   "cell_type": "code",
   "execution_count": 33,
   "id": "19b950c3",
   "metadata": {},
   "outputs": [],
   "source": [
    "if \"uniprotAccession\" in processed_train.columns and \"uniprotAccession\" in combined.columns:\n",
    "    df_combined_filtered = combined[~combined[\"uniprotAccession\"].isin(processed_train[\"uniprotAccession\"])]\n",
    "else:\n",
    "    raise KeyError(\"두 데이터프레임에 'uniprotAccession' 컬럼이 있는지 확인하세요.\")\n",
    "df_merged = pd.concat([processed_train, combined], ignore_index=True, sort=False)"
   ]
  },
  {
   "cell_type": "code",
   "execution_count": 34,
   "id": "e06fe8bb",
   "metadata": {},
   "outputs": [],
   "source": [
    "# 5. 결과 저장\n",
    "df_merged.to_csv(\"../data/processed_plus_combined.csv\", index=False)"
   ]
  },
  {
   "cell_type": "markdown",
   "id": "4932cf6e",
   "metadata": {},
   "source": [
    "미지 단백질 10프로 추출"
   ]
  },
  {
   "cell_type": "code",
   "execution_count": 35,
   "id": "fce7e885",
   "metadata": {},
   "outputs": [],
   "source": [
    "combined_sampled = combined.sample(frac=0.1, random_state=42)"
   ]
  },
  {
   "cell_type": "code",
   "execution_count": 36,
   "id": "091ae9cc",
   "metadata": {},
   "outputs": [
    {
     "name": "stderr",
     "output_type": "stream",
     "text": [
      "<>:1: SyntaxWarning: invalid escape sequence '\\d'\n",
      "<>:1: SyntaxWarning: invalid escape sequence '\\d'\n",
      "C:\\Users\\jclle\\AppData\\Local\\Temp\\ipykernel_2320\\2917088992.py:1: SyntaxWarning: invalid escape sequence '\\d'\n",
      "  processed_train = pd.read_csv('..\\data\\processed_train_small.csv')\n"
     ]
    }
   ],
   "source": [
    "processed_train = pd.read_csv('..\\data\\processed_train_small.csv')"
   ]
  },
  {
   "cell_type": "code",
   "execution_count": 37,
   "id": "55ff262f",
   "metadata": {},
   "outputs": [],
   "source": [
    "if \"uniprotAccession\" in processed_train.columns and \"uniprotAccession\" in combined_sampled.columns:\n",
    "    df_combined_filtered = combined_sampled[~combined_sampled[\"uniprotAccession\"].isin(processed_train[\"uniprotAccession\"])]\n",
    "else:\n",
    "    raise KeyError(\"두 데이터프레임에 'uniprotAccession' 컬럼이 있는지 확인하세요.\")\n",
    "df_merged = pd.concat([processed_train, combined_sampled], ignore_index=True, sort=False)"
   ]
  },
  {
   "cell_type": "code",
   "execution_count": 38,
   "id": "889896e8",
   "metadata": {},
   "outputs": [],
   "source": [
    "# 5. 결과 저장\n",
    "df_merged.to_csv(\"../data/processed_plus_combined_small.csv\", index=False)"
   ]
  }
 ],
 "metadata": {
  "kernelspec": {
   "display_name": "Python 3",
   "language": "python",
   "name": "python3"
  },
  "language_info": {
   "codemirror_mode": {
    "name": "ipython",
    "version": 3
   },
   "file_extension": ".py",
   "mimetype": "text/x-python",
   "name": "python",
   "nbconvert_exporter": "python",
   "pygments_lexer": "ipython3",
   "version": "3.13.2"
  }
 },
 "nbformat": 4,
 "nbformat_minor": 5
}
