{
 "cells": [
  {
   "cell_type": "code",
   "execution_count": 7,
   "id": "19a263e3",
   "metadata": {},
   "outputs": [],
   "source": [
    "import pandas as pd"
   ]
  },
  {
   "cell_type": "code",
   "execution_count": 8,
   "id": "84419ab1",
   "metadata": {},
   "outputs": [
    {
     "name": "stderr",
     "output_type": "stream",
     "text": [
      "C:\\Users\\dh107\\AppData\\Local\\Temp\\ipykernel_18396\\144004549.py:2: DtypeWarning: Columns (35) have mixed types. Specify dtype option on import or set low_memory=False.\n",
      "  train_data = pd.read_csv('../data/raw/train_data.csv')\n"
     ]
    }
   ],
   "source": [
    "train_data_small = pd.read_csv('../data/raw/train_data_small.csv')\n",
    "train_data = pd.read_csv('../data/raw/train_data.csv')"
   ]
  },
  {
   "cell_type": "code",
   "execution_count": 9,
   "id": "8b04de45",
   "metadata": {},
   "outputs": [
    {
     "name": "stdout",
     "output_type": "stream",
     "text": [
      "data shape = (3402, 45)\n",
      "Index(['Disease ID', 'Disease Name', 'Gene ID', 'UniProt_ID', 'GO_Terms',\n",
      "       'PDB_IDs', 'PubMed_IDs', 'Protein_ID_Formatted', 'protein1', 'protein2',\n",
      "       'combined_score', 'entryId', 'gene_x', 'geneSynonyms',\n",
      "       'isReferenceProteome', 'isReviewed', 'sequenceChecksum',\n",
      "       'sequenceVersionDate', 'uniprotAccession', 'uniprotId',\n",
      "       'uniprotDescription', 'taxId', 'organismScientificName',\n",
      "       'globalMetricValue', 'uniprotStart', 'uniprotEnd', 'uniprotSequence',\n",
      "       'modelCreatedDate', 'organismCommonNames', 'proteinFullNames',\n",
      "       'latestVersion', 'allVersions', 'isAMdata', 'organismScientificNameT',\n",
      "       '_version_', 'proteinShortNames', 'uniprotAccession_unchar',\n",
      "       'entry_name', 'protein_name', 'organism', 'tax_id', 'gene_y',\n",
      "       'protein_existence', 'sequence_version', 'sequence'],\n",
      "      dtype='object')\n"
     ]
    }
   ],
   "source": [
    "def print_data(df):\n",
    "    print(f\"data shape = {df.shape}\")\n",
    "    print(f\"{df.columns}\")\n",
    "\n",
    "print_data(train_data_small)"
   ]
  },
  {
   "cell_type": "markdown",
   "id": "481457bd",
   "metadata": {},
   "source": [
    "데이터를 보면 중복된 컬럼들이 보인다.(UniProt_ID, uniprotId, uniprotAccession 등)\n",
    "따라서 아래와 같은 이유로 중복 및 학습에 불필요한 컬럼은 제거하여 학습에 사용한다.\n",
    "제거된 데이터는 따로 `processed_train.csv`, `processed_train_small.csv` 로 저장한다.\n",
    "\n",
    "| 컬럼명                       | 삭제 이유 (불필요성의 근거)                                              |\n",
    "|-----------------------------|--------------------------------------------------------------|\n",
    "| `PubMed_IDs`                | 논문 참조 ID로, 모델 예측에는 의미가 없으며 외부 메타정보에 해당                      |\n",
    "| `entryId`                   | 데이터베이스의 내부 식별자로 분석이나 모델링에서 생물학적 의미 없음                     |\n",
    "| `sequenceChecksum`          | 단백질 서열의 검증용 해시값으로, 서열 원본 정보 존재 시 불필요                        |\n",
    "| `sequenceVersionDate`       | 서열 업데이트 날짜로 예측 모델에 활용 불가능 (생물학적 의미 X)                        |\n",
    "| `uniprotDescription`        | 긴 텍스트 설명이며, 이미 단백질 이름 등 더 명확한 정보 존재 (중복 및 불필요)            |\n",
    "| `organismScientificName`    | 모든 데이터가 인간 단백질이라면 동일값으로 의미 없음                                 |\n",
    "| `globalMetricValue`         | 데이터베이스에서의 품질 점수 등으로, 생물학적 의미 없음                               |\n",
    "| `uniprotStart`, `uniprotEnd`| 단백질 서열의 시작과 끝 위치는 서열 정보가 존재하면 불필요                           |\n",
    "| `uniprotSequence`           | 서열 정보가 이미 `sequence` 컬럼에 존재하므로 중복                                  |\n",
    "| `modelCreatedDate`,<br>`latestVersion`, `allVersions`, `_version_` | 데이터베이스 관리용 메타정보로 생물학적 모델 예측과 무관 |\n",
    "| `proteinShortNames`,<br>`entry_name`, `protein_name`              | 이미 `proteinFullNames` 컬럼에 충분히 명시되어 중복 |\n",
    "| `uniprotAccession_unchar`   | 원본 `uniprotAccession`의 특수문자 제거 형태로 중복 정보                            |\n",
    "| `organism`                  | 생물학적 의미가 명확한 `organismScientificName`과 중복이며 데이터가 인간이라면 의미 없음 |\n",
    "| `protein_existence`         | 단백질의 존재 여부는 일반적으로 모두 존재한다고 가정하며 의미가 낮음                  |\n",
    "| `sequence_version`          | 서열의 버전 정보로 생물학적 예측과 무관                                            |\n",
    "| `UniProt_ID`, `uniprotId`   | `uniprotAccession` 컬럼과 중복되며, 특히 isoform 등으로 인해 대표성 및 일관성 떨어짐  |\n",
    "| `gene_x`                    | 결측치가 많아 유전자 정보로서 신뢰도 낮음                                          |\n",
    "| `gene_y`                    | `Gene ID`와 완벽히 중복되므로 불필요한 컬럼                                       |\n",
    "| 그 외 나머지                    | 다른 컬럼과 중복                                     |"
   ]
  },
  {
   "cell_type": "code",
   "execution_count": 10,
   "id": "bdcd7721",
   "metadata": {},
   "outputs": [],
   "source": [
    "# protein id 부분에 있는 \"9606.\" 문자열 제거\n",
    "def processing_protein_and_save(df):\n",
    "    df[\"protein1\"] = df[\"protein1\"].str.replace(\"9606.\", \"\", regex=False)\n",
    "    df[\"protein2\"] = df[\"protein2\"].str.replace(\"9606.\", \"\", regex=False)\n",
    "\n",
    "# df, main_path: 드롭 후 최종 테이블 저장 경로)\n",
    "def delete_columns_and_save(df, main_path):\n",
    "    # 삭제할 컬럼들 정의\n",
    "    cols_to_drop = [\n",
    "        'PubMed_IDs', 'entryId', 'sequenceChecksum', 'sequenceVersionDate',\n",
    "        'uniprotDescription', 'organismScientificName', 'globalMetricValue',\n",
    "        'uniprotStart', 'uniprotEnd', 'uniprotSequence', 'modelCreatedDate',\n",
    "        'latestVersion', 'allVersions', '_version_', 'proteinShortNames',\n",
    "        'uniprotAccession_unchar', 'entry_name', 'protein_name', 'organism',\n",
    "        'protein_existence', 'sequence_version', 'UniProt_ID', 'uniprotId',\n",
    "        'gene_x', 'gene_y', 'organismScientificNameT', 'tax_id', 'taxId', 'organismCommonNames', 'isAMdata', \n",
    "        'Protein_ID_Formatted', 'isReviewed', 'isReferenceProteome', 'geneSynonyms'\n",
    "    ]\n",
    "\n",
    "    # 유지할 컬럼 정의\n",
    "    cols_to_keep = [col for col in df.columns if col not in cols_to_drop]\n",
    "    \n",
    "    print(\"유지할 컬럼:\", cols_to_keep)\n",
    "    print(\"삭제할 컬럼:\", cols_to_drop)\n",
    "\n",
    "    # protein 컬럼 가공\n",
    "    processing_protein_and_save(df)\n",
    "    print('protein 컬럼을 가공하였습니다.')\n",
    "\n",
    "    df_main = pd.DataFrame(df[cols_to_keep].copy())\n",
    "\n",
    "    # 잘 저장되었는지 확인\n",
    "    print(f\"main columns shape: {df_main.shape}\")\n",
    "\n",
    "    df_main.to_csv(main_path, index=False)\n",
    "    print(\"데이터가 모두 저장되었습니다.\")"
   ]
  },
  {
   "cell_type": "code",
   "execution_count": 11,
   "id": "6389fbab",
   "metadata": {},
   "outputs": [
    {
     "name": "stdout",
     "output_type": "stream",
     "text": [
      "유지할 컬럼: ['Disease ID', 'Disease Name', 'Gene ID', 'GO_Terms', 'PDB_IDs', 'protein1', 'protein2', 'combined_score', 'uniprotAccession', 'proteinFullNames', 'sequence']\n",
      "삭제할 컬럼: ['PubMed_IDs', 'entryId', 'sequenceChecksum', 'sequenceVersionDate', 'uniprotDescription', 'organismScientificName', 'globalMetricValue', 'uniprotStart', 'uniprotEnd', 'uniprotSequence', 'modelCreatedDate', 'latestVersion', 'allVersions', '_version_', 'proteinShortNames', 'uniprotAccession_unchar', 'entry_name', 'protein_name', 'organism', 'protein_existence', 'sequence_version', 'UniProt_ID', 'uniprotId', 'gene_x', 'gene_y', 'organismScientificNameT', 'tax_id', 'taxId', 'organismCommonNames', 'isAMdata', 'Protein_ID_Formatted', 'isReviewed', 'isReferenceProteome', 'geneSynonyms']\n",
      "protein 컬럼을 가공하였습니다.\n",
      "main columns shape: (3402, 11)\n",
      "데이터가 모두 저장되었습니다.\n",
      "유지할 컬럼: ['Disease ID', 'Disease Name', 'Gene ID', 'GO_Terms', 'PDB_IDs', 'protein1', 'protein2', 'combined_score', 'uniprotAccession', 'proteinFullNames', 'sequence']\n",
      "삭제할 컬럼: ['PubMed_IDs', 'entryId', 'sequenceChecksum', 'sequenceVersionDate', 'uniprotDescription', 'organismScientificName', 'globalMetricValue', 'uniprotStart', 'uniprotEnd', 'uniprotSequence', 'modelCreatedDate', 'latestVersion', 'allVersions', '_version_', 'proteinShortNames', 'uniprotAccession_unchar', 'entry_name', 'protein_name', 'organism', 'protein_existence', 'sequence_version', 'UniProt_ID', 'uniprotId', 'gene_x', 'gene_y', 'organismScientificNameT', 'tax_id', 'taxId', 'organismCommonNames', 'isAMdata', 'Protein_ID_Formatted', 'isReviewed', 'isReferenceProteome', 'geneSynonyms']\n",
      "protein 컬럼을 가공하였습니다.\n",
      "main columns shape: (340156, 11)\n",
      "데이터가 모두 저장되었습니다.\n"
     ]
    }
   ],
   "source": [
    "delete_columns_and_save(train_data_small, main_path=\"../data/processed_train_small.csv\")\n",
    "delete_columns_and_save(train_data, main_path=\"../data/processed_train.csv\")"
   ]
  },
  {
   "cell_type": "code",
   "execution_count": 12,
   "id": "f330634c",
   "metadata": {},
   "outputs": [
    {
     "name": "stdout",
     "output_type": "stream",
     "text": [
      "     Disease ID                    Disease Name  Gene ID UniProt_ID  \\\n",
      "0      C0026603                 Motion Sickness    63976     Q9HAZ2   \n",
      "1      C0035126              Reperfusion Injury     3312     P11142   \n",
      "2      C0018798        Congenital Heart Defects     4851     P46531   \n",
      "3      C0004114                     Astrocytoma     4851     P46531   \n",
      "4      C0024299                        Lymphoma     4851     P46531   \n",
      "...         ...                             ...      ...        ...   \n",
      "3397   C0036572                        Seizures    57468     Q9H2X9   \n",
      "3398   C0024299                        Lymphoma     4851     P46531   \n",
      "3399   C0948089         Acute Coronary Syndrome     3312     P11142   \n",
      "3400   C0027627             Neoplasm Metastasis    27436     Q9HC35   \n",
      "3401   C1960469  Left ventricular noncompaction    63976     Q9HAZ2   \n",
      "\n",
      "                                               GO_Terms  \\\n",
      "0     GO:0016235; GO:0005829; GO:0005654; GO:0005634...   \n",
      "1     GO:0072562; GO:0061202; GO:0005737; GO:0005829...   \n",
      "2     GO:0001669; GO:0005912; GO:0016324; GO:0009986...   \n",
      "3     GO:0001669; GO:0005912; GO:0016324; GO:0009986...   \n",
      "4     GO:0001669; GO:0005912; GO:0016324; GO:0009986...   \n",
      "...                                                 ...   \n",
      "3397  GO:0071944; GO:0032590; GO:0098978; GO:0016020...   \n",
      "3398  GO:0001669; GO:0005912; GO:0016324; GO:0009986...   \n",
      "3399  GO:0072562; GO:0061202; GO:0005737; GO:0005829...   \n",
      "3400  GO:0005737; GO:0005829; GO:0016020; GO:0005874...   \n",
      "3401  GO:0016235; GO:0005829; GO:0005654; GO:0005634...   \n",
      "\n",
      "                                                PDB_IDs  \\\n",
      "0                                2N1I:A; 6BW4:B; 6BW4:D   \n",
      "1     3AGY:C; 3AGY:D; 3AGY:F; 3AGZ:C; 3AGZ:D; 3AGZ:E...   \n",
      "2     1PB5:A; 1TOZ:A; 1YYH:A; 1YYH:B; 2F8X:K; 2F8Y:A...   \n",
      "3     1PB5:A; 1TOZ:A; 1YYH:A; 1YYH:B; 2F8X:K; 2F8Y:A...   \n",
      "4     1PB5:A; 1TOZ:A; 1YYH:A; 1YYH:B; 2F8X:K; 2F8Y:A...   \n",
      "...                                                 ...   \n",
      "3397                     6M23:A; 6M23:B; 7D8Z:A; 7D8Z:B   \n",
      "3398  1PB5:A; 1TOZ:A; 1YYH:A; 1YYH:B; 2F8X:K; 2F8Y:A...   \n",
      "3399  3AGY:C; 3AGY:D; 3AGY:F; 3AGZ:C; 3AGZ:D; 3AGZ:E...   \n",
      "3400                             4CGC:A; 4CGC:B; 4CGC:C   \n",
      "3401                             2N1I:A; 6BW4:B; 6BW4:D   \n",
      "\n",
      "                                             PubMed_IDs  Protein_ID_Formatted  \\\n",
      "0     11050005; 11214970; 12168954; 16710414; 154893...  9606.ENSP00000270722   \n",
      "1     3037489; 11093761; 15489334; 1286667; 8713105;...  9606.ENSP00000437125   \n",
      "2     15164053; 1831692; 17573339; 10079256; 9590294...  9606.ENSP00000498587   \n",
      "3     15164053; 1831692; 17573339; 10079256; 9590294...  9606.ENSP00000498587   \n",
      "4     15164053; 1831692; 17573339; 10079256; 9590294...  9606.ENSP00000498587   \n",
      "...                                                 ...                   ...   \n",
      "3397  12106695; 11780052; 15489334; 16344560; 105744...  9606.ENSP00000387694   \n",
      "3398  15164053; 1831692; 17573339; 10079256; 9590294...  9606.ENSP00000498587   \n",
      "3399  3037489; 11093761; 15489334; 1286667; 8713105;...  9606.ENSP00000437125   \n",
      "3400  10995578; 14702039; 15815621; 15489334; 176255...  9606.ENSP00000320663   \n",
      "3401  11050005; 11214970; 12168954; 16710414; 154893...  9606.ENSP00000270722   \n",
      "\n",
      "             protein1         protein2  ...      proteinShortNames  \\\n",
      "0     ENSP00000263025  ENSP00000270722  ...  MDS1/EVI1-like gene 1   \n",
      "1     ENSP00000261267  ENSP00000437125  ...                    NaN   \n",
      "2     ENSP00000498587  ENSP00000330393  ...                    NaN   \n",
      "3     ENSP00000291526  ENSP00000498587  ...                    NaN   \n",
      "4     ENSP00000298231  ENSP00000498587  ...                    NaN   \n",
      "...               ...              ...  ...                    ...   \n",
      "3397  ENSP00000361405  ENSP00000387694  ...                    NaN   \n",
      "3398  ENSP00000244007  ENSP00000498587  ...                    NaN   \n",
      "3399  ENSP00000346550  ENSP00000437125  ...                    NaN   \n",
      "3400  ENSP00000320663  ENSP00000400175  ...                    NaN   \n",
      "3401  ENSP00000410852  ENSP00000270722  ...  MDS1/EVI1-like gene 1   \n",
      "\n",
      "     uniprotAccession_unchar   entry_name  \\\n",
      "0                     Q9HAZ2  PRD16_HUMAN   \n",
      "1                     P11142  HSP7C_HUMAN   \n",
      "2                     P46531  NOTC1_HUMAN   \n",
      "3                     P46531  NOTC1_HUMAN   \n",
      "4                     P46531  NOTC1_HUMAN   \n",
      "...                      ...          ...   \n",
      "3397                  Q9H2X9  S12A5_HUMAN   \n",
      "3398                  P46531  NOTC1_HUMAN   \n",
      "3399                  P11142  HSP7C_HUMAN   \n",
      "3400                  Q9HC35  EMAL4_HUMAN   \n",
      "3401                  Q9HAZ2  PRD16_HUMAN   \n",
      "\n",
      "                                          protein_name      organism tax_id  \\\n",
      "0            Histone-lysine N-methyltransferase PRDM16  Homo sapiens   9606   \n",
      "1                    Heat shock cognate 71 kDa protein  Homo sapiens   9606   \n",
      "2             Neurogenic locus notch homolog protein 1  Homo sapiens   9606   \n",
      "3             Neurogenic locus notch homolog protein 1  Homo sapiens   9606   \n",
      "4             Neurogenic locus notch homolog protein 1  Homo sapiens   9606   \n",
      "...                                                ...           ...    ...   \n",
      "3397                 Solute carrier family 12 member 5  Homo sapiens   9606   \n",
      "3398          Neurogenic locus notch homolog protein 1  Homo sapiens   9606   \n",
      "3399                 Heat shock cognate 71 kDa protein  Homo sapiens   9606   \n",
      "3400  Echinoderm microtubule-associated protein-like 4  Homo sapiens   9606   \n",
      "3401         Histone-lysine N-methyltransferase PRDM16  Homo sapiens   9606   \n",
      "\n",
      "       gene_y protein_existence sequence_version  \\\n",
      "0      PRDM16                 1                3   \n",
      "1       HSPA8                 1                1   \n",
      "2      NOTCH1                 1                4   \n",
      "3      NOTCH1                 1                4   \n",
      "4      NOTCH1                 1                4   \n",
      "...       ...               ...              ...   \n",
      "3397  SLC12A5                 1                3   \n",
      "3398   NOTCH1                 1                4   \n",
      "3399    HSPA8                 1                1   \n",
      "3400     EML4                 1                3   \n",
      "3401   PRDM16                 1                3   \n",
      "\n",
      "                                               sequence  \n",
      "0     MRSKARARKLAKSDGDVVNNMYEPNRDLLASHSAEDEAEDSAMSPI...  \n",
      "1     MSKGPAVGIDLGTTYSCVGVFQHGKVEIIANDQGNRTTPSYVAFTD...  \n",
      "2     MPPLLAPLLCLALLPALAARGPRCSQPGETCLNGGKCEAANGTEAC...  \n",
      "3     MPPLLAPLLCLALLPALAARGPRCSQPGETCLNGGKCEAANGTEAC...  \n",
      "4     MPPLLAPLLCLALLPALAARGPRCSQPGETCLNGGKCEAANGTEAC...  \n",
      "...                                                 ...  \n",
      "3397  MSRRFTVTSLPPAGPARSPDPESRRHSVADPRHLPGEDVKGDGNPK...  \n",
      "3398  MPPLLAPLLCLALLPALAARGPRCSQPGETCLNGGKCEAANGTEAC...  \n",
      "3399  MSKGPAVGIDLGTTYSCVGVFQHGKVEIIANDQGNRTTPSYVAFTD...  \n",
      "3400  MDGFAGSLDDSISAASTSDVQDRLSALESRVQQQEDEITVLKAALA...  \n",
      "3401  MRSKARARKLAKSDGDVVNNMYEPNRDLLASHSAEDEAEDSAMSPI...  \n",
      "\n",
      "[3402 rows x 45 columns]\n"
     ]
    }
   ],
   "source": [
    "# 데이터 확인\n",
    "print(train_data_small)"
   ]
  },
  {
   "cell_type": "markdown",
   "id": "e70b6c04",
   "metadata": {},
   "source": [
    "**이제 다음 feature들만 가지고 학습 진행:**\n",
    "`index,Disease ID,Disease Name,Gene ID,GO_Terms,PDB_IDs,protein1,protein2,combined_score,uniprotAccession,proteinFullNames,sequence`"
   ]
  },
  {
   "cell_type": "code",
   "execution_count": null,
   "id": "746d1a27",
   "metadata": {},
   "outputs": [],
   "source": []
  }
 ],
 "metadata": {
  "kernelspec": {
   "display_name": "Python 3",
   "language": "python",
   "name": "python3"
  },
  "language_info": {
   "codemirror_mode": {
    "name": "ipython",
    "version": 3
   },
   "file_extension": ".py",
   "mimetype": "text/x-python",
   "name": "python",
   "nbconvert_exporter": "python",
   "pygments_lexer": "ipython3",
   "version": "3.13.2"
  }
 },
 "nbformat": 4,
 "nbformat_minor": 5
}
